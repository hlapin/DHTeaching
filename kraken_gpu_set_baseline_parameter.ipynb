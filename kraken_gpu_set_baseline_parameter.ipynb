{
  "nbformat": 4,
  "nbformat_minor": 0,
  "metadata": {
    "colab": {
      "name": "kraken gpu set baseline parameter",
      "provenance": [],
      "toc_visible": true,
      "authorship_tag": "ABX9TyPA9ggXJy+ByorPLliVWe3S",
      "include_colab_link": true
    },
    "kernelspec": {
      "name": "python3",
      "display_name": "Python 3"
    },
    "language_info": {
      "name": "python"
    }
  },
  "cells": [
    {
      "cell_type": "markdown",
      "metadata": {
        "id": "view-in-github",
        "colab_type": "text"
      },
      "source": [
        "<a href=\"https://colab.research.google.com/github/hlapin/DHTeaching/blob/master/kraken_gpu_set_baseline_parameter.ipynb\" target=\"_parent\"><img src=\"https://colab.research.google.com/assets/colab-badge.svg\" alt=\"Open In Colab\"/></a>"
      ]
    },
    {
      "cell_type": "markdown",
      "metadata": {
        "id": "yBa3VyWwxO4U"
      },
      "source": [
        "# Changing Baseline Parameters on Seg Models"
      ]
    },
    {
      "cell_type": "markdown",
      "metadata": {
        "id": "Gvnwl5rvXa0Q"
      },
      "source": [
        "# Setup\n",
        "\n",
        "This notebook walks through the process of setting baseline parameter for segmentation models using kraken OCR software. (https://github.com/mittagessen/kraken)    \n",
        "\n",
        "\n",
        "## GPU\n",
        "\n",
        "Use the `runtime` menu to select GPU rather than standard runtime\n",
        "\n",
        "## Files\n",
        "\n",
        "The notebook assumes that your Colab notebook is linked to Google Drive (instructions below) and that your google drive has the following structure:   \n",
        "\n",
        "````\n",
        "+-- Google Drive / My Drive\n",
        "|   +-- kraken_project_folder\n",
        "    |    +-- <your_project_name>\n",
        "         |   +-- recognition_training_xml\n",
        "         |   +-- seg_training_xml\n",
        "         |   +-- trained_recognition_models\n",
        "         |   +-- trained_seg_models                      \n",
        "    |    +-- kraken\n",
        "         |   +-- seg_models\n",
        "         |   +-- recognition_models \n",
        "````"
      ]
    },
    {
      "cell_type": "markdown",
      "metadata": {
        "id": "hf-cs7jCvKuZ"
      },
      "source": [
        "# Get kraken    \n",
        "\n",
        "Using pip"
      ]
    },
    {
      "cell_type": "markdown",
      "metadata": {
        "id": "aw8UOjU_vKua"
      },
      "source": [
        "### Skip this step  \n",
        "## Required libraries\n",
        "   \n",
        "Older versions of kraken required external libraries in order to run       \n",
        "    as of 7/6/21  unnecessary\n",
        "  "
      ]
    },
    {
      "cell_type": "code",
      "metadata": {
        "id": "UDhY80Y6vKub"
      },
      "source": [
        "!apt install libpangocairo-1.0 libxml2 libblas3 liblapack3 python3-dev python3-pip"
      ],
      "execution_count": null,
      "outputs": []
    },
    {
      "cell_type": "markdown",
      "metadata": {
        "id": "Oe8Pcld1vKud"
      },
      "source": [
        "### Skip this step  \n",
        "## Required versions of Python libraries\n",
        "\n",
        "Older versions of kraken depended on prior versions of Python libraries\n",
        ">   as of 7/6/21 this was not required\n",
        "````\n",
        "WARNING:root:scikit-learn version 0.22.2.post1 is not supported. Minimum required version: 0.17. Maximum required version: 0.19.2. Disabling scikit-learn conversion API.\n",
        "WARNING:root:TensorFlow version 2.4.1 detected. Last version known to be fully compatible is 2.3.1 .\n",
        "````\n"
      ]
    },
    {
      "cell_type": "code",
      "metadata": {
        "id": "-zraK-Y7vKud"
      },
      "source": [
        "!pip3 install scikit-learn==0.19.2\n",
        "!pip3 install TensorFlow===2.3.1"
      ],
      "execution_count": null,
      "outputs": []
    },
    {
      "cell_type": "markdown",
      "metadata": {
        "id": "CS-QA63duSZK"
      },
      "source": [
        "## Install kraken from github using PIP\n"
      ]
    },
    {
      "cell_type": "code",
      "metadata": {
        "id": "UfrqJqwAvKug"
      },
      "source": [
        "!pip install git+https://github.com/mittagessen/kraken.git"
      ],
      "execution_count": null,
      "outputs": []
    },
    {
      "cell_type": "markdown",
      "metadata": {
        "id": "UwK9SpILvKuh"
      },
      "source": [
        "Reassure myself that it is installed"
      ]
    },
    {
      "cell_type": "code",
      "metadata": {
        "id": "BqCz7NN5nA0z"
      },
      "source": [
        "# /check version \n",
        "!kraken --version"
      ],
      "execution_count": null,
      "outputs": []
    },
    {
      "cell_type": "code",
      "metadata": {
        "id": "sTND7lGLvKui"
      },
      "source": [
        "!which kraken #directory of main installation\n",
        "!~/.kraken # any other kraken-specific files?\n",
        "\n",
        "!kraken list #list of models "
      ],
      "execution_count": null,
      "outputs": []
    },
    {
      "cell_type": "markdown",
      "metadata": {
        "id": "60jGT36KvKui"
      },
      "source": [
        "## Connect to gdrive file directory    "
      ]
    },
    {
      "cell_type": "code",
      "metadata": {
        "id": "azoXne-gQUlr"
      },
      "source": [
        "import os, re\n",
        "from google.colab import files"
      ],
      "execution_count": null,
      "outputs": []
    },
    {
      "cell_type": "markdown",
      "metadata": {
        "id": "FDaVzamSvKuj"
      },
      "source": [
        "````\n",
        "from google.colab import drive\n",
        "drive.mount('/content/drive')\n",
        "````\n",
        "\n",
        "FOLLOWING MAY NOT BE NECESSARY    \n",
        "need to use following \"magic\" notation starting with %     \n",
        "\n",
        "switch to gdrive files\n",
        "````\n",
        "%cd gdrive/MyDrive/kraken_project_folder/\n",
        "# !pwd #print working directory\n",
        "````\n",
        "    \n",
        "switch to colab \"home\"\n",
        "````\n",
        "%cd /content/\n",
        "````\n",
        "\n"
      ]
    },
    {
      "cell_type": "code",
      "metadata": {
        "id": "U_Di4gWRvKuk"
      },
      "source": [
        "from google.colab import drive\n",
        "drive.mount('/content/drive')\n",
        "#%cd /content/drive/MyDrive/kraken_project_folder/paris_BNF328-329\n",
        "#%cd /content/drive/MyDrive/kraken_project_folder/maimonides_autograph\n",
        "%cd /content/drive/MyDrive/kraken_project_folder/naples\n",
        "!pwd"
      ],
      "execution_count": null,
      "outputs": []
    },
    {
      "cell_type": "code",
      "metadata": {
        "id": "Pty14-6WVYL0"
      },
      "source": [
        "%cd /content/drive/MyDrive/kraken_project_folder/\n",
        "# /content/drive/MyDrive/kraken_project_folder/kraken/kraken/contrib/set_seg_options.py\n",
        "# /content/drive/MyDrive/kraken_project_folder/kraken/seg_models/cbad_1800_compensated_50.mlmodel\n",
        "!python kraken/kraken/contrib/set_seg_options.py --topline kraken/seg_models/cbad_1800_compensated_50.mlmodel\n"
      ],
      "execution_count": null,
      "outputs": []
    },
    {
      "cell_type": "markdown",
      "metadata": {
        "id": "FmLABEizR0IN"
      },
      "source": [
        "# Update Seg Models for Topline  \n",
        "\n",
        "Since we are working with Hebrew, set baseline parameter for existing models to topline\n",
        "\n",
        "path to models\n",
        "\n",
        "````\n",
        "/content/drive/MyDrive/kraken_project_folder/kraken/kraken/seg_models/cbad_1800_compensated_50.mlmodel\n",
        "````\n",
        "\n",
        "path to script to update\n",
        "````\n",
        "/content/drive/MyDrive/kraken_project_folder/kraken/kraken/contrib/set_seg_options.py\n",
        "````"
      ]
    },
    {
      "cell_type": "code",
      "metadata": {
        "id": "MB6ycQ_yynhE"
      },
      "source": [
        "%cd /content/drive/MyDrive/kraken_project_folder/\n",
        "# /content/drive/MyDrive/kraken_project_folder/kraken/kraken/contrib/set_seg_options.py\n",
        "# /content/drive/MyDrive/kraken_project_folder/kraken/seg_models/cbad_1800_compensated_50.mlmodel\n",
        "!python kraken/kraken/contrib/set_seg_options.py --topline kraken/seg_models/cbad_1800_compensated_50.mlmodel\n"
      ],
      "execution_count": null,
      "outputs": []
    }
  ]
}