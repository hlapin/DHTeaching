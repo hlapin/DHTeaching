{
  "nbformat": 4,
  "nbformat_minor": 0,
  "metadata": {
    "colab": {
      "name": "Set Seg Model Parameter to Top/Center/Baseline",
      "provenance": [],
      "toc_visible": true,
      "authorship_tag": "ABX9TyOS0PrCpuvgma9p0Hx1txyr",
      "include_colab_link": true
    },
    "kernelspec": {
      "name": "python3",
      "display_name": "Python 3"
    },
    "language_info": {
      "name": "python"
    }
  },
  "cells": [
    {
      "cell_type": "markdown",
      "metadata": {
        "id": "view-in-github",
        "colab_type": "text"
      },
      "source": [
        "<a href=\"https://colab.research.google.com/github/hlapin/DHTeaching/blob/master/Set_Seg_Model_Parameter_to_Top_Center_Baseline.ipynb\" target=\"_parent\"><img src=\"https://colab.research.google.com/assets/colab-badge.svg\" alt=\"Open In Colab\"/></a>"
      ]
    },
    {
      "cell_type": "markdown",
      "metadata": {
        "id": "yBa3VyWwxO4U"
      },
      "source": [
        "# Changing Baseline Parameters on Seg Models"
      ]
    },
    {
      "cell_type": "markdown",
      "metadata": {
        "id": "Gvnwl5rvXa0Q"
      },
      "source": [
        "# Setup\n",
        "\n",
        "This notebook walks through the process of training text-recognition and segmentaiton models using kraken OCR software. (https://github.com/mittagessen/kraken)    \n",
        "It assumes that your Colab notebook is linked to Google Drive and that your google drive has the following structure:   \n",
        "\n",
        "## GPU\n",
        "\n",
        "Use the `runtime` menu to select GPU rather than standard runtime\n",
        "\n",
        "## Files\n",
        "\n",
        "````\n",
        "+-- Google Drive / My Drive\n",
        "|   +-- kraken_project_folder\n",
        "    |    +-- <your_project_name>\n",
        "         |   +-- recognition_training_xml\n",
        "         |   +-- seg_training_xml\n",
        "         |   +-- trained_recognition_models\n",
        "         |   +-- trained_seg_models                      \n",
        "    |    +-- kraken\n",
        "         |   +-- seg_models\n",
        "         |   +-- recognition_models \n",
        "````\n",
        "\n",
        "\n"
      ]
    },
    {
      "cell_type": "code",
      "metadata": {
        "id": "nULRxQL1_zzR"
      },
      "source": [
        "!pip3 install scikit-learn==0.19.2\n",
        "!pip3 install TensorFlow===2.3.1"
      ],
      "execution_count": null,
      "outputs": []
    },
    {
      "cell_type": "code",
      "metadata": {
        "id": "sUjFiQkMq1PV"
      },
      "source": [
        "# Installing from pip [as opposed to Conda] did work: but too much disk space?\n",
        "!pip install git+https://github.com/mittagessen/kraken.git"
      ],
      "execution_count": null,
      "outputs": []
    },
    {
      "cell_type": "markdown",
      "metadata": {
        "id": "dAG_BQIOkVxo"
      },
      "source": [
        "Reassure myself that it is installed"
      ]
    },
    {
      "cell_type": "code",
      "metadata": {
        "id": "Pozh-0oJtjfM"
      },
      "source": [
        "!kraken --version\n",
        "!which kraken #directory of main installation\n",
        "!~/.kraken # any other kraken-specific files?\n",
        "\n",
        "!kraken list #list of models "
      ],
      "execution_count": null,
      "outputs": []
    },
    {
      "cell_type": "code",
      "metadata": {
        "id": "HMN9zCjT9K9T"
      },
      "source": [
        "from google.colab import drive\n",
        "drive.mount('/content/drive')\n",
        "# %cd gdrive/MyDrive/kraken_project_folder/\n",
        "# !pwd #print working directory"
      ],
      "execution_count": null,
      "outputs": []
    },
    {
      "cell_type": "markdown",
      "metadata": {
        "id": "hf-cs7jCvKuZ"
      },
      "source": [
        "# Get kraken    \n",
        "Installing from from github with pip\n",
        "   \n",
        "Running on colab\n",
        "[see: https://github.com/mittagessen/kraken/issues/97 ]"
      ]
    },
    {
      "cell_type": "markdown",
      "metadata": {
        "id": "7HWhyEfEvKuZ"
      },
      "source": [
        "## Get kraken using pip\n",
        "Conda did not work -- problem with virtual environments\n"
      ]
    },
    {
      "cell_type": "markdown",
      "metadata": {
        "id": "aw8UOjU_vKua"
      },
      "source": [
        "### Skip this step  \n",
        "## Required libraries\n",
        "   \n",
        "Older versions of kraken required libraries external libraries        \n",
        "    as of 7/6/21  unnecessary\n",
        "  "
      ]
    },
    {
      "cell_type": "code",
      "metadata": {
        "id": "UDhY80Y6vKub"
      },
      "source": [
        "!apt install libpangocairo-1.0 libxml2 libblas3 liblapack3 python3-dev python3-pip"
      ],
      "execution_count": null,
      "outputs": []
    },
    {
      "cell_type": "markdown",
      "metadata": {
        "id": "Oe8Pcld1vKud"
      },
      "source": [
        "### Skip this step  \n",
        "## Required versions of Python libraries\n",
        "\n",
        "\n",
        "Get specific versions of libraries required by Kraken\n",
        "   as of 7/6/21 this was not required\n",
        "````\n",
        "WARNING:root:scikit-learn version 0.22.2.post1 is not supported. Minimum required version: 0.17. Maximum required version: 0.19.2. Disabling scikit-learn conversion API.\n",
        "WARNING:root:TensorFlow version 2.4.1 detected. Last version known to be fully compatible is 2.3.1 .\n",
        "````\n"
      ]
    },
    {
      "cell_type": "code",
      "metadata": {
        "id": "-zraK-Y7vKud"
      },
      "source": [
        "!pip3 install scikit-learn==0.19.2\n",
        "!pip3 install TensorFlow===2.3.1"
      ],
      "execution_count": null,
      "outputs": []
    },
    {
      "cell_type": "markdown",
      "metadata": {
        "id": "CS-QA63duSZK"
      },
      "source": [
        "## Install kraken from github using PIP\n"
      ]
    },
    {
      "cell_type": "code",
      "metadata": {
        "id": "UfrqJqwAvKug"
      },
      "source": [
        "!pip install git+https://github.com/mittagessen/kraken.git"
      ],
      "execution_count": null,
      "outputs": []
    },
    {
      "cell_type": "markdown",
      "metadata": {
        "id": "UwK9SpILvKuh"
      },
      "source": [
        "Reassure myself that it is installed"
      ]
    },
    {
      "cell_type": "code",
      "metadata": {
        "id": "BqCz7NN5nA0z"
      },
      "source": [
        "# /check version \n",
        "!kraken --version"
      ],
      "execution_count": null,
      "outputs": []
    },
    {
      "cell_type": "code",
      "metadata": {
        "id": "sTND7lGLvKui"
      },
      "source": [
        "!which kraken #directory of main installation\n",
        "!~/.kraken # any other kraken-specific files?\n",
        "\n",
        "!kraken list #list of models "
      ],
      "execution_count": null,
      "outputs": []
    },
    {
      "cell_type": "markdown",
      "metadata": {
        "id": "60jGT36KvKui"
      },
      "source": [
        "## Connect to gdrive file directory    "
      ]
    },
    {
      "cell_type": "code",
      "metadata": {
        "id": "azoXne-gQUlr"
      },
      "source": [
        "import os, re\n",
        "from google.colab import files"
      ],
      "execution_count": null,
      "outputs": []
    },
    {
      "cell_type": "markdown",
      "metadata": {
        "id": "FDaVzamSvKuj"
      },
      "source": [
        "````\n",
        "from google.colab import drive\n",
        "drive.mount('/content/drive')\n",
        "````\n",
        "\n",
        "FOLLOWING MAY NOT BE NECESSARY    \n",
        "need to use following \"magic\" notation starting with %     \n",
        "\n",
        "switch to gdrive files\n",
        "````\n",
        "%cd gdrive/MyDrive/kraken_project_folder/\n",
        "# !pwd #print working directory\n",
        "````\n",
        "    \n",
        "switch to colab \"home\"\n",
        "````\n",
        "%cd /content/\n",
        "````\n",
        "\n"
      ]
    },
    {
      "cell_type": "code",
      "metadata": {
        "id": "U_Di4gWRvKuk"
      },
      "source": [
        "\n",
        "\n",
        "from google.colab import drive\n",
        "drive.mount('/content/drive')\n",
        "#%cd /content/drive/MyDrive/kraken_project_folder/paris_BNF328-329\n",
        "#%cd /content/drive/MyDrive/kraken_project_folder/maimonides_autograph\n",
        "%cd /content/drive/MyDrive/kraken_project_folder/naples\n",
        "!pwd"
      ],
      "execution_count": null,
      "outputs": []
    },
    {
      "cell_type": "code",
      "metadata": {
        "id": "Pty14-6WVYL0"
      },
      "source": [
        "%cd /content/drive/MyDrive/kraken_project_folder/\n",
        "# /content/drive/MyDrive/kraken_project_folder/kraken/kraken/contrib/set_seg_options.py\n",
        "# /content/drive/MyDrive/kraken_project_folder/kraken/seg_models/cbad_1800_compensated_50.mlmodel\n",
        "!python kraken/kraken/contrib/set_seg_options.py --topline kraken/seg_models/cbad_1800_compensated_50.mlmodel\n"
      ],
      "execution_count": null,
      "outputs": []
    },
    {
      "cell_type": "code",
      "metadata": {
        "id": "8dSqqmJcxScE"
      },
      "source": [
        ""
      ],
      "execution_count": null,
      "outputs": []
    },
    {
      "cell_type": "markdown",
      "metadata": {
        "id": "FmLABEizR0IN"
      },
      "source": [
        "# Update Seg Models for Topline\n",
        "If not already done, update seg models for topline rather than baseline    \n",
        "\n",
        "path to models\n",
        "\n",
        "````\n",
        "/content/drive/MyDrive/kraken_project_folder/kraken/kraken/seg_models/cbad_1800_compensated_50.mlmodel\n",
        "````\n",
        "\n",
        "path to script to update\n",
        "````\n",
        "/content/drive/MyDrive/kraken_project_folder/kraken/kraken/contrib/set_seg_options.py\n",
        "````"
      ]
    },
    {
      "cell_type": "code",
      "metadata": {
        "id": "MB6ycQ_yynhE"
      },
      "source": [
        "%cd /content/drive/MyDrive/kraken_project_folder/\n",
        "# /content/drive/MyDrive/kraken_project_folder/kraken/kraken/contrib/set_seg_options.py\n",
        "# /content/drive/MyDrive/kraken_project_folder/kraken/seg_models/cbad_1800_compensated_50.mlmodel\n",
        "!python kraken/kraken/contrib/set_seg_options.py --topline kraken/seg_models/cbad_1800_compensated_50.mlmodel\n"
      ],
      "execution_count": null,
      "outputs": []
    }
  ]
}