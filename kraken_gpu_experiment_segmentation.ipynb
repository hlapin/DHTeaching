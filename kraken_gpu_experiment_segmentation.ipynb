{
  "nbformat": 4,
  "nbformat_minor": 0,
  "metadata": {
    "colab": {
      "name": "kraken gpu experiment -- segmentation",
      "provenance": [],
      "collapsed_sections": [],
      "toc_visible": true,
      "mount_file_id": "1pKOjvk7pe9_dze7Q7o1Id_Fm7XxMj07Y",
      "authorship_tag": "ABX9TyMGmnkCx2UIoLU4GlxjhV0w",
      "include_colab_link": true
    },
    "kernelspec": {
      "name": "python3",
      "display_name": "Python 3"
    },
    "accelerator": "GPU"
  },
  "cells": [
    {
      "cell_type": "markdown",
      "metadata": {
        "id": "view-in-github",
        "colab_type": "text"
      },
      "source": [
        "<a href=\"https://colab.research.google.com/github/hlapin/DHTeaching/blob/master/kraken_gpu_experiment_segmentation.ipynb\" target=\"_parent\"><img src=\"https://colab.research.google.com/assets/colab-badge.svg\" alt=\"Open In Colab\"/></a>"
      ]
    },
    {
      "cell_type": "markdown",
      "metadata": {
        "id": "SN5WScwz1c01"
      },
      "source": [
        "# Setup\n",
        "\n",
        "This notebook walks through the process of training text-recognition and segmentaiton models using kraken OCR software. (https://github.com/mittagessen/kraken)    \n",
        "It assumes that your Colab notebook is linked to Google Drive and that your google drive has the following structure:   \n",
        "\n",
        "## GPU\n",
        "\n",
        "Use the `runtime` menu to select GPU rather than standard runtime\n",
        "\n",
        "## Files\n",
        "\n",
        "````\n",
        "+-- Google Drive / My Drive\n",
        "|   +-- kraken_project_folder\n",
        "    |    +-- <your_project_name>\n",
        "         |   +-- recognition_training_xml\n",
        "         |   +-- seg_training_xml\n",
        "         |   +-- trained_recognition_models\n",
        "         |   +-- trained_seg_models                      \n",
        "    |    +-- kraken\n",
        "         |   +-- seg_models\n",
        "         |   +-- recognition_models \n",
        "````"
      ]
    },
    {
      "cell_type": "code",
      "metadata": {
        "id": "nULRxQL1_zzR"
      },
      "source": [
        "!pip3 install scikit-learn==0.19.2\n",
        "!pip3 install TensorFlow===2.3.1"
      ],
      "execution_count": null,
      "outputs": []
    },
    {
      "cell_type": "code",
      "metadata": {
        "id": "sUjFiQkMq1PV"
      },
      "source": [
        "# Installing from pip [as opposed to Conda] did work: but too much disk space?\n",
        "!pip install git+https://github.com/mittagessen/kraken.git"
      ],
      "execution_count": null,
      "outputs": []
    },
    {
      "cell_type": "markdown",
      "metadata": {
        "id": "dAG_BQIOkVxo"
      },
      "source": [
        "Reassure myself that it is installed"
      ]
    },
    {
      "cell_type": "code",
      "metadata": {
        "id": "Pozh-0oJtjfM"
      },
      "source": [
        "!kraken --version\n",
        "!which kraken #directory of main installation\n",
        "!~/.kraken # any other kraken-specific files?\n",
        "\n",
        "!kraken list #list of models "
      ],
      "execution_count": null,
      "outputs": []
    },
    {
      "cell_type": "code",
      "metadata": {
        "id": "HMN9zCjT9K9T"
      },
      "source": [
        "from google.colab import drive\n",
        "drive.mount('/content/drive')\n",
        "# %cd gdrive/MyDrive/kraken_project_folder/\n",
        "# !pwd #print working directory"
      ],
      "execution_count": null,
      "outputs": []
    },
    {
      "cell_type": "markdown",
      "metadata": {
        "id": "7HWhyEfEvKuZ"
      },
      "source": [
        "# Get kraken using pip\n",
        "Conda did not work -- problem with virtual environments\n"
      ]
    },
    {
      "cell_type": "markdown",
      "metadata": {
        "id": "aw8UOjU_vKua"
      },
      "source": [
        "### Skip this step  \n",
        "## Required libraries\n",
        "   \n",
        "Older versions of kraken required libraries external libraries        \n",
        "    as of 7/6/21  unnecessary\n",
        "  "
      ]
    },
    {
      "cell_type": "code",
      "metadata": {
        "id": "UDhY80Y6vKub"
      },
      "source": [
        "!apt install libpangocairo-1.0 libxml2 libblas3 liblapack3 python3-dev python3-pip"
      ],
      "execution_count": null,
      "outputs": []
    },
    {
      "cell_type": "markdown",
      "metadata": {
        "id": "Oe8Pcld1vKud"
      },
      "source": [
        "### Skip this step  \n",
        "## Required versions of Python libraries\n",
        "\n",
        "\n",
        "Get specific versions of libraries required by Kraken\n",
        "   as of 7/6/21 this was not required\n",
        "````\n",
        "WARNING:root:scikit-learn version 0.22.2.post1 is not supported. Minimum required version: 0.17. Maximum required version: 0.19.2. Disabling scikit-learn conversion API.\n",
        "WARNING:root:TensorFlow version 2.4.1 detected. Last version known to be fully compatible is 2.3.1 .\n",
        "````\n"
      ]
    },
    {
      "cell_type": "code",
      "metadata": {
        "id": "-zraK-Y7vKud"
      },
      "source": [
        "!pip3 install scikit-learn==0.19.2\n",
        "!pip3 install TensorFlow===2.3.1"
      ],
      "execution_count": null,
      "outputs": []
    },
    {
      "cell_type": "markdown",
      "metadata": {
        "id": "CS-QA63duSZK"
      },
      "source": [
        "## Install kraken from github using PIP\n"
      ]
    },
    {
      "cell_type": "code",
      "metadata": {
        "id": "UfrqJqwAvKug"
      },
      "source": [
        "\n",
        "!pip install git+https://github.com/mittagessen/kraken.git"
      ],
      "execution_count": null,
      "outputs": []
    },
    {
      "cell_type": "markdown",
      "metadata": {
        "id": "UwK9SpILvKuh"
      },
      "source": [
        "Reassure myself that it is installed"
      ]
    },
    {
      "cell_type": "code",
      "metadata": {
        "id": "BqCz7NN5nA0z"
      },
      "source": [
        "# /check version \n",
        "!kraken --version"
      ],
      "execution_count": null,
      "outputs": []
    },
    {
      "cell_type": "code",
      "metadata": {
        "id": "sTND7lGLvKui"
      },
      "source": [
        "!which kraken #directory of main installation\n",
        "!~/.kraken # any other kraken-specific files?\n",
        "\n",
        "!kraken list #list of models "
      ],
      "execution_count": null,
      "outputs": []
    },
    {
      "cell_type": "markdown",
      "metadata": {
        "id": "60jGT36KvKui"
      },
      "source": [
        "# Connect to gdrive file directory    "
      ]
    },
    {
      "cell_type": "markdown",
      "metadata": {
        "id": "FDaVzamSvKuj"
      },
      "source": [
        "````\n",
        "from google.colab import drive\n",
        "drive.mount('/content/drive')\n",
        "````\n",
        "\n",
        "FOLLOWING MAY NOT BE NECESSARY    \n",
        "need to use following \"magic\" notation starting with %     \n",
        "\n",
        "switch to gdrive files\n",
        "````\n",
        "%cd gdrive/MyDrive/kraken_project_folder/\n",
        "# !pwd #print working directory\n",
        "````\n",
        "    \n",
        "switch to colab \"home\"\n",
        "````\n",
        "%cd /content/\n",
        "````\n",
        "\n"
      ]
    },
    {
      "cell_type": "code",
      "metadata": {
        "id": "U_Di4gWRvKuk"
      },
      "source": [
        "\n",
        "\n",
        "from google.colab import drive\n",
        "drive.mount('/content/drive')\n",
        "#%cd /content/drive/MyDrive/kraken_project_folder/paris_BNF328-329\n",
        "#%cd /content/drive/MyDrive/kraken_project_folder/maimonides_autograph\n",
        "%cd /content/drive/MyDrive/kraken_project_folder/naples\n",
        "!pwd"
      ],
      "execution_count": null,
      "outputs": []
    },
    {
      "cell_type": "markdown",
      "metadata": {
        "id": "hltDXVf4VXkK"
      },
      "source": [
        ""
      ]
    },
    {
      "cell_type": "markdown",
      "metadata": {
        "id": "1sDTB6QvBfS1"
      },
      "source": [
        "# Setup for Segmentation Training\n",
        "\n",
        "\n",
        "\n",
        "\n"
      ]
    },
    {
      "cell_type": "code",
      "metadata": {
        "id": "W6a6Yud8DiZQ"
      },
      "source": [
        "# proj_path = \"/content/drive/MyDrive/kraken_project_folder/\"\n",
        "home = \"/content/drive/MyDrive/kraken_project_folder/\"\n",
        "seg_models_path =  home + \"kraken/seg_models/\"\n",
        "proj_name = \"Qafah_maimon\"\n",
        "training = home + proj_name + \"/seg_training_xml/\"\n",
        "out = home + proj_name + \"/trained_seg_models/\"\n",
        "\n",
        "\n",
        "\n",
        "# rather than above, %cd to  make {home}{proj_name} the working directory\n",
        "# then can use shorter relative paths\n",
        "\n",
        "seg_model = \"siddurim_114_55_tl.mlmodel\"\n",
        "trial = \"_2021_07_20_multi_line_type_1\""
      ],
      "execution_count": null,
      "outputs": []
    },
    {
      "cell_type": "code",
      "metadata": {
        "id": "QzJJG1D0-T0T"
      },
      "source": [
        "!ls $seg_models_path\n"
      ],
      "execution_count": null,
      "outputs": []
    },
    {
      "cell_type": "code",
      "metadata": {
        "id": "C8hmRjwi5mG7"
      },
      "source": [
        "# sanity test\n",
        "print(seg_models_path)\n",
        "print(training)\n",
        "print(home)\n",
        "print(seg_model)\n",
        "print(proj_name)\n",
        "print(trial)\n"
      ],
      "execution_count": null,
      "outputs": []
    },
    {
      "cell_type": "markdown",
      "metadata": {
        "id": "6wIzHYBtGSIw"
      },
      "source": [
        "Get xml list "
      ]
    },
    {
      "cell_type": "code",
      "metadata": {
        "id": "RIcMLl8pKqYy"
      },
      "source": [
        "## ls path/*.xml | sort -R > whatever.xmllist\n",
        "#!ls /content/drive/MyDrive/kraken_project_folder/paris_BNF328_329/seg_training_xml/*.xml \\\n",
        "#| sort -R > naples.xmllist\n",
        "\n",
        "\n",
        "# xmllist = training + \"*.xml  | sort -R > \" + training + proj_name + \".txt\"\n",
        "# xmllist\n",
        "\n",
        "!ls {training}*.xml \\\n",
        " | sort -R > {training}{proj_name}.txt\n",
        "\n",
        "# verify that there\n",
        "!ls /content/drive/MyDrive/kraken_project_folder/Qafah_maimon/seg_training_xml/*.txt"
      ],
      "execution_count": null,
      "outputs": []
    },
    {
      "cell_type": "markdown",
      "metadata": {
        "id": "LVocCfJdHhsM"
      },
      "source": [
        "## Should really set up train and test data for consistent comparisons \n",
        "\n",
        "Currently training and testing on the same data. Justification: dataset for seg training is small anyway ..."
      ]
    },
    {
      "cell_type": "markdown",
      "metadata": {
        "id": "LEQuZxyo3cAU"
      },
      "source": [
        "# Segmentation training with kraken\n",
        "see cheatsheet for options   \n",
        "for first run using early stopping   \n",
        "letting kraken set number of threads by default"
      ]
    },
    {
      "cell_type": "code",
      "metadata": {
        "id": "FviKBsUqz_uf"
      },
      "source": [
        "!ls {training}{proj_name}.txt "
      ],
      "execution_count": null,
      "outputs": []
    },
    {
      "cell_type": "code",
      "metadata": {
        "id": "BMaN1QmlHTpD"
      },
      "source": [
        "#needs to be customize for project\n",
        "!ketos segtrain \\\n",
        "-tl \\\n",
        "-o {out}{proj_name}{trial}_ \\\n",
        "-i {seg_models_path}{seg_model} \\\n",
        "-t {training}{proj_name}.txt \\\n",
        "-e {training}{proj_name}.txt \\\n",
        "--quit early \\\n",
        "-f alto \\\n",
        "-d cuda:0 \\\n",
        "--resize both \\\n",
        "-tl\\\n",
        "-vr Main \\\n",
        "-vr Commentary \\\n",
        "-vr CommentaryLeft \\\n",
        "-vr Paratext \\\n",
        "-vr Notes \\\n",
        "-vr NotesLeft \\\n",
        "-vr Illustration \\\n",
        "-vb Main \\\n",
        "-vb Commentary \\\n",
        "-vb CommentaryLeft \\\n",
        "-vb Paratext \\\n",
        "-vb Reference \\\n",
        "-vb Notes \\\n",
        "-vb NotesLeft \n",
        "\n",
        "# -mr Commentary:CommentaryLeft \\\n",
        "# -mr Commentary:NotesLeft \\\n",
        "# -mr Commentary:Notes ## for now merge them all\n",
        "# -vr Illustration \\\n",
        "# -vb Main \\\n",
        "# -vb Commentary \\\n",
        "# -vb Margin\n",
        "# -mr Paratext:Margin #Paratext:Title Paratext:Running Head"
      ],
      "execution_count": null,
      "outputs": []
    },
    {
      "cell_type": "markdown",
      "metadata": {
        "id": "jdEOVmT52ddw"
      },
      "source": [
        ""
      ]
    },
    {
      "cell_type": "code",
      "metadata": {
        "id": "3RdKfZdXkRSc"
      },
      "source": [
        "!ketos segtrain --help"
      ],
      "execution_count": null,
      "outputs": []
    },
    {
      "cell_type": "markdown",
      "metadata": {
        "id": "mDGQb2Zvs2oz"
      },
      "source": [
        ""
      ]
    }
  ]
}