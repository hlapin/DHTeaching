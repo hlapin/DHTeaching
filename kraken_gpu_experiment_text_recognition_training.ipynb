{
  "nbformat": 4,
  "nbformat_minor": 0,
  "metadata": {
    "colab": {
      "name": "kraken gpu experiment -- text recognition training",
      "provenance": [],
      "collapsed_sections": [],
      "toc_visible": true,
      "include_colab_link": true
    },
    "kernelspec": {
      "name": "python3",
      "display_name": "Python 3"
    },
    "accelerator": "GPU"
  },
  "cells": [
    {
      "cell_type": "markdown",
      "metadata": {
        "id": "view-in-github",
        "colab_type": "text"
      },
      "source": [
        "<a href=\"https://colab.research.google.com/github/hlapin/DHTeaching/blob/master/kraken_gpu_experiment_text_recognition_training.ipynb\" target=\"_parent\"><img src=\"https://colab.research.google.com/assets/colab-badge.svg\" alt=\"Open In Colab\"/></a>"
      ]
    },
    {
      "cell_type": "markdown",
      "metadata": {
        "id": "Gvnwl5rvXa0Q"
      },
      "source": [
        "# Setup\n",
        "\n",
        "This notebook walks through the process of training text-recognition and segmentaiton models using kraken OCR software. (https://github.com/mittagessen/kraken)    \n",
        "\n",
        "\n",
        "## GPU\n",
        "The notebook assumes that your Colab notebook is linked to Google Drive (instructions below) and that your google drive has the following structure:   \n",
        "\n",
        "Use the `runtime` menu to select GPU rather than standard runtime\n",
        "\n",
        "## Files\n",
        "\n",
        "````\n",
        "+-- Google Drive / My Drive\n",
        "|   +-- kraken_project_folder\n",
        "    |    +-- <your_project_name>\n",
        "         |   +-- recognition_training_xml\n",
        "         |   +-- seg_training_xml\n",
        "         |   +-- trained_recognition_models\n",
        "         |   +-- trained_seg_models                      \n",
        "    |    +-- kraken\n",
        "         |   +-- seg_models\n",
        "         |   +-- recognition_models \n",
        "````"
      ]
    },
    {
      "cell_type": "markdown",
      "metadata": {
        "id": "O9kTl5ess0uG"
      },
      "source": [
        "# Get kraken using pip\n",
        "Conda did not work -- problem with virtual environments in Colab\n"
      ]
    },
    {
      "cell_type": "markdown",
      "metadata": {
        "id": "5m5wzlLa2wjS"
      },
      "source": [
        "### Skip this step  \n",
        "## Required libraries\n",
        "   \n",
        "Older versions of kraken required libraries external libraries        \n",
        "    as of 7/6/21  unnecessary\n",
        "  "
      ]
    },
    {
      "cell_type": "code",
      "metadata": {
        "id": "lAY8Sj_pqG70"
      },
      "source": [
        "!apt install libpangocairo-1.0 libxml2 libblas3 liblapack3 python3-dev python3-pip"
      ],
      "execution_count": null,
      "outputs": []
    },
    {
      "cell_type": "markdown",
      "metadata": {
        "id": "Kr5fUj8-_lY0"
      },
      "source": [
        "### Skip this step  \n",
        "## Required versions of Python libraries\n",
        "\n",
        "\n",
        "Get specific versions of libraries required by Kraken\n",
        "   as of 7/6/21 this was not required\n",
        "````\n",
        "WARNING:root:scikit-learn version 0.22.2.post1 is not supported. Minimum required version: 0.17. Maximum required version: 0.19.2. Disabling scikit-learn conversion API.\n",
        "WARNING:root:TensorFlow version 2.4.1 detected. Last version known to be fully compatible is 2.3.1 .\n",
        "````\n"
      ]
    },
    {
      "cell_type": "code",
      "metadata": {
        "id": "nULRxQL1_zzR"
      },
      "source": [
        "!pip3 install scikit-learn==0.19.2\n",
        "!pip3 install TensorFlow===2.3.1"
      ],
      "execution_count": null,
      "outputs": []
    },
    {
      "cell_type": "markdown",
      "metadata": {
        "id": "CS-QA63duSZK"
      },
      "source": [
        "## Install kraken from github using PIP\n"
      ]
    },
    {
      "cell_type": "code",
      "metadata": {
        "id": "sUjFiQkMq1PV"
      },
      "source": [
        "!pip install git+https://github.com/mittagessen/kraken.git"
      ],
      "execution_count": null,
      "outputs": []
    },
    {
      "cell_type": "markdown",
      "metadata": {
        "id": "dAG_BQIOkVxo"
      },
      "source": [
        "Reassure myself that it is installed"
      ]
    },
    {
      "cell_type": "code",
      "metadata": {
        "id": "BqCz7NN5nA0z"
      },
      "source": [
        "# /check version \n",
        "!kraken --version"
      ],
      "execution_count": null,
      "outputs": []
    },
    {
      "cell_type": "code",
      "metadata": {
        "id": "Pozh-0oJtjfM"
      },
      "source": [
        "!which kraken #directory of main installation\n",
        "!~/.kraken # any other kraken-specific files?\n",
        "\n",
        "!kraken list #list of models "
      ],
      "execution_count": null,
      "outputs": []
    },
    {
      "cell_type": "markdown",
      "metadata": {
        "id": "LWBHrY6m3TSx"
      },
      "source": [
        "# Connect to gdrive file directory    "
      ]
    },
    {
      "cell_type": "markdown",
      "metadata": {
        "id": "yT06tml4s7MT"
      },
      "source": [
        "````\n",
        "from google.colab import drive\n",
        "drive.mount('/content/drive')\n",
        "````\n",
        "\n",
        "FOLLOWING MAY NOT BE NECESSARY    \n",
        "need to use following \"magic\" notation starting with %     \n",
        "\n",
        "switch to gdrive files\n",
        "````\n",
        "%cd gdrive/MyDrive/kraken_project_folder/\n",
        "# !pwd #print working directory\n",
        "````\n",
        "    \n",
        "switch to colab \"home\"\n",
        "````\n",
        "%cd /content/\n",
        "````\n",
        "\n"
      ]
    },
    {
      "cell_type": "code",
      "metadata": {
        "id": "HMN9zCjT9K9T"
      },
      "source": [
        "from google.colab import drive\n",
        "drive.mount('/content/drive')\n",
        "#%cd /content/drive/MyDrive/kraken_project_folder/paris_BNF328-329\n",
        "#%cd /content/drive/MyDrive/kraken_project_folder/maimonides_autograph\n",
        "%cd /content/drive/MyDrive/kraken_project_folder/naples\n",
        "!pwd"
      ],
      "execution_count": null,
      "outputs": []
    },
    {
      "cell_type": "markdown",
      "metadata": {
        "id": "70GRjJs7BIUd"
      },
      "source": [
        "# Setup for recognition training\n",
        "````\n",
        "ls path/*.xml | sort -R > whatever.xmllist\n",
        "cat whatever.xmllist | wc -l  \n",
        "split whatever.xmllist -l num_lines\n",
        "mv xaa whatever_train.xmllist\n",
        "mv xab whatever_test.xmllist\n",
        "````"
      ]
    },
    {
      "cell_type": "code",
      "metadata": {
        "id": "AwnSxXpV2--8"
      },
      "source": [
        "#path variables\n",
        "project_name = \"naples\"\n",
        "trial = \"2021_05_14_1_\"\n",
        "recog_model = \"sinai_no_voc_61.mlmodel\""
      ],
      "execution_count": null,
      "outputs": []
    },
    {
      "cell_type": "code",
      "metadata": {
        "id": "BP1G1e40zKop"
      },
      "source": [
        "# get training data from already downloaded from escriptorium\n",
        "\n",
        "!ls recognition_training_xml/*.xml | sort -R \\\n",
        "> recognition_training_xml/{project_name}_xml.txt"
      ],
      "execution_count": null,
      "outputs": []
    },
    {
      "cell_type": "code",
      "metadata": {
        "id": "xcpK_-5cQevl"
      },
      "source": [
        "# how many lines in xmllist?\n",
        "!cat recognition_training_xml/{project_name}_xml.txt | wc -l "
      ],
      "execution_count": null,
      "outputs": []
    },
    {
      "cell_type": "markdown",
      "metadata": {
        "id": "X23GY0nKRYs_"
      },
      "source": [
        "Explicit test and training data\n",
        "\n",
        "Set, e.g., 90% to training, and 10% to testing"
      ]
    },
    {
      "cell_type": "code",
      "metadata": {
        "id": "RNHppWYrRocE"
      },
      "source": [
        "# In test case 18 lines in naples_xml.txt\n",
        "# 90% = 16\n",
        "!split recognition_training_xml/{project_name}_xml.txt -l 18\n",
        "!mv xaa recognition_training_xml/{project_name}_xml_train.txt\n",
        "!mv xab recognition_training_xml/{project_name}_xml_test.txt\n",
        "!ls recognition_training_xml/"
      ],
      "execution_count": null,
      "outputs": []
    },
    {
      "cell_type": "code",
      "metadata": {
        "id": "cPi3ZnlhGQ5l"
      },
      "source": [
        "# verify that there\n",
        "!ls recognition_training_xml/{project_name}_xml.txt"
      ],
      "execution_count": null,
      "outputs": []
    },
    {
      "cell_type": "markdown",
      "metadata": {
        "id": "LEQuZxyo3cAU"
      },
      "source": [
        "# Recognition training with kraken\n"
      ]
    },
    {
      "cell_type": "markdown",
      "metadata": {
        "id": "FUxGCVcVIE8x"
      },
      "source": [
        "##Train from scratch   \n",
        "Next cell: no upload of existing model"
      ]
    },
    {
      "cell_type": "code",
      "metadata": {
        "id": "qFFtQpC001oN"
      },
      "source": [
        "!ketos -v train  \\\n",
        "-o trained_recognition_models/{project_name}_scratch_2 \\\n",
        "-t recognition_training_xml/{project_name}_xml.txt \\\n",
        "-q early \\\n",
        "--normalize-whitespace \\\n",
        "--reorder \\\n",
        "-f alto \\\n",
        "--partition 0.9 \\\n",
        "-d cuda:0\n"
      ],
      "execution_count": null,
      "outputs": []
    },
    {
      "cell_type": "markdown",
      "metadata": {
        "id": "OMh8eFzaIfCW"
      },
      "source": [
        "##Training on top of existing model\n",
        "\n",
        "-i or --load : loads existing model   \n",
        "--force binarization [recommendation of kraken; throws an error]  \n",
        "--append: remove layers from original model [need to learn how to apply]"
      ]
    },
    {
      "cell_type": "code",
      "metadata": {
        "id": "U-l3eOSNzan-"
      },
      "source": [
        "!ketos train \\\n",
        "-o trained_recognition_models/{project_name}_{trial} \\\n",
        "-t recognition_training_xml/{project_name}_xml_train.txt \\\n",
        "-e recognition_training_xml/{project_name}_xml_test.txt \\\n",
        "-q early \\\n",
        "--normalize-whitespace \\\n",
        "--reorder \\\n",
        "-f alto \\\n",
        "-d cuda:0 \\\n",
        "--resize add \\\n",
        "-i ../kraken/recognition_models/{recog_model}  \\\n",
        "-r 0.0001 \\\n",
        "-B 1 # batchsize\n",
        "# --append 7\n",
        "# --force-binarization throws an error"
      ],
      "execution_count": null,
      "outputs": []
    },
    {
      "cell_type": "markdown",
      "metadata": {
        "id": "5FBj2lZP8rPL"
      },
      "source": [
        "\n",
        "!ketos test -e recognition_training_xml/naples_xml_test.txt -\n",
        "\n",
        "trained_recognition_models/{project_name}_{trial}_best.mlmodel\n"
      ]
    },
    {
      "cell_type": "code",
      "metadata": {
        "id": "bwcOL9WAkgZS"
      },
      "source": [
        "!ketos test \\\n",
        "-f xml \\\n",
        "-e recognition_training_xml/{project_name}_xml.txt \\\n",
        "-m trained_recognition_models/{project_name}_{trial}_best.mlmodel"
      ],
      "execution_count": null,
      "outputs": []
    }
  ]
}