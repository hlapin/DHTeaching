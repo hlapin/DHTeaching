{
  "nbformat": 4,
  "nbformat_minor": 0,
  "metadata": {
    "colab": {
      "provenance": [],
      "toc_visible": true,
      "authorship_tag": "ABX9TyMOwB8ofGh2MNOhysn/7Hsc",
      "include_colab_link": true
    },
    "kernelspec": {
      "name": "python3",
      "display_name": "Python 3"
    },
    "gpuClass": "standard"
  },
  "cells": [
    {
      "cell_type": "markdown",
      "metadata": {
        "id": "view-in-github",
        "colab_type": "text"
      },
      "source": [
        "<a href=\"https://colab.research.google.com/github/hlapin/DHTeaching/blob/master/Getting_Started_With_Text_Mining_Stylometry%2C_TF_IDF%2C_Topic_Modelling.ipynb\" target=\"_parent\"><img src=\"https://colab.research.google.com/assets/colab-badge.svg\" alt=\"Open In Colab\"/></a>"
      ]
    },
    {
      "cell_type": "markdown",
      "metadata": {
        "id": "aBagCN6tmFeW"
      },
      "source": [
        "# Introduction\n",
        "This colab notebook was prepared for teaching purposes for a session on text mining in a course on digital tools in historical research.  \n",
        "For data, the examples use the text of the *Federalist Papers*.   \n",
        "Much of what follows is derivative of resources available on the web, although I have revised material for display or pedagogical purposes. In particular I have made use of the tutorial on stylometry at _The Programing Historian_:\n",
        "> https://programminghistorian.org/en/lessons/introduction-to-stylometry-with-python   \n",
        "\n",
        "(The goal has been to provide \"plug-and-play\" demonstrations, leaving space and time open for discussion of methods and concepts.)\n",
        "For those of you new to Colab/Jupyter, there are text blocks, code blocks, and--after running code--output blocks. Subsections may be hidden by default, but `ctrl+[` should expand all sections and `ctrl+]` collapse them.    \n",
        "You should not need to write any code (although you are welcome to experiment!): just click the run (play arrow) button at the top left of each code block. You generally ***do*** need to run the code blocks in order.  "
      ]
    },
    {
      "cell_type": "markdown",
      "metadata": {
        "id": "ZjUGJpdg-Qi5"
      },
      "source": [
        "# Getting the text\n",
        "We are going to be working with the Federalist Papers  \n",
        "We need to:\n",
        "1. Download a zip file from github (Programming Historian repository)\n",
        "2. Unzip it and\n",
        "3. Unpack the files in a local [to Colab] folder\n"
      ]
    },
    {
      "cell_type": "code",
      "metadata": {
        "id": "V5VYgHAGFL4C"
      },
      "source": [
        "import requests, io, zipfile, os\n",
        "os.chdir ('/content/') # changes working directory on local machine\n",
        "r = requests.get('https://github.com/programminghistorian/ph-submissions/blob/gh-pages/assets/introduction-to-stylometry-with-python/stylometry-federalist.zip?raw=true')\n",
        "z = zipfile.ZipFile(io.BytesIO(r.content))\n",
        "z.extractall()\n",
        "\n"
      ],
      "execution_count": null,
      "outputs": []
    },
    {
      "cell_type": "markdown",
      "metadata": {
        "id": "4Tc2wcWXMrZc"
      },
      "source": [
        "There is now a local file on the virtual machine you are using called `data` with the downloaded files.   \n",
        "You can check that in the files tools in the left hand panel:    \n",
        "> ![Screenshot 2023-04-05 131338.png](data:image/png;base64,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)    \n",
        "\n",
        "However, let's set the working directory to that directory and list its contents programmatically.\n"
      ]
    },
    {
      "cell_type": "code",
      "source": [
        "os.chdir('/content/data/')\n",
        "os.listdir()"
      ],
      "metadata": {
        "id": "d9FbWXA2KzkX"
      },
      "execution_count": null,
      "outputs": []
    },
    {
      "cell_type": "markdown",
      "metadata": {
        "id": "0giYZI2WlYjN"
      },
      "source": [
        "## Text to Dataframe\n",
        "Now we are going to read each of the individual chapters into a table (a pandas dataframe, `dfPapers`) where each row is a document and that has the column headings `file_name` and `text`.\n",
        "\n",
        "For later use we are going to create a column `num` that has only the numerical part of the paper's name (`8` for `Federalist_8`) and we are going to extract an approximation of the document's title (the third line in each document; that will go into the column `title`)."
      ]
    },
    {
      "cell_type": "code",
      "metadata": {
        "id": "iJWhHkFuRJNR"
      },
      "source": [
        "import pandas as pd # pandas is a data structure library\n",
        "import glob         # finds all pathnames matching a specific pattern\n",
        "\n",
        "\n",
        "# create an dataframe with each document as a row\n",
        "# we start by creating a \"dictionary\" to represent the columns\n",
        "results = {\"file_name\":[],\"num\":[],\"title\":[],\"text\":[]}\n",
        "\n",
        "for item in glob.glob('*[0-9].txt'):  # read only files with names ending\n",
        "                                      # with numerals.Why?\n",
        "\n",
        "   # each `item` is a path that matches the pattern, e.g., 'Federalist_8.txt'\n",
        "\n",
        "   # below, the function split() splits a string into substrings based on\n",
        "   # a specified separator.\n",
        "   # [In Python, the first item in a list is indexed as 0 rather than 1]\n",
        "\n",
        "   short = item.split('.')[0]           # grab filename without '.txt'\n",
        "   paperNum = int(short.split('_')[1])  # grab the numeral after '_'\n",
        "   with open(item, \"r\") as file_open:\n",
        "     txt = file_open.read()\n",
        "     results[\"file_name\"].append(short)\n",
        "     results[\"num\"].append(paperNum)\n",
        "     results[\"title\"].append(txt.split('\\n')[2])\n",
        "     results[\"text\"].append(txt.replace('\\n', ' '))\n",
        "\n",
        "# pandas has built in abilities to convert dictionaries to dataframes\n",
        "dfPapers = pd.DataFrame(results)\n",
        "dfPapers = dfPapers.sort_values([\"num\"])\n",
        "dfPapers = dfPapers.reset_index(drop=True)\n",
        "\n",
        "#let's check that we got the documents into shape\n",
        "dfPapers"
      ],
      "execution_count": null,
      "outputs": []
    },
    {
      "cell_type": "markdown",
      "metadata": {
        "id": "hWozCPbBokdF"
      },
      "source": [
        "## A Bit of Cleanup\n",
        "Let's remove punctuation and convert all upper case to lower case, and then print a sample of our data to if we got it right.  \n",
        "> *Regular expressions* (often `regex`) refers to a set of operations on text that can be defined by patterns (a valid email address is an unbroken string, followed by '@' followed by a domain and one of a number of valid suffixes (.org, .edu, .ac.uk). For an example of how complex the regex may be to capture \"all\" emails see: https://regex101.com/library/8pGQaK\n",
        "\n",
        "\n"
      ]
    },
    {
      "cell_type": "code",
      "metadata": {
        "id": "9yXp9DXZoXk8"
      },
      "source": [
        "import re #re is the module that does regular expression operations\n",
        "\n",
        "# note that pandas allows us to operate on all the cells in a column\n",
        "# of a dataframe by filtering by column label: dfPapers['text']\n",
        "\n",
        "# regularize spacing:\n",
        "# replace one or more line breaks or spaces with single space\n",
        "dfPapers['text'] = dfPapers['text'].map(lambda x:\n",
        "                                    re.sub(r\"\\s+\", ' ', x))\n",
        "\n",
        "# remove punctuation, numerals, etc. This time replace with no space\n",
        "dfPapers['text'] = dfPapers['text'].map(lambda x:\n",
        "                                    re.sub(r\"[\\d\\'\\\"\\(\\)\\:;,\\.!?‘’“”]\", '', x))\n",
        "\n",
        "# convert characters to lower case\n",
        "dfPapers['text'] = dfPapers['text'].map(lambda x: x.lower())\n",
        "\n",
        "# again, let's check that we got the documents into proper shape\n",
        "dfPapers"
      ],
      "execution_count": null,
      "outputs": []
    },
    {
      "cell_type": "markdown",
      "metadata": {
        "id": "yMXhkotPt7Cj"
      },
      "source": [
        "# Some Exploratory Analysis\n",
        "First we are going to do some exploratory text analysis by making a word cloud.  \n",
        "How does the model select words to present?"
      ]
    },
    {
      "cell_type": "markdown",
      "metadata": {
        "id": "Cd4b_a82y0xK"
      },
      "source": [
        "## Frequency vs significance\n",
        "In a word cloud, frequency determines the size of the word, but:\n",
        "* Is it really modelling the ***most frequent*** words?\n",
        "* What is the problem with words like may, will?\n",
        "\n",
        "The python library that does the work for us has a default set of `stopwords`: very common words that it filters out."
      ]
    },
    {
      "cell_type": "code",
      "metadata": {
        "id": "a-Sljwkkv5Vd"
      },
      "source": [
        "from wordcloud import WordCloud\n",
        "\n",
        "# code adapted from https://towardsdatascience.com/end-to-end-topic-modeling-in-python-latent-dirichlet-allocation-lda-35ce4ed6b3e0\n",
        "# See also: https://towardsdatascience.com/generate-meaningful-word-clouds-in-python-5b85f5668eeb\n",
        "\n",
        "# Join the different processed titles together into one long text.\n",
        "long_string = ','.join(list(dfPapers['text'].values))\n",
        "\n",
        "# Create a WordCloud object\n",
        "# You can change the parameters below\n",
        "wordcloud = WordCloud(background_color=\"white\",\n",
        "                        max_words=100,\n",
        "                        contour_width=3,\n",
        "                        contour_color='steelblue')\n",
        "\n",
        "# Generate a word cloud\n",
        "wordcloud.generate(long_string)\n",
        "\n",
        "# Visualize the word cloud\n",
        "wordcloud.to_image()\n"
      ],
      "execution_count": null,
      "outputs": []
    },
    {
      "cell_type": "markdown",
      "metadata": {
        "id": "chaZdyi_mPKt"
      },
      "source": [
        "## Let's run the same program without any stopwords"
      ]
    },
    {
      "cell_type": "code",
      "metadata": {
        "id": "eGvLTzWjmORs"
      },
      "source": [
        "stopwords = set() # define the list of stopwords as an empty set\n",
        "\n",
        "# Join the different processed papers together into one long text.\n",
        "long_string = ','.join(list(dfPapers['text'].values))\n",
        "\n",
        "# Create a WordCloud object\n",
        "# You can change the parameters below\n",
        "wordcloud = WordCloud(background_color=\"white\",\n",
        "                        max_words=100,\n",
        "                        contour_width=3,\n",
        "                        stopwords = stopwords,\n",
        "                        collocations=False, #only single tokens\n",
        "                        contour_color='steelblue')\n",
        "\n",
        "# Generate a word cloud\n",
        "wordcloud.generate(long_string)\n",
        "\n",
        "# Visualize the word cloud\n",
        "wordcloud.to_image()"
      ],
      "execution_count": null,
      "outputs": []
    },
    {
      "cell_type": "markdown",
      "metadata": {
        "id": "OQoinGp50cut"
      },
      "source": [
        "# Stylometry\n",
        "The approach we are taking to stylometry is based on most frequent (\"function\") words. We could refine this further, but the basic observation is that no two authors use very common words (in English) like \"the\" or \"and\" or \"of\" identically (or punctuate quite the same way). In principle, we should be able to create a \"fingerprint\" for a given author based on the distinctive use of these stopwords.\n",
        "From there techniques can become quite complicated, but the basic idea is that is that if we take a number of features (in our case, most frequent words) and see how these are used by each author, we can use this to measure distance between sample texts or authors' corpora. Before we do that we want to standardize our measurements (so that a larger corpus does not outweigh a smaller one) and decide on how to weight the features. (If the word \"the\" is about 10% of all the words it is clearly potentially distinctive; but how much should it count against the next most frequent words?)"
      ]
    },
    {
      "cell_type": "markdown",
      "metadata": {
        "id": "aAC6Puo1X7a7"
      },
      "source": [
        "# Stylometry I Burrow's Delta and Author Identification\n",
        "> Adapted from \"Programming Historian\"   \n",
        "https://doi.org/10.46430/phen0078   \n",
        "\n",
        "This section uses the same texts as before (The Federalist Papers) to illustrate the use of **Burrows's Delta**. What this tries to do is to measure how each writer in a corpus uses \"function words\" (in English, the very common words like \"the\" and \"is\" and \"to\"; precisely the kinds of words that for other purposes would be classed as \"stopwords\").       \n",
        "`Delta` seeks to aggregate the observations about each of the features we are testing for (we are using the 30 most common words in the document set).  \n",
        "For each of the features we compare the frequency of the word in each of the texts we are examining in comparison with that of the corpus as a whole, and standardize the measurements across the corpus (so that more prolific authors [Hamilton] or more common words do not outweigh all the other authors or features).   \n",
        "We also hold out Federalist 64 as a test case, and calculate `Delta` between that essay, and the other authors. A smaller `Delta` between texts means that two texts are \"closer\" to each other."
      ]
    },
    {
      "cell_type": "markdown",
      "metadata": {
        "id": "p-5h0QRzkYbG"
      },
      "source": [
        "## First let's modify the dataframe we created to add attribution\n",
        "Follows the canonical division plus test case as in PH"
      ]
    },
    {
      "cell_type": "code",
      "metadata": {
        "id": "7-VohefvPrSf"
      },
      "source": [
        "# A \"canonical\" division into authors plus one test case, as in PH\n",
        "papers = {\n",
        "    'Madison': [10, 14, 37, 38, 39, 40, 41, 42, 43, 44, 45, 46, 47, 48],\n",
        "    'Hamilton': [1, 6, 7, 8, 9, 11, 12, 13, 15, 16, 17, 21, 22, 23, 24,\n",
        "                 25, 26, 27, 28, 29, 30, 31, 32, 33, 34, 35, 36, 59, 60,\n",
        "                 61, 65, 66, 67, 68, 69, 70, 71, 72, 73, 74, 75, 76, 77,\n",
        "                 78, 79, 80, 81, 82, 83, 84, 85],\n",
        "    'Jay': [2, 3, 4, 5],\n",
        "    'Shared': [18, 19, 20],\n",
        "    'Disputed': [49, 50, 51, 52, 53, 54, 55, 56, 57, 58, 62, 63],\n",
        "    'TestCase': [64]\n",
        "}\n",
        "k, v = list(papers.keys()), list(papers.values())\n",
        "def return_attrib (num):\n",
        "  \"\"\" checks for the document no in lists of values\n",
        "      returns first letter of attribution\n",
        "      to use as label. \"\"\"\n",
        "  for i in v:\n",
        "    if num in i:\n",
        "      return k[v.index(i)][0]\n",
        "\n",
        "# insert attribution to datatable in first position if it does not exist\n",
        "# if not \"attrib\" in dfPapers.columns:\n",
        "#   dfPapers.insert(loc=0, column='attrib',value='')\n",
        "\n",
        "\n",
        "dfPapers[\"attrib\"] = dfPapers[\"num\"].apply(return_attrib)\n",
        "dfPapers.head(5)\n"
      ],
      "execution_count": null,
      "outputs": []
    },
    {
      "cell_type": "markdown",
      "metadata": {
        "id": "yww1zvE3krXZ"
      },
      "source": [
        "## Feature Selection\n",
        "We are choosing 30 as in PH example.\n",
        "\n",
        "Create a composite feature set for all texts (except test case). We will be using the `nltk` (Natural Language Toolkit) to do some of the calculating for us."
      ]
    },
    {
      "cell_type": "code",
      "metadata": {
        "id": "PxNB8eixnBJ7"
      },
      "source": [
        "import nltk\n",
        "\n",
        "# filter dataframe to exclude testcase\n",
        "# this is a variation of the operation we used above for the word cloud\n",
        "# create a single string of all the documents EXCLUDING the test case\n",
        "corpus = ' '.join(dfPapers[\"text\"][dfPapers[\"attrib\"] != \"T\"].values)\n",
        "\n",
        "# separate into a list of individual words ('tokens').\n",
        "# These are our 'features'\n",
        "corpus_tokens = corpus.split()\n",
        "\n",
        "# create frequency list using built in nltk library `FreqDist`\n",
        "# this will give us the n (30) most common words and how often they appear\n",
        "# across our corpus\n",
        "whole_corpus_freq_dist = list(nltk.FreqDist(corpus_tokens).most_common(30))\n",
        "\n",
        "# # uncomment and run again to see the first 10\n",
        "# print(whole_corpus_freq_dist[ :10 ])\n",
        "\n",
        "# tabular data structure to contain our statistical information\n",
        "dfFeatures = pd.DataFrame( columns=[\"feats\"])\n",
        "dfFeatures[\"feats\"] = [w for w, freq in whole_corpus_freq_dist]\n",
        "dfFeatures[\"corpus\"] = [freq for w, freq in whole_corpus_freq_dist]\n",
        "\n",
        "# calculate frequency for each of the \"authors\"\n",
        "# authors to test\n",
        "authors = (\"H\",\"M\",\"J\",\"S\",\"D\",\"T\")\n",
        "for author in authors:\n",
        "  # in what follows we are repeating the same operation for each author\n",
        "  author_corpus = ' '.join(dfPapers[\"text\"][dfPapers[\"attrib\"] == author].values)\n",
        "\n",
        "  #separate into a list of values\n",
        "  author_tokens = author_corpus.split()\n",
        "\n",
        "  # get the total number of words for each author\n",
        "  # `len()` gives us the length (no. of items) in our list\n",
        "  author_length = len(author_tokens)\n",
        "\n",
        "  # copy the features from our datatable to a list\n",
        "  features = dfFeatures.feats.to_list()\n",
        "\n",
        "  # The next line may be a little bit confusing because\n",
        "  #      *it is applying a function  based on each value in the `feats` column\n",
        "  #     * it also uses `list comprehension` as a shorthand.\n",
        "  # Essentialy, however, it does the following\n",
        "  # For the current author, for each feature (word),\n",
        "  # count the number of times it appears\n",
        "  # Calculate that number as the proportion to total author words\n",
        "  author_features = [author_tokens.count(x)/author_length for x in features]\n",
        "\n",
        "  # append to df in a separate column for each author\n",
        "  dfFeatures[author] = author_features\n",
        "\n",
        "# the resulting table will give have:\n",
        "#      * `feats` column containing our thirty words\n",
        "#      * `corpus` column that counts the frequency of the word across the corpus\n",
        "#      * columns for each author giving the specific proportions for each feature\n",
        "\n",
        "# see the first five rows of this new table\n",
        "dfFeatures.head()"
      ],
      "execution_count": null,
      "outputs": []
    },
    {
      "cell_type": "markdown",
      "metadata": {
        "id": "kH3519LhH60C"
      },
      "source": [
        "## Means, Standard Deviation, z-scores\n",
        "\n",
        "The ***standard deviation*** is a measure of how widely a set of data varies from its mean value. (The standard deviation for the age of third graders will likely be much smaller than that of an entire elementary school.) So for each feature (word), we want to calculate how widely the values for each author vary from the mean.\n",
        "\n",
        "The ***z-score*** provides a standardized measurement (the number of standard deviations) of how far a measurement differs from the mean. The standardized measurement allows us to compare words with very different frequencies. (In our example, 'the' appears almost 18,000 times, but 'in' fewer than 4,500 times.)   \n",
        "\n",
        "By way of illustration, take a look at these plots from \"[Understanding and explaining Delta measures for authorship attribution](https://doi.org/10.1093/llc/fqx023),\" showing the different frequencies of the 50 most frequent words from two novels of Charlotte Brontë. The second plot shows the effect applying the z-score compared to the whole corpus of Brontë novels. The first word is in fact very frequent in both novels, but (after standardizing) we see that it is ***less frequent*** than expected based on the corpus as a whole.  \n",
        "     \n",
        "![StylometryZScore.jpeg](data:image/jpeg;base64,/9j/4AAQSkZJRgABAQECWAJYAAD/2wBDAAMCAgMCAgMDAwMEAwMEBQgFBQQEBQoHBwYIDAoMDAsKCwsNDhIQDQ4RDgsLEBYQERMUFRUVDA8XGBYUGBIUFRT/2wBDAQMEBAUEBQkFBQkUDQsNFBQUFBQUFBQUFBQUFBQUFBQUFBQUFBQUFBQUFBQUFBQUFBQUFBQUFBQUFBQUFBQUFBT/wAARCAGwAggDASIAAhEBAxEB/8QAHwAAAQUBAQEBAQEAAAAAAAAAAAECAwQFBgcICQoL/8QAtRAAAgEDAwIEAwUFBAQAAAF9AQIDAAQRBRIhMUEGE1FhByJxFDKBkaEII0KxwRVS0fAkM2JyggkKFhcYGRolJicoKSo0NTY3ODk6Q0RFRkdISUpTVFVWV1hZWmNkZWZnaGlqc3R1dnd4eXqDhIWGh4iJipKTlJWWl5iZmqKjpKWmp6ipqrKztLW2t7i5usLDxMXGx8jJytLT1NXW19jZ2uHi4+Tl5ufo6erx8vP09fb3+Pn6/8QAHwEAAwEBAQEBAQEBAQAAAAAAAAECAwQFBgcICQoL/8QAtREAAgECBAQDBAcFBAQAAQJ3AAECAxEEBSExBhJBUQdhcRMiMoEIFEKRobHBCSMzUvAVYnLRChYkNOEl8RcYGRomJygpKjU2Nzg5OkNERUZHSElKU1RVVldYWVpjZGVmZ2hpanN0dXZ3eHl6goOEhYaHiImKkpOUlZaXmJmaoqOkpaanqKmqsrO0tba3uLm6wsPExcbHyMnK0tPU1dbX2Nna4uPk5ebn6Onq8vP09fb3+Pn6/9oADAMBAAIRAxEAPwD9U6KKKACiiigAooooAKKKKACiiigAooooAKKKKACiiigAooooAKKKKACiiigAooooAKKKKAPA/wBq34leOPAtx8L9H8B6hpelap4u8UR6FLeatZG7ihie3mcuIw6ksDGCBkZxg4BrxKf9qb4w2nxn1LSbe1tdS8PeGPE+n+E9Qgl0+2tk1DzI4vPuzcSXavFM5l8yKFImUqNuWJ4+1Na8K6N4kutLudV0qz1K40q6F7YS3UKyNazhSoljJHyvtZhuHOCawtS+DXgPWPHlp42vvB2h3ni+0CiDW5rCN7uPaMKRIRuyo4BzkdsUAfD/AIH+MHi/wX8PLPw14R1x7XXte8deLpB5WlLqV69ta3TsTEs8sUEcall3vLIMKRtBOcZ3hP47+Ovi34o8J+Kta1+zisdX+Dut6nfeGFhY6feTQTvC37sy8lyqvuGSqq6A4Ykfc+qfAX4b63Z2dpqHgTw9eWtnfS6lbwzabEyR3MrbpZQCv3nPLH+LvmpYvgf8PII9JSPwP4fjXSYri308LpsI+yRThhPHF8vyK4dwyjAO4560AfHA/am8ZfB74WfD63sdO0mKz8XfDTT5fBlha2RSJPEGbeE2ijcS0e25ikVSchY3GeM1pat+1V8YtP8AjDrGl2lnaajofhTxBpvhnUbWSxt7aPUGlihM9ybmW7R4pWaUvDEkTqyqASSePsWT4Y+EJrTw3ayeGNJe28NPHJokTWUZXTWRdqNbjH7squANuMAVU1T4M+A9c8dWfjXUPB2h3vi6zCi31q4sInu49v3SJCu7K9j1HbFAHz9+1joereI/2mv2adMGsxQ6Hca3e3TaZcWXnxNcWtsZ1lYb1DNgbUyP3bfOMkYrzJP2qPjT/wAKr03xc2paXdv4s8ay+DtJtNO0NXk01Irq6VrhvMnRZ5nWARpGzRpnBJJJFfdeqeFdG1rWNI1bUNKs73U9IeSTT7yeFXltGkTY7RMRlCynacdRxWLd/CDwPf8Agu68IXHhHRZvC11K802jvYxm1eR3MjuY8bdxclt2M7jnrQB8m+Ff2mPi5401TwF4DvNR0PwR4g1PU9cgvPFF9ZQ3KzwaesTRottHctHFcSCb95GZSU8tiO2LfwF/a38aeNNe+Ddt4o1TQfsfiY+LF1S7tIRFBIdOnVLdoWZztXaWJ5ORzX0xefAH4aah4R0zwrdeAfDlx4b0uXz7LSpNMha3t5M53om3CsSTkjk5Oc5rjvh3+yN4E8J/DfT/AAb4h0fS/HFhpur3msWTavpkLLbSTzvNtjQghQu/bx1CjjtQB8s2v7aXxh8ZeD/AEOgCyTWdU0DWfEV3qdrpUNxFcLa6jLbQxBZrqFI4QiI0sodmAYEKOTXReLP2oPjLrVj461fRdU8PeE4fCnw90vxrPpk2mjUTNcSwyyS2qzrMF8pvKIEg3HBUjua+sda/Z5+GHiTw7pWgap8P/Dd/omlSvPYafPpcLQWruxaQxptwu5iSwHDZ5zW1cfC/wfef2v53hfSJf7XsE0vUA1lGRd2iKypbycfNGoZgEPADHigD5XsP2mPiB438Ya9qNl4v8E+BtD8MXWhWkugeI4WB1b7dbQzyN9oDb4ifOKQhI23FPm6nHDzftBeMfCOueIfC/gbRrHSdT8SfFfxFp0upaRpMdzOUtbaGUsIZriKOW5lzyzSKNqMQpIxX2jc/A/4eXnijSPEk/gjw/Nr+kRRwafqT6bEZ7VEGI1R9uVCAfL/d7Yo1/wCCPw+8VaHqWjav4L0LUdK1LUG1W8tLiwjeOe8bG65YEcynAy/3j60AfG/ib9rD42XvgjwZqVouk6RdJomoalr66DBZ6vdh7a6aFLhrVrtSLJlQs7QtI6OWT+Hn7Y+F/jCL4hfDfwt4nguYbyLWNMtr9bi2ikiik8yJX3IknzqpzwG5A61h+JP2d/hf4w0nRdL1r4feG9S07RU8rTbW40yFo7NOPkiXbhVOBlRwcciu+tbWGxtore3ijt7eFBHHFEoVEUDAUAcAAcYFAEtFFFABRRRQAUUUUAFFFFABRRRQAUUUUAFFFFABRRRQAUUUUAFFFFABRRRQAUUUUAeC6X+1gmteMNK8P2nw08ZJc3WoSaddC8Syhks3RC5Z4vtJbbtG7dgBk+ZN/APvVfH8beNNS8TaD4kurTxbc/FuymFsbC68KW66JaRySAXMMd95IP2bbu2yi4ZyAG2liUP17NJ5UTvtZ9qk7UGScdh70APoryfVv2g4dDjtZL/wF41tUubiO0hLabEd00jBUTiY8kkDnir/APwua4/6J142/wDBdD/8eoA9Jorzb/hc1x/0Trxt/wCC6H/49R/wua4/6J142/8ABdD/APHqAPSaK82/4XNcf9E68bf+C6H/AOPUf8LmuP8AonXjb/wXQ/8Ax6gD0mivNv8Ahc1x/wBE68bf+C6H/wCPUf8AC5rj/onXjb/wXQ//AB6gD0mivNv+FzXH/ROvG3/guh/+PUf8LmuP+ideNv8AwXQ//HqAPSaK82/4XNcf9E68bf8Aguh/+PUf8LmuP+ideNv/AAXQ/wDx6gD0mivNv+FzXH/ROvG3/guh/wDj1H/C5rj/AKJ142/8F0P/AMeoA9Jorzb/AIXNcf8AROvG3/guh/8Aj1H/AAua4/6J142/8F0P/wAeoA9Jorzb/hc1x/0Trxt/4Lof/j1H/C5rj/onXjb/AMF0P/x6gD0mivNv+FzXH/ROvG3/AILof/j1H/C5rj/onXjb/wAF0P8A8eoA9Jorzb/hc1x/0Trxt/4Lof8A49R/wua4/wCideNv/BdD/wDHqAPSaK82/wCFzXH/AETrxt/4Lof/AI9R/wALmuP+ideNv/BdD/8AHqAPSaK82/4XNcf9E68bf+C6H/49R/wua4/6J142/wDBdD/8eoA9Jorzb/hc1x/0Trxt/wCC6H/49R/wua4/6J142/8ABdD/APHqAPSaK82/4XNcf9E68bf+C6H/AOPUf8LmuP8AonXjb/wXQ/8Ax6gD0mivNv8Ahc1x/wBE68bf+C6H/wCPUf8AC5rj/onXjb/wXQ//AB6gD0mivNv+FzXH/ROvG3/guh/+PUf8LmuP+ideNv8AwXQ//HqAPSaK82/4XNcf9E68bf8Aguh/+PUf8LmuP+ideNv/AAXQ/wDx6gD0mivNv+FzXH/ROvG3/guh/wDj1H/C5rj/AKJ142/8F0P/AMeoA9Jorzb/AIXNcf8AROvG3/guh/8Aj1H/AAua4/6J142/8F0P/wAeoA9Jorzb/hc1x/0Trxt/4Lof/j1H/C5rj/onXjb/AMF0P/x6gD0mivNv+FzXH/ROvG3/AILof/j1H/C5rj/onXjb/wAF0P8A8eoA9Jorzb/hc1x/0Trxt/4Lof8A49R/wua4/wCideNv/BdD/wDHqAPSaK82/wCFzXH/AETrxt/4Lof/AI9R/wALmuP+ideNv/BdD/8AHqAPSaK82/4XNcf9E68bf+C6H/49R/wua4/6J142/wDBdD/8eoA9Jorzb/hc1x/0Trxt/wCC6H/49R/wua4/6J142/8ABdD/APHqAPSaK82/4XNcf9E68bf+C6H/AOPUf8LmuP8AonXjb/wXQ/8Ax6gD0mivNv8Ahc1x/wBE68bf+C6H/wCPUf8AC5rj/onXjb/wXQ//AB6gD0mivNv+FzXH/ROvG3/guh/+PUf8LmuP+ideNv8AwXQ//HqAPSaK82/4XNcf9E68bf8Aguh/+PUf8LmuP+ideNv/AAXQ/wDx6gD0mivNv+FzXH/ROvG3/guh/wDj1H/C5rj/AKJ142/8F0P/AMeoA9JorynW/wBoCHw3o1/q2p+A/GlnpthbyXV1cvpsRWKJFLO5AmJICgngE8UUAeOt8UPGPiL7JBqGpyat4muLm3+1/DO68E3AtoW85C8X2wjAEWNwui5jPlhwuCFr64oooA84+N//ACDfCH/Y16T/AOlK14H/AME8fjxqXjr4T+R448T3mt+KdQ8R6nb2L3oLu8EOz5QwXaAvPXHWvfPjf/yDfCH/AGNek/8ApStfCv8AwTp/49/A3/Yx+Iv/AEFaAP0xooooAKKKKACvMPh7+0J4e+JPxZ+IPw902z1GDWfBL28eozXUSLBKZlLJ5TByTgA53Bfxr0+vi39lD/k+z9q7/r50n/0S9AH2lRRRQAUUUUAFFFFABRRRQAUUUUAFFFFABRRRQAUUUUAFFFFABRRRQAUUUUAFFFFABRRRQAUUUUAFFFFABRRRQAUUUUAFFFFAHl3xi0qLxJ4o+HGiXk14mmX2r3AuYbO9mtTME0+5dQzROrEBlVsZxkCrX/DPngr/AJ9tY/8ACh1H/wCP0/4i/wDJSPhT/wBhi8/9Nl3WD+1J8dNe/Z/+Htr4i8PfD/VPiJeTX8dm+n6WXBgRlYmZ9kcjbcqF4Xq4yRQBt/8ADPngr/n21j/wodR/+P0f8M+eCv8An21j/wAKHUf/AI/Xxz/w87+J3/RsPin/AL7u/wD5Do/4ed/E7/o2HxT/AN93f/yHQB9jf8M+eCv+fbWP/Ch1H/4/R/wz54K/59tY/wDCh1H/AOP1V/Zt+L+s/HL4WWXivXfBOpeANQnuJoTpGp7vM2o20SLuRG2t2yo6HqME5WuXWveOPil4x0SLxjfeCtM8MabZXEDWEdvmaacTsbmYzI26JPKChPlUlJNxPG0A3/8AhnzwV/z7ax/4UOo//H6P+GfPBX/PtrH/AIUOo/8Ax+uq8N6s2p+CdL1Iala6s9xp8Vx/aVnGUguS0YbzY1JOEbO4DJ4I5NfKPgr49eOfB/hTw/4q8Qv4h1S3vvA974gls/EH9nxwandwW8M6rZParvhBVpWPnDGwrgbgaAPoT/hnzwV/z7ax/wCFDqP/AMfo/wCGfPBX/PtrH/hQ6j/8frkp/j34l0jVbj+1fDWmR6Vpuq2vh/U5LXUZJJ0vriGKVDCjQr5kK/aIFZjtY5dguE+bjv8Ahpjx9q03gOGDw7oekTeJG0LVQp1CS5CadfO6PCx8lf3ylQdw+XB9uQD17/hnzwV/z7ax/wCFDqP/AMfo/wCGfPBX/PtrH/hQ6j/8frzr4K/HfxX8RdavZo9GvL3TNYs5NU0Rb+GW0ht4UuFTypJjaKrM0cyspjaUfuipIPzN33x7+IE3hHwFrB0PVobTxJanT5hEuySWOCa9jh3mNs/Kw81QSOoOORQBP/wz54K/59tY/wDCh1H/AOP0f8M+eCv+fbWP/Ch1H/4/XmGrftb6lpd9rccHhiz1W3W3kudJmt7yeOG5WPUbaxw08luI23G7R90JkVdrKSTgmXWv2ovEujand+Gx4Rt77xZp9zfJdR2LXlzayQ20VpLmMw2zyKzi+hT50CoVcliNoYA9K/4Z88Ff8+2sf+FDqP8A8fo/4Z88Ff8APtrH/hQ6j/8AH65D4uePvEV9H8Jv7AHiHTE8T3Mkl3p+kLZrqPl/2fLOsZN1+7Uq6ru5B+UgVNJ8YtS+H0+l+GtT0rVbzWdTitG0k69d24u7yWa98ieKQ2yGIfZ0eKUlN2YyehUkgHU/8M+eCv8An21j/wAKHUf/AI/XNeJvh1o3w78XfDu+0B9Vs7i68QCzn8zWby4SWFrO6YoySyspG5EPI6qK5S4/as8RSabps1j4MhuLvUhqt5aWsMt5dlrOxuFt2L+RauUllkYbcjYgOWfPyn0HxxrA8Qp8HtVFtNZC+1+3uvs1yu2WLfp122xx2YZwfcUAav7Q3/JAfiZ/2LGp/wDpJLRR+0N/yQH4mf8AYsan/wCkktFAHoNFV21C1jmiha5hWWVmSOMuAzsBkgDuQOtWKAPOPjf/AMg3wh/2Nek/+lK18K/8E6f+PfwN/wBjH4i/9BWvur43/wDIN8If9jXpP/pStfCv/BOn/j38Df8AYx+Iv/QVoA/TGivl34W/Fjxbr37e3xk8B3+tS3PhHRND06607S2ijCW8skcJdgwXcclm6k9a+oqACiiigAr4t/ZQ/wCT7P2rv+vnSf8A0S9faVfFv7KH/J9n7V3/AF86T/6JegD7SooooAKKKKACiiigAooooAKKKKACiiigAooooAKKKKACiiigAooooAKKKKACiiigAooooAKKKKACiiigAooooAKKKKACiiigDzv4i/8AJSPhT/2GLz/02XdeiV538Rf+SkfCn/sMXn/psu60fit8NY/il4di0mXVbzSFjuFuBNZkZbAI2sD1HOfqBQB2dFfOf/DG9p/0Ousf98L/AI0f8Mb2n/Q66x/3wv8AjQB9GV4/8ZZfhNN4gto/HOmRarq9rYtcOsOn3F3JBY7zua58hGxbllPEvyEq3Bwcdt8NPAafDfwnBocepXeqrFI8n2i8bLfMc7QOyj0ritb0nxj4H+JvirxD4d8Mp4tt/ElhZxJnUIrY2VzbiVAsvmYzAwlDZj3MCJPkO4UAei6LZ6F9nl1nSktHttUghma8tSGjuIljAiYEcFdmMY4xXj3wvsfgL4imbSfCWh6cp1rSJBFDcaRcWyXunHYJFgM8ah4juj3LGSMFCRjFeseG49ZXRjpmq2NpBPbWcMIubEhba4kMQ8zyoslo0V8gBiTjFfJ+i/s5/EST4ew6MdNv7C/s/A194ddtX8SC9iluZbaOOMWSgn7Ku+PJcbTsCrg9VAPqe++GHhDVPF8PiW60Kxn8QRx7EvGTL4ClN2OhZVdlDEbgGIBAOKzte8BfDuzt9Hh1XStItI4HsdK07zAsRjaGQSWkERBBBVwCqj+teRat8BNY0/x466B4as7WBdTs7zS/E0N0iHStOhtkjm01Yvv4kdZuACjfamdjuTB5e3/ZT1fRV+HT2/hbTbqLR7Hw3JqttHcIWm1C1nf7VPl8CSQRyH94x3MAVz0FAHuvhfwH8MbzWvFFvo2g2P8AaDSCPVVFrImCZmfaCwACmVGchOCwDHOQSz4rf8K20/xN4f1PxfpS6j4gt1e40/7Lptxe3KxQujtIY4EZjFG5jbLjarFSMMRXknwh+A/i3wfqGpT+JdKuNckWxltLxmvbSKLXJ3u45VuCY0ErlQjOHuGDrvZAGBzXofxy8D614k8TaNqOn6BqGoR2tlPBFqnhnW/7K1eyld0YqXeRYpbdwilkbdho1O1uwBL4P8B/Bbxfq1xd+H9H0TUrvyob1pYYyymK623URTPylHMayhV+UMobAPNafi7wt8LvEHhuLW/EWjWLabqWoxS+fd2kkMk11cmK0UOu0P8AvMQxMrDDAKGGBXlOl/s8+L55rrXdes9JvfGYbwq0GrW7pG0Zs50a+MW1VEWY/MU7FUSAkYCkKKfhT9mvxTY2MF1qlhZz63bx+FYILiS781oo7PUBcXyqT0ygU8ffKgHoKAPorxV8NfCfjqxsLDXNDsdStdMkD2kLpgWrbCmU242fIxXjscdKxLb4JaDY+LvCmrWiLa6f4Xiuv7L0uOJdkNxcArLP5hy+TGzrtzj5yTk4x8wXXwd8X/CrRdT8WaoZv+Eg0AG8tbw3FusfiLUxepJBGVgj8+UzKJIQ07bk+0soDDLD61+FPhCfwL8PdG0e8na61KOIzX9wzFjNdysZbh8nsZXcj0BAoAg1r4M+B/EOi2Okah4Y0+fTbGSWS3t/K2rGZWLSgbcfLIWO9futn5gayvipbxWurfC2GGNIYY/E8aJHGoVVUWF4AAB0AFek1518W/8AkPfDH/saU/8ASG8oAk/aG/5ID8TP+xY1P/0kloo/aG/5ID8TP+xY1P8A9JJaKAPk3SfBPhaHwzpV6vhm6txNNY23/CzX0NxZNbRXDSJqkI3+dHd3BaIvdMojbCszFFGfvOvle4HwfW8todGvdcfTF1GBLG21KbWR4T88XK4VGwbQruz5ag+Vu2gDGK+pZY1mieN8lHBU4JBwfcdKAPO/jd/yDfCP/Y1aT/6UrXwr/wAE6f8Aj38Df9jH4i/9BWvrf4kfCHwv4Pk8F6lpltfx3kXinS1RrjVry4UBpwD8kkrKeCeo4+tfJH/BOn/j38Df9jH4i/8AQVoA9i+C/wDyk7/aA/7FvSf/AEVBX2fXxX8IbyCx/wCCm37QEtzNHbxf8I5pI3ysFXJjgwMmvtSgAooooAK+Lf2UP+T7P2rv+vnSf/RL19pV8W/sof8AJ9n7V3/XzpP/AKJegD7SooooAKKKKACiiigAooooAKKKKACiiigAooooAKKKKACiiigAooooAKKKKACiiigAooooAKKKKACiiigAooooAKKKKACiiigDzP4vXFxo/iT4ea4mlanqtlpurXD3a6VZvdSxK9hcxqxjQFtu91GQOMipv+F4ad/0K/jT/wAJi8/+N16NRQB5z/wvDTv+hX8af+Exef8Axuj/AIXhp3/Qr+NP/CYvP/jdejUUAec/8Lw07/oV/Gn/AITF5/8AG6P+F4ad/wBCv40/8Ji8/wDjdejUUAec/wDC8NO/6Ffxp/4TF5/8bo/4Xhp3/Qr+NP8AwmLz/wCN16NRQB5z/wALw07/AKFfxp/4TF5/8bo/4Xhp3/Qr+NP/AAmLz/43Xo1FAHnP/C8NO/6Ffxp/4TF5/wDG6P8AheGnf9Cv40/8Ji8/+N16NRQB5z/wvDTv+hX8af8AhMXn/wAbo/4Xhp3/AEK/jT/wmLz/AON16NRQB5z/AMLw07/oV/Gn/hMXn/xuj/heGnf9Cv40/wDCYvP/AI3Xo1FAHnP/AAvDTv8AoV/Gn/hMXn/xuue8ReMW+IXi34f2umeG/E0H2HXhfXNxqOi3FpBFCtndIWaSRQv3pEAHUk17PRQB59+0N/yQH4mf9ixqf/pJLRR+0N/yQH4mf9ixqf8A6SS0UAYVv+zbpkFla6M3i3xTN4NtWTyfCkl3D9hWJGBjt9whE7QrhVEbSkbVCnK8V69RRQB5x8b/APkG+EP+xr0n/wBKVr4V/wCCdP8Ax7+Bv+xj8Rf+grX3V8b/APkG+EP+xr0n/wBKVr4V/wCCdP8Ax7+Bv+xj8Rf+grQAvxIUN+2t+0SGAI/szw71+kFfcPxE/aB8N/C34h/DvwTq9vqMureN55rXTZLWFGgjaJULGVi4KjDjGA3evh/4jf8AJ6/7RP8A2DPDv8oK9J/bp/5Oc/Zg/wCvrWP/AEmjoA+5EkWRQyMGU9GU5FOrzD9mf/khnhT/AK4y/wDo6SvT6ACvi39lD/k+z9q7/r50n/0S9faVfFv7KH/J9n7V3/XzpP8A6JegD7SooooAKKKKACiiigAooooAKKKKACiiigAooooAKKKKACiiigAooooAKKKKACiiigAooooAKKKKACiiigAooooAKKKKACiiigAooooAKKKKACiiigAooooAKKKKACiiigAooooAKKKKACiiigDz79ob/kgPxM/7FjU//SSWij9ob/kgPxM/7FjU/wD0klooA9Bor5ksv2ovEtl4Ri17WtM0VLfV2SLTDaNPixvPPjjl0u+3fdulV2II2hmikXaMLv8ApugDzj43/wDIN8If9jXpP/pStfCv/BOn/j38Df8AYx+Iv/QVr7q+N/8AyDfCH/Y16T/6UrXwr/wTp/49/A3/AGMfiL/0FaAHfEb/AJPX/aJ/7Bnh3+UFek/t0/8AJzn7MH/X1rH/AKTR15t8Rv8Ak9f9on/sGeHf5QV6T+3T/wAnOfswf9fWsf8ApNHQB9L/ALM5x8DPCmeP3Mv/AKOkrqPCfxC0zxlrXiLTLGO5S40K6FpdNMgVWc55QgnI+U9cV8UftXyvD/wS2vnjdo3AtcMjFT/yEl7ivZv2fGI0f4osCQ3kW53Z5z9kbnNAH0xXxb+yh/yfZ+1d/wBfOk/+iXp3/BLfx9Y3H7MPhLQL7VJbnxDcT6jdJFOZJHaJbpxu3nI49Cab+yh/yfZ+1d/186T/AOiXoA+0qKKKACiiigAooooAKKKKACiiigAooooAKKKKACiiigAooooAKKKKACiiigAooooAKKKKACiiigAooooAKKKKACiiigAooooAKKKKACiiigAooooAKKKKACiiigAooooAKKKKACiiigAooooA8+/aG/5ID8TP+xY1P/0kloo/aG/5ID8TP+xY1P8A9JJaKAPCpPAfjnQobWbUtO1bS/FcV3bi++IN542c6VOfOUNJ9hMmCkn3VtTAqjcqBhgPX1nKzrE5jUPIASqk4BPYZ7V8rafofxQF1YAwfEJfiCLiJr3UrnVrNvC7fvB5zLAJD/o5TdtRYhMAVBIYFq+rKAPBviR4g8b6hJ4Mh1zwfp+j6efFOll7u3137U6EXC4Aj8hM5OB94Yzntivkf/gnT/x7+Bv+xj8Rf+grX3V8b/8AkG+EP+xr0n/0pWvhX/gnT/x7+Bv+xj8Rf+grQA74jf8AJ6/7RP8A2DPDv8oK9J/bp/5Oc/Zg/wCvrWP/AEmjrzb4jf8AJ6/7RP8A2DPDv8oK9J/bp/5Oc/Zg/wCvrWP/AEmjoAxf2tP+UWd/9LX/ANOS17P+z7/yBfij/wBe9v8A+kjV4x+1p/yizv8A6Wv/AKclr2f9n3/kC/FH/r3t/wD0kagD52/4Je/8i78PP+wbq3/pZJTvA3jDV/B37bn7QsukXf2R73xHoVpOfLV98TRPuX5gcfUc03/gl7/yLvw8/wCwbq3/AKWSVkab/wAnrfHj/sbNA/8ARTUAfpzRRRQAUUUUAFFFFABRRRQAUUUUAFFFFABRRRQAUUUUAFFFFABRRRQAUUUUAFFFFABRRRQAUUUUAFFFFABRRRQAUUUUAFFFFABRRRQAUUUUAFFFFABRRRQAUUUUAFFFFABRRRQAUUUUAFFFFAHn37Q3/JAfiZ/2LGp/+kktFH7Q3/JAfiZ/2LGp/wDpJLRQB6DRRRQB5x8b/wDkG+EP+xr0n/0pWvhX/gnT/wAe/gb/ALGPxF/6CtfdXxv/AOQb4Q/7GvSf/Sla+Ff+CdP/AB7+Bv8AsY/EX/oK0AO+I3/J6/7RP/YM8O/ygr0n9un/AJOc/Zg/6+tY/wDSaOvNviN/yev+0T/2DPDv8oK9J/bp/wCTnP2YP+vrWP8A0mjoAxf2tP8AlFnf/S1/9OS17P8As+/8gX4o/wDXvb/+kjV4x+1p/wAos7/6Wv8A6clr2f8AZ9/5AvxR/wCve3/9JGoA+dv+CXv/ACLvw8/7Burf+lklZGm/8nrfHj/sbNA/9FNWv/wS9/5F34ef9g3Vv/SySsjTf+T1vjx/2Nmgf+imoA/TmivOPiD+0J4G+F/jTRfCfiLVZLTXtZtLi9sbWO0ll82KBS0p3KpVcAHgkE9q7fw/rtp4m0Ox1awdpLK9hWeFmUqSrDIJB5FAGhRRRQAUUVyvxS8YT+AfAGs+ILa2ju57GISLDKxVXywGCR9aAOqorM8L6s+veGdJ1OSNYpL20huWjU5Cl0DEA+gzWnQAUUVyvgL4peFPihDq0vhTXbXXI9JvpNNvmtWJ+z3KY3xNkD5hkfnQB1VFFFABRRRQAUUUUAFFFFABRRRQAUUUUAFFFFABRRRQAUUUUAFFFFABRRRQAUUUUAFFFFABRRRQAUUUUAFFFFABRRRQAUUUUAFFFFABRRRQAUUUUAFFFFAHn37Q3/JAfiZ/2LGp/wDpJLRR+0N/yQH4mf8AYsan/wCkktFAHcjULVmAFzCSeg8wc1Yr418J6f4A8M+H7Lx5bfA3wsngnUNUXULbWJL21m1WH7Rc7o3W2MOEKu6kQJMXTGwLuXbX2SzBFLMQqgZJPQUAec/G/wD5BvhD/sa9J/8ASla+Ff8AgnT/AMe/gb/sY/EX/oK19qfF7xboer2/g63sda069uG8VaUVht7uN3IFwpOADk8V8V/8E6f+PfwN/wBjH4i/9BWgB3xG/wCT1/2if+wZ4d/lBXpP7dP/ACc5+zB/19ax/wCk0debfEb/AJPX/aJ/7Bnh3+UFek/t0/8AJzn7MH/X1rH/AKTR0AYv7Wn/ACizv/pa/wDpyWvZ/wBn3/kC/FH/AK97f/0kavGP2tP+UWd/9LX/ANOS17P+z7/yBfij/wBe9v8A+kjUAfO3/BL3/kXfh5/2DdW/9LJKyNN/5PW+PH/Y2aB/6Katf/gl7/yLvw8/7Burf+lklZGm/wDJ63x4/wCxs0D/ANFNQB2/7c3/ACeV8Gf+xZ13/wBEPXYftTfFnxZ8F/2G/CPiLwXrEmh615+lWv2qOGOU+VIcOuJFZeR7Zrj/ANub/k8r4M/9izrv/oh6l/bwUN/wT48HKeh1DRQf++qAPvm3YvbxMxyxUEn8Kkry74B+ONX8caR4hk1eaOZ7HVpbODy4gmIlVcA46nk816jQAV5t+0d/yRHxZ/16r/6MSvSa82/aO/5Ij4s/69V/9GJQB0/w5/5J74Y/7Bdr/wCilroq534c/wDJPfDH/YLtf/RS1jfHf4i3Pwj+DXjPxrZ2cWo3Wg6XPqEdrM5RJWjQsFYjkA47UAd3Xwz/AME2/E2laLY/F6wvr+G1vNR+JWqx2kMjYadgI8hR3NfU3wG+J0nxg+EHg/xfdW9vYX+uaVBqM1jbylxAZFDbQTzjnqRXwN+xh/yPWpf9lY1r/wBAioA/TmiiigAooooAKKKa8ixrl2VB0yxxQA6iiigAooooAKKKKACiiigAoorwb9m/9oXV/jV8QPjNoGpaXZafb+B/EbaLZy2rOXuIwZBvk3HAb5B045NAHvNFFePftKftGWn7OOj+Eb+70O41xfEPiC20BEt51iMDTBiJSSDkDb0HrQB7DRRRQAUUUUAFFFFABRRRQAUUUUAFFFFABRRRQAUUUUAFFFFABRRRQAUUUUAFFFFABRRRQB59+0N/yQH4mf8AYsan/wCkktFH7Q3/ACQH4mf9ixqf/pJLRQB43c634Umkg+I9j8HI9B0e9mt723+IS2Omy3AjlmQreG33+cFkDZ3480LJuKg5A+o3RZEZHUMjDBVhkEeledWv7Ovw3s/Eaa5D4Tskv47n7Yi5c26T7t3mrAW8pX3HduC5B5zmvR6APGfiv4A8L+H4/B15pfhvR9Nu08U6Wq3FpYRRSKDcKCAyqCMjjjtXxp/wTp/49/A3/Yx+Iv8A0Fa+6vjf/wAg3wh/2Nek/wDpStfCv/BOn/j38Df9jH4i/wDQVoAd8Rv+T1/2if8AsGeHf5QV6T+3T/yc5+zB/wBfWsf+k0debfEb/k9f9on/ALBnh3+UFek/t0/8nOfswf8AX1rH/pNHQBi/taf8os7/AOlr/wCnJa9n/Z9/5AvxR/697f8A9JGrxj9rT/lFnf8A0tf/AE5LXs/7Pv8AyBfij/172/8A6SNQB87f8Evf+Rd+Hn/YN1b/ANLJKyNN/wCT1vjx/wBjZoH/AKKatf8A4Je/8i78PP8AsG6t/wClklZGm/8AJ63x4/7GzQP/AEU1AHb/ALc3/J5XwZ/7FnXf/RD1N+3d/wAo+vBv/YR0X/0Kof25v+Tyvgz/ANizrv8A6Iepv27v+UfXg3/sI6L/AOhUAfQn7M+oW2k+E/HV9ezx2tna63dTT3EzBUjjVFZmYnoAAST7VueBvjdB8RPirLpnh/UtL1vwfJo41C01LT380TP5gRsSBipUHcOB1Feb+A/+Tffjd/3F/wD0kNeRf8EyP+RZ8D/9ihL/AOl70Affc13BbNGs00cTSNtRXYAsfQZ6mvmf9pj9oLS7XxVrXwYbSr06xfeF28QJqQZPsyxJNtMZGd275D2xyK+efgtrepa18efiNFqOo3eoRWPxhaC0S7neVbePL/JGGJ2L04GBwK0/2p/+T9z/ANksuf8A0qkoA+7/AIc/8k98Mf8AYLtf/RS15x+2p/yaX8W/+xbvP/RRr0f4c/8AJPfDH/YLtf8A0UtfL/jzxJqvij9g340Xer6hPqV0lhqsKzXDZYIsYwv0GaAKX/BP9R/Z/h445/4QTSOf+2aV4r+xh/yPWpf9lY1r/wBAir2v9gD/AJBvh7/sRNI/9FpXin7GH/I9al/2VjWv/QIqAP05or5W0H4oeK7r/go94l8BS65cv4OtvBEWpQ6OQvkpcmaJTION2cEjrjmud/b+1i/0r4mfs0CyvrmzE3jeNZVgmZBIo8s7XAPzDPY8UAfZdFfOEv7Rer/Dz9knX/iprNr/AMJPqGjLNK1rvW188CcRhdyoQuA3Xaelen/CL4yaT8WtDsri0R7XVG0yy1G8sWDMLY3EKyqgkKgPjdjI9OgoA9ArxT9rX/kmVj/2GbT+bV3Hwx+Mng34y6JNq/g3XYdb0+K7lsXlSOSIiaPHmJtkVWONw5Axz1ryz9qfxv4e1Pw6/hi01vT7rxHpup2Nxe6TDco11bRuTseSMHcqncuCRzkUAfQ1FFfNH/BRzxZrfgf9j/xvrPh3WL7QdXt2s/Jv9NuHgnj3XcSttdSCMgkHB6E0Ae8+HPG2keLNQ1my0y4ae40i5NpeK0TJ5cgzwCQM9DyOK3q+ev2RriW7j8ZXE8jTTzXNrJJLIcs7tACzE9ySSSfevoWgArH8YeI4/CHhbVdblge5j0+2e4aGMgM4UZwCa2K8Q/aG+NfhPw59q+Gt9fTR+LfEOhXt5p9ottIySRRRuXJkA2rgI3BIoA9V8GeJo/GXhTStcige1j1C3S4WGQgsgYZwSK2q4f4H/wDJIfCH/YNh/wDQa7igAr4y/YL/AOS2/tXf9j7J/Oavs2vjL9gv/ktv7V3/AGPsn85qAPs2vi3/AIKf/wDIl/Bz/so2lfylr7Sr4t/4Kf8A/Il/Bz/so2lfyloA+0qKKKACiiigAooooAKKKKACiiigAooooAKKKKACiiigAooooAKKKKACiiigAooooAKKKKAPPv2hv+SA/Ez/ALFjU/8A0kloo/aG/wCSA/Ez/sWNT/8ASSWigD0GiiigDzj43/8AIN8If9jXpP8A6UrXwr/wTp/49/A3/Yx+Iv8A0Fa+6vjf/wAg3wh/2Nek/wDpStfCv/BOn/j38Df9jH4i/wDQVoAd8Rv+T1/2if8AsGeHf5QV6T+3T/yc5+zB/wBfWsf+k0debfEb/k9f9on/ALBnh3+UFek/t0/8nOfswf8AX1rH/pNHQBi/taf8os7/AOlr/wCnJa9n/Z9/5AvxR/697f8A9JGrxj9rT/lFnf8A0tf/AE5LXs/7Pv8AyBfij/172/8A6SNQB87f8Evf+Rd+Hn/YN1b/ANLJKyNN/wCT1vjx/wBjZoH/AKKatf8A4Je/8i78PP8AsG6t/wClklZGm/8AJ63x4/7GzQP/AEU1AHb/ALc3/J5XwZ/7FnXf/RD1N+3d/wAo+vBv/YR0X/0Kof25v+Tyvgz/ANizrv8A6Iepv27v+UfXg3/sI6L/AOhUAeseA/8Ak3343f8AcX/9JDXkX/BMj/kWfA//AGKEv/pe9eu+A/8Ak3343f8AcX/9JDXkX/BMj/kWfA//AGKEv/pe9AHIfAP/AJL98VP+yzN/7Urf/an/AOT9z/2Sy5/9KpKwPgH/AMl++Kn/AGWZv/alb/7U/wDyfuf+yWXP/pVJQB6B+1/8Q/E/w9+Ef7PcvhjXr7QZNS8UaLYXjWMpjNxbvCd8T+qnAyPan+KlCfsF/HFVGFEGsAAf7grm/wBvD/kj37NP/Y56D/6JNdL4s/5MN+OX/XDWf/QBQAn7AH/IN8Pf9iJpH/otK8U/Yw/5HrUv+ysa1/6BFXtf7AH/ACDfD3/YiaR/6LSvFP2MP+R61L/srGtf+gRUAa3x4mkt/wBvT4nyRSPFIPh5ZYeNirD/AEyDuK7z9uli3ir9k4kkk+Lrcknr/q4q4D4/f8n4fFD/ALJ5Zf8ApZBXfft0f8jR+yb/ANjdb/8AouKgBnxg/wCUZHxG/wCvab/0sSvQP2JfvXv/AGLeg/8ApElef/GD/lGR8Rv+vab/ANLEr0D9iX717/2Leg/+kSUAfPH/AATfUf2j4aOOf7f8Q8/gKX4nf8n3fHP/ALBnh7+UFH/BN/8A5CHhv/sP+If5Cl+J3/J93xz/AOwZ4e/lBQB+l7MFUknAHJJr5S/4KgyLJ+xD4+ZGDqWscMpyD/pkNe0fGf4leF/COiSeHta1yz03WvEVjeW+k2M77ZL2RYjuWMdyNy/mK+Tv2s/+UWupf9cLP/04JQB7B+y3PJa+F/Hs0TbJY1t3Rh2Itcg1wP8AwT7/AGkPG3xT8CeEbPxffjxBf6jHqNxPq1wqpOfKuHREwgVcBQO2a7v9mL/kUfiD/wBc4P8A0kr50/4Jf/8AIv8Aw9/689X/APSuSgD1fxd+05qPxH+KHi7wNbabLoA8DeLdNsDqFrqDFtQSZZCdyBV2Abfu5YGuN/bM/wCT4fhd/wBiTrn/AKJnrhvDf/J1v7Qf/Y+aH/6Lnruf2zP+T4fhd/2JOuf+iZ6APsj4H/8AJIfCH/YNh/8AQaX4seLJNH+EPjzWdC1CJdS0rRb+4huISknkTx27upI5GQwBwR9RXgHxn+P3iD9nD9kXwB4o8N2enX1/cXem6Y8epxu8QjmDBiAjqdw2jHOPY1b0JFj/AGfP2hgoA/5Dh4H/AE6PQBN+xP8AtCeJvit8P/A1p4pddV1i+8Otq93rDbY3mk+0vGFMaKFACgcjHTpXJfsI3UNv8bv2qxLKkRk8fSKgdgNxzNwM9TXO/wDBOP8A5AHw4/7Ec/8ApbJXBfBFQ37Q/wAW8gHHxkXGf+2tAHvv7Q37S/izwf8AtASfC3SY7Oz0u58Fz+IRqiK/22K4SZ1Cqd2zbhB1Unk81wv/AAUAvLjVPgp+zzdXUrT3Vx410KSWV+ru0Tksfck1gftWf8n623/ZLbv/ANKJa2v28f8AkhX7OH/Y5aB/6JagD7I+HPxCtfiRo95qFnaT2cdrey2LJcFdxaPGWGCeDmurrwH4G+MNJ+Hvwa8aeJteuvsOi6Tq2oXl5c+Wz+VEgVmbaoLHAHQAmvYfA3jbRviR4P0jxR4eu/t+h6tbJd2d15bR+bEwyrbWAYZ9CAaAPm/9nH9sjVfilrXiPS/E2i2sE9v41vvDGnSaSrKnlQBSsk3mOSWO7nbx7V9W1+Y/7HX/ACUTXP8Asrmsf+gx1946z+0P8PvDvxGvvAup+I4bDxNZacmq3FrPDKqJbM4RX83bs5ZgMbs89KAPR6K8r+Mn7Rnhn4Ial4Ds9cttQu/+Ey1VNJsJrCNHSKRgCHl3OpCYOcqGPtWz4j+N/g3wv8LdS+It7qpbwjp0bS3F9DbyOQocIcIF3H5jjgUAd3RXKeAfih4Z+Jtil34c1Nb9DbQXbJsZHjjmQPGWVgCCVOcdqwPgj+0H4Q/aA8O3es+Fri4W2t9Rn0to9QiEErTQhS+1MklfmHP1oA9Kor5kb9rufQ/2qviF8OPEFjaW3hbw5pVheW2oWsUsl3LNcCL5XG4rtBkboB0HNe0eL/jF4N8BeLvDPhjxBrsOma74kaVdKtJY5CbkxKGk+YKVUKCDliOtAHZ0V5R+0J+0RonwA+DN/wDEi4tJfEmkWskEYj0qaMmXzJVjBVidpALc89jWd8G/iNf65efEfUdWvLi403TrsT2sDqpNvAY2k2DA5wMevSgD2iivGPg3+1Z4P+Ov/CPy+FrbU3stbtbi6trm8gWHAhleN1ZdxIO5DjsRivQPHnxC0z4d2enXOqJcPHfXsdjF9mjDkSPnBOSMDjrQB09FFcz8QPiX4W+FOgrrXi/XLPw9pTTpbLd30myMyvnamfU4P5UAdNRSVykfxGspPiXL4KFrcC/jsBqBuML5RQsF29c559KAOsoorxD4q/tYeHPhX8UIfh/daTql/wCIJtCk8QRNAsa2xgSRkKFy24PlCcbSOnNAHt9FUND1Vdc0PT9SWNoUvLaO4EbHJUOobBPtmsj4f/EDTPiVoL6tpKXCWq3ElsRdRhG3IRngE8c0AdNRRXkfgn9qj4efEPxBcaNoOpXV5fW+sT6DMrWMsapdwgGRMsoyBn7w4PrQB65RXl+s/tKfD7w98SNZ8C6lrT2fiHSNOj1W8iktJTHHbyOiI3mBSpJZ1GAc816THeQSQwyiVfLmUNGzHG4EZGM0AcL+0N/yQH4mf9ixqf8A6SS0Uz9oGaO4/Z9+JbxOsiHwxqeGQgj/AI9ZaKAPENO+IfxCl1KytP7b8XSfEw3EX27wjNoNquhxKZR5qi4EQYW6qTtnE7OQFbaxOyvrOvlSf9mzWtB0qy0+407wcbKxu7eU+MNL0aeXxPOyzK3nkrnFy55km3lfmdim35R9USB2jcRsEkIO1mGQD2JGRn86APO/jf8A8g3wh/2Nek/+lK18K/8ABOn/AI9/A3/Yx+Iv/QVr7V8UfDP4ieLrfTYrzx14fjFhqFvqUZh8MSjdJC4dQc3x+Ukc9/evKPgv+xHr/wAC49JXQviRZXY029vb6L7f4bLbnuQBIG23a8DHGP1oA8D+I3/J6/7RP/YM8O/ygr0n9un/AJOc/Zg/6+tY/wDSaOu01r9iPxBr3xR8aePJ/iRZJq3iuCyt72GPw2fIjW22eX5YN3kE7BnJPU9K3Pix+yj4r+MPjvwH4s1j4h6Zbah4OkuZLCKy8NOsUhnRUfzQ14ScBRjBHegDxX9rT/lFnf8A0tf/AE5LXs/7Pv8AyBfij/172/8A6SNVf4ifsgeJ/iV8ApvhHqfxF0+Dw7J5ebq18Nst18k4mHzG7K/eGPu9Pzrp/B3wB8b+CbXXoLHx/o0qayiJOZ/DMhKBYzGNuL0dj3zzQB8r/wDBL3/kXfh5/wBg3Vv/AEskrI03/k9b48f9jZoH/opq+i/gL+xX4i/Z5sdGtfD3xIsb1NKguIITqXhsuWWaUyMW2Xa8gscYxxVe3/Yd163+KPi3x4vxJs/7W8TahZ6ldwnw2fISS2UrGEH2vIUg85JP0oA8z/bm/wCTyvgz/wBizrv/AKIepv27v+UfXg3/ALCOi/8AoVet/Fb9j/xP8YPiZ4Z8cax8RdPtdV8P2N3p9tDZ+G2WF47hCjlw12SSA3GCPxp3xa/ZD8UfGT4O6b8N9Z+IunW2iafNazxXFl4bZbgtAcpktdlcHv8ALQBF4D/5N9+N3/cX/wDSQ15F/wAEyP8AkWfA/wD2KEv/AKXvX0HpP7PXjXR/B3inw3D8QNHey8RfaftUj+GX8xPOj8t9hF5gYHTIPNc58Cv2QfE/7P1jpVr4f+IunXkenaa2mRf2h4bZiYjMZSW23a/NuJH0oA+cPgH/AMl++Kn/AGWZv/alb/7U/wDyfuf+yWXP/pVJXr/hD9iPxB4L8Ya/4jsviRZS3uteJz4ruI5/DZMa3R3fIoF2CI/mPBJPvVvx9+xv4k+IvxdPxE1H4jafBrX9gP4c8i28NsLf7O0jOWwbstvyx5zj2oA80/bw/wCSPfs0/wDY56D/AOiTXS+LP+TDfjl/1w1n/wBAFdl8Wv2SfFPxk8N+B9E1n4iaba2vhDVLTVbF7Lw0yvLLbqVQSbrwgqQeQAD7ir2o/sweL9S+Eniv4eSfELSxo3iRLpLu4Xw04nQTjD7D9s2jHbIP40AeffsAf8g3w9/2Imkf+i0rxT9jD/ketS/7KxrX/oEVfVfwf/Zf8X/BWCyi0X4haXdra6TbaMn27w07EwwqFRjtvF+Y7Rnt7Vy/wx/Yd174U6tPqGlfEmzuJpvEN14lZbvw2WX7ROFDoNt2PkG0YHX3oA8P+P3/ACfh8UP+yeWX/pZBXfft0f8AI0fsm/8AY3W//ouKu58X/sU+IfGnxa174hXvxHsYtZ1nRYtDuIIPDbCBYY5UkVlBuywfKDkkjBPFbHxY/ZQ8V/GDUPh5d6x8Q9MtpfBGopqenCz8NOolkUKAJd14crhRwuOpoA8r+MH/ACjI+I3/AF7Tf+liV6B+xL969/7FvQf/AEiStLxJ+yb4q8UfArWvhTdfETTU8P6sjRz3MXhpxdKGlEh2k3m3qMcqeK2Phb+zr40+Evm/2T8QNIufMsbSwP2zwy5/d28QiQ/LeDkgc+/pQB8n/wDBN/8A5CHhv/sP+If5Cl+J3/J93xz/AOwZ4e/lBXvvwS/Yi1/4DzWMmg/EiyuzaXl5eoNQ8NlgXuQBIDtu14GOP60a9+xHr/iD4teK/iFcfEiyj1nxJBZ293BH4bPkItsEEewG7yCdgzknqelAHE/8FBP+Th/2Z/8Ar/1j/wBJ4qpftaf8otdT/wCuFn/6cUr174xfsn+KvjZ4z8DeJdb+Imm2l94PluZrGOx8NOscjToqP5ga8YkAIMYI6moviJ+yP4o+JfwDn+Emp/EXTYPDsyxI11a+G2W6wkwmHzG8K/eUA/L0oAf+zF/yKPxB/wCucH/pJXzp/wAEv/8AkX/h7/156v8A+lclfVfgT4AeN/h9p2sWWn+P9Gni1RUWZrjwzISu2Pyxtxejt655rivgL+xT4h/Z5stGtvD3xIsb1NKiuYoTqXhsuWE8hkctsu15BY4xjigD518N/wDJ1v7Qf/Y+aH/6Lnruf2zP+T4fhd/2JOuf+iZ69Ksf2Hde0/4g+MfGEfxJszqXijVrXWbyJvDZMUc1uHCLGPteQp3nOSTwORWr8Tf2QfE/xV+Kmg+PtV+IunW2r6Npd1pFvDaeG2EDRXCOrswa7JLAOcYIHA4NAHj37dH/ACYf8Nv+w7ov/s9es6L/AMm+/tDfTXP/AEkerHxY/Y/8T/GD4S6H8PdY+Iun22jaRd2t5BPZ+G2WdngzsDFrsrg7jnAFdDa/s7+NbXwb4y8Np8QNHNl4q+1fbJD4ZfzI/tEZjfyz9swMA8ZB59aAPC/+Ccf/ACAPhx/2I5/9LZK4P4If8nDfFv8A7LGv/tWvpT4Kfsk+KfgTZ6LbaD8RNNu00nSv7Ig+3+GmYtD5pl3NtvF+bLEZGBjtWT4V/Yj8QeEfGfiLxNafEiykvtc8Tf8ACVXMc3hsmNbr5vkQC7BEfzHgkngc0AeSftWf8n623/ZLbv8A9KJa2v28f+SFfs4f9jloH/olq9N+IH7HPiX4kfFxPiJqXxG0+DWU0CTw6ILbw2wg+zu7OWw12W35Y85xwOKtfFr9knxT8ZPCfgnw/rPxE022s/Cep2eq2Ull4aZZJJbZCsYk3XhBUg8gAfUUAcn4k/5MZ+O//XHW/wD0VS/8E/8AWL+bwx4S06S9uH06HwNpkkVo0rGJGKpllXOAT613d9+zH4w1D4UeLfh/J8QtKXR/Eq3SXc6+Gn8+P7Qu1/LP2zaMDpkH8aZ8Hf2XfF3wTt7CHRPiHpd2tnpFvo0f27w07EwwgBWO28X5jgZPT2oA+Vv2Ov8Akomuf9lc1j/0GOrn7R3/ACft48/7J/Zf+lkde7fDX9h3XvhbrV3qel/EmzuJ7nxHc+JnW68NllFzOFDoNt2D5Y2jA6+9S+Nf2JfEHjv4u6t8RL/4kWUOtalo8WiTQW/hsiBYUlWQMoN2W3ZUck4wTxQBw/8AwUG/5DP7MH/Y4Qf+i0qf4v8A/KMbx9/2D7j/ANLBXpXxi/ZP8V/G268Bz638RNNtH8G6kmqWH2Hw06iWVQABLuvGyuB0GPrT/En7KfivxR8CdX+FF18Q9MTw/qcLwTXUXhpxdBWl8w7WN5tznjlelAGL+wj/AMgm+/7AWh/+kYr56/4JzqDrWgEgEjxN4iwcf7K19ZfCX9nPxp8HLaWDR/iDpF0slpaWZN74Zdjst4vLQ/LeLyR19/SuO+Cv7EOv/Aq5tJ9C+JFldta317qCC/8ADZYGS5AEgO27XgY4/rQB4F8WP+T7/jd/2BtA/wDbevR/26f+Trv2av8AuOf+kq123iD9iPX/ABJ8WvFPxCufiRZR6z4itrO1uoIvDZ8hFttnllAbssCfLGck9T0rb+K/7J/ir4wfELwP4w1j4iabbal4R+1/YYrPw06xSfaIwj+YGvCTgDjBH40AeJ/tfAL/AMEuXAGBvsv/AE4Cva/gj/yLPxd/65D/ANJWqt8SP2PfE3xQ+Ap+EuqfEbT7fw8TEftVr4bZbr93MJR8zXZX7wwfl6V1Hhb4A+N/CNj4jtbTx/o0seurtuTN4ZkJT92Y/kxejse+eaAPlz/gmb/yKvwl/wCwTq3/AKWz1LL8RPE/ir9pD406BrGu32paJoPjLRI9KsLiXdFZK6TFxGP4c4GfpXtnwL/Yv8Rfs/6f4ds/D/xHsbyPQ7e4trc6h4bZi6zSvKxfbdrkguQMY4x1qra/sO69afEPxn4xT4k2Z1LxVqlpq17EfDZ8qOW3Vgixj7XkKQ5zkk8DkUAe9ePPjd4O+HOtW+h6zrEMXiK8sp7+y0dT/pF3FCrNIYweDgI3UjpXy1/wUs8S23jL9j3w5rdpFJFa3/iTSZ445wA4Us/BwSM/jXoPxO/ZC8T/ABW+Kfh3x7q3xF0621fQ9Nu9Lt4bTw2wgaK4R0cuGuySwDnGCBwODTfit+x94m+L/wAINH+HOsfEXT7bRdLuba6huLPw2y3DNASUDFrsrg55wooA2fBPjrXNL+Fnxn1xdQmu9Q0SfU57Fr12mWIxQM8agE/dDAfKK87/AGNfidrnxm8SeEfG3iWSCXXdY8HtNdNaxeVGWF46DauTj5VFenWf7O/jWx8J+MvDyfEDR2s/FP2r7ZI3hl/Mj8+Mxv5Z+2YGAeMg8+tYHwT/AGRfFHwHs9EttB+IunXcekaW2kwfb/DTMWiMzS7m23a5bcxHGBjtQBxPwn/am8f+JPjx8QvC2pXdjdaPpXxA/wCEds4/sao8Vnl/l3KRubgfM2elcB+2B/yfdo//AGTS6/8ASmavYfCf7EfiDwf8QPEPi+z+JFlJqWt+I/8AhJriKbw2TEtz83yKBdgiP5jwST71a+JH7GviT4ofFq2+IWqfEawt9Zt9Dk0BYLXw2wg8h3ZyxDXZbflzznHA4oA5n9tH4ieKPhx8C/gjdeFtevtAub7xNothdS2MvltNbvC2+Jj3U4GR7Ctb+1L3w7+xH8XtQ0q8n0y/s7bWZba6tJDFLA6xkqyMpypBAwR0re+MX7Jfin42eD/CHhzW/iJptrZeGdTtNUtJLHw2yySS26FUEha8YFSG5AA+orRuv2Z/GN18JfFHw9b4haSNH8QxXUV1cDw0/noLhSr7D9s2ggHjIP40AeffsBa9qfiSx03UtX1K71XUbrwhpk1xd3s7TSzSFRl2ZiSWPqa8R/Y4/wCSzeJ/+yqaz/6AtfU/wW/ZZ8W/AuytLXQviHpd3HbaZb6Uhv8Aw07ExQjCsdt4vzHv29q5r4Z/sO6/8LPE1/rml/EmzuLu88QXXiORLvw2WQXE4AdBtuwdgxwM59zQB4Z8dv8Ak+r4vf8AYh6b/wCldtXon7dDEfED9k4AkA+KVzg9f3cNdr4s/Yn8Q+Mfix4j+IN58SLKLWNd0iHRrmCHw2RAkMUiSKyA3ZYNmMZJJGCeK2fix+yj4r+MGsfDzUtY+IemW0/gjUBqOnLZ+GnVZZAqjEu68OVwg+7jqaAK3hdQv7CvjUAYH/CP65/6KnorpLH9n3xtp/wn1T4fR/EDR20fULO6sZbhvDMnnqlwrq5U/bNuQHOMj060UAcjp/7Nfii3ksLY+H/Ddv4it7qKaf4mxa1dtq1ztlDPOYDCP3sig5iaYwgsRgoAtfVVFFABRRRQAUUUUAFFFFABRRRQAUUUUAFFFFABRRRQAUUUUAFFFFABRRRQAUUUUAFFFFABRRRQAUUUUAFFFFABRRRQAUUUUAFFFFABRRRQAUUUUAFFFFABRRRQAUUUUAFFFFABRRRQAUUUUAFFFFABRRRQAUUUUAFFFFABRRRQAUUUUAFFFFABRRRQAUUUUAFFFFABRRRQAUUUUAFFFFABRRRQAUUUUAFFFFABRRRQAUUUUAFFFeH/ALUfxg8bfCXS/DTeC/D0ervqV5JFf30lhcal/Z0KRl/M+xWzCeYFsKSnCDluwoA9wor4i8L/ALS/jrxx8XvhPrcWt+HYPCOo+DNY1XWdPs7if7G01nOI5m8yVEaNlOzHmKPLzKG3YU1h2f8AwUA8fWeh+L73UfD/AIfvfsvgiXxlpFxZ2eoWtswjuYoTBuuApukImVhcQhUOOAc8AH3zRXxh4q/bM+IfwtHjmw8XeGPDV7rdh4f0nXdHXRrqdbcG/vRZxw3LyDJ2SMGaRQoKjoCa5/Ufjp8T/hX8Yvi/P4p1Hw7Nren6D4dgsLCO7vTo3n3NzMnmR2+HmMpHHlRgvIY1wRngA+76K+IdN/bV+Juq+HbLT7Twv4ffxpL8RE8Ck6jDe6faSLJZNcpctBJmeAjjMb7jgHGCRjnvjR+0F8W/Gfw68S31q2h+HvD3h3x1pnhK8vNJu7q31OW7hvLVbqWPnaLeR3ZBE3zGNssT0IB9/wBFfDl1+0d4v+Hvw+8c654UtNDmvYviRruhQ6JrV1qGoXur3KzolvDYxq5Ks53ZjGI4wMgKAaufEL9sr4seCvEK+Gofh/p+o+J9B8O2Wt+JNPsrPUL0TT3DMTaW0lujrDtRG/fTkoW+UA4JoA+16K+BP2lP2kviV45+FfxjvvCUOn+F/B/hPUdO0aW8N3cW2v8A2h5LOWSSModiKPPWPYeWBf5h90/SH7VXxc8TfBX4fW/iTw5L4daVbgW5sNbiuZrjUJnGILazig+aSd34CnjGTwASAD2uivBdJ/aisvA/hfw9a/F63n8NePbzT0v7/StD0XUdQtrbzGfYglihkXcAoDLuJDA9sE+b/Gr9srxh4F8YwXOiaFplv8OhYWF+mv69p+oGK7Fw2XSWaBG/s1kQgj7TFlieijmgD7Cor5k8O/tGfEDxt481i+0LRfCrfDbR/GDeD7kX2ovBq0zoqebdwsxETAM42QYLyKMgjIrnfBH7XXj3XIfhv421Tw74dh+GfxA8Rnw7plrZ3E7azZM7zpBNPuHlOGaBt6KAUBHJwQAD69or4V0v9t34qXfwt8D+Jrrwt4aiu/H2qyaboMNhBqF+bZLc3H2qe4hhVpJCRCnlxRc/eLNjgafiP9sv4rQ/D/wnq1p8PI9Fvp/7STXrnUNI1G9htHtXCRsLWFVuY4ZwSwmdCI/ukEigD7XorlPhT44j+JXw18M+KY5LGUatp8N2zabO09tuZQWEcjKrMobIBKqeOQDxXV0AFFFFABRRRQAUUUUAFFFFABRRRQAUUUUAFFFFABRRRQAUUUUAFFFFABRRRQAUV832/wAWfiRpPhNdV1K2e9k1SSOARQ6DPDJol/58ayWciZJlhKO4S54XMeScOuPo2ZnWJ2RPMcKSq5xk9hntQA+ivHvEfxe8d+FYLCW/+GcQW9voNPi8rxDC372ZwiZzGOMnk/pWx/wm3xI/6Jnbf+FHF/8AGqAPSaK82/4Tb4kf9Eztv/Cji/8AjVH/AAm3xI/6Jnbf+FHF/wDGqAPSaK82/wCE2+JH/RM7b/wo4v8A41R/wm3xI/6Jnbf+FHF/8aoA9Jorzb/hNviR/wBEztv/AAo4v/jVed+B/wBq3xB8QviZ458B6R8NJP7f8Gvbpqv2jXIUhzMpZPLYIS/AOeBigD6Norzb/hNviR/0TO2/8KOL/wCNUf8ACbfEj/omdt/4UcX/AMaoA9Jorzb/AITb4kf9Eztv/Cji/wDjVH/CbfEj/omdt/4UcX/xqgD0mivNv+E2+JH/AETO2/8ACji/+NUf8Jt8SP8Aomdt/wCFHF/8aoA9Jorzb/hNviR/0TO2/wDCji/+NUf8Jt8SP+iZ23/hRxf/ABqgD0mivNv+E2+JH/RM7b/wo4v/AI1R/wAJt8SP+iZ23/hRxf8AxqgD0mivNv8AhNviR/0TO2/8KOL/AONUf8Jt8SP+iZ23/hRxf/GqAPSaK82/4Tb4kf8ARM7b/wAKOL/41R/wm3xI/wCiZ23/AIUcX/xqgD0muH+KHwV8H/GS30yPxVpTXsulzNcWF5a3c1ndWkjLtYxTwukibl4IDYIxnOKzv+E2+JH/AETO2/8ACji/+NUf8Jt8SP8Aomdt/wCFHF/8aoAqR/sufCuG38MQR+DbJIfDVtc2mloskoEUNwGFwj/P+9Em5i3mbtxJJ55rJsP2Nfg9ptjd2cfhDzYLrSG0Cb7TqV3Mzaczo/2UM8pIiVo02qCNu3C45rof+E2+JH/RM7b/AMKOL/41R/wm3xI/6Jnbf+FHF/8AGqALHiL4A/D7xbeavc6z4YtNSm1bRo/D979oZ2WawjcyRwld2BtclgwAYHBzwK5W1/Yy+D1np2qWkXhE/wDEz+ym6un1O8e6d7Zy9vIJ2lMiyRsTtdWDDgZwAK6L/hNviR/0TO2/8KOL/wCNUf8ACbfEj/omdt/4UcX/AMaoAraH+zD8MvDsltJp/haOGS31xPEsbtd3Ejf2ksRiF0S0hLPsYg5yGJyQTzVLxR+yP8JfGXi688Tav4PhutXvLqG/uJFu7iKKS5iI8ucwpII/NG0Dft3EDBJBNa3/AAm3xI/6Jnbf+FHF/wDGqP8AhNviR/0TO2/8KOL/AONUAYviX9kH4ReLpI5dU8HxzTR6ne6yksV/dQul5eMrXMwaOVSGcouccDHAHNN1r9j74R+IrfR4NR8JfaotKtBp8IfUbvM1qJDIILg+bm5jDsWCTFxknitz/hNviR/0TO2/8KOL/wCNUf8ACbfEj/omdt/4UcX/AMaoAx/G/wCyJ8IviN4jv9d8QeDbe91HUFhF2UuriCK4MIAid4o5FRnQAKHK7gBjOK6L4rfAfwL8bl0ceNdC/tk6PK89gwu57dreRgAzq0Toc4Uc9u1Vf+E2+JH/AETO2/8ACji/+NUf8Jt8SP8Aomdt/wCFHF/8aoA6zwP4I0b4c+F7Lw9oFtJaaTZ7hBDLcy3DLucu2ZJWZz8zE8k9cdK4fx9+y78Mfif4rk8R+JPDCX+qzxwxXjJeXEEV+kRzEl1FHIsdwqnoJVb06cVc/wCE2+JH/RM7b/wo4v8A41Xnfxn/AGrPEHwF07w/e+KfhpIINc1eDRLP7DrkEp+0zBtm8FFwvynLc444oA72b9mX4ZXHxLTx9J4Ttm8ULdLfi586XyftSpsW5+z7/KMwXgS7N49ah8P/ALLPws8K+PF8ZaX4RtrXXo7ia7hkE8zQW88uRLNDblzFE75OWRATnrV3/hNviR/0TO2/8KOL/wCNUf8ACbfEj/omdt/4UcX/AMaoAivf2afhtffDXSfAT+GY4vDGj3Bu9Ntre6nilspi7v5sM6uJY33SSfMrg4YjpxWVq37Ifwl1fw/oWjP4TFnZ6HHPFYvp1/dWlxHHM2+dGnilWSQSN8zh2bcSSeea2v8AhNviR/0TO2/8KOL/AONUf8Jt8SP+iZ23/hRxf/GqAO28NeG9L8G+H9O0LQ7CDS9H06BLa0s7ZNscMSjCqo9ABWnXm3/CbfEj/omdt/4UcX/xqj/hNviR/wBEztv/AAo4v/jVAHpNFebf8Jt8SP8Aomdt/wCFHF/8ao/4Tb4kf9Eztv8Awo4v/jVAHpNFeaP45+I0a5f4a2qj1bxJEP8A2lUf/CwPiD/0Tqy/8KaH/wCNUAen0V5h/wALA+IP/ROrL/wpof8A41R/wsD4g/8AROrL/wAKaH/41QB6fRXmH/CwPiD/ANE6sv8Awpof/jVH/CwPiD/0Tqy/8KaH/wCNUAen0V5h/wALA+IP/ROrL/wpof8A41R/wsD4g/8AROrL/wAKaH/41QB6fRXmH/CwPiD/ANE6sv8Awpof/jVH/CwPiD/0Tqy/8KaH/wCNUAen0V5h/wALA+IP/ROrL/wpof8A41R/wsD4g/8AROrL/wAKaH/41QB6fRXmH/CwPiD/ANE6sv8Awpof/jVH/CwPiD/0Tqy/8KaH/wCNUAen0V5h/wALA+IP/ROrL/wpof8A41R/wsD4g/8AROrL/wAKaH/41QB6fRXmH/CwPiD/ANE6sv8Awpof/jVOTx78Q5G2p8OLNj6L4lhP/tKgD02ivIfFfxa8d+C/C+seINS+Gkf9naTZzX9z5PiGFpPKiQu+1TGMnapwMjnvRQB69RRRQB5v8cP+Qb4Q/wCxr0n/ANKVr0ivN/jh/wAg3wh/2Nek/wDpStekUAFFFFABRRRQAV8W/sof8n2ftXf9fOk/+iXr7Sr4t/ZQ/wCT7P2rv+vnSf8A0S9AH2lRRRQAUUUUAFFFFABRRRQAUUUUAFFFFABRRRQAUUUUAFFFFABRRRQAUUU2SRIY2d2VEUZLMcACgB1FNjkSaNXjZXRhkMpyD+NOoAKKK+VP2M/iJ4n8bfFv9pHT9f1291ex0Hxk9jpdvdSbks4AZcRxjsvA49hQB9V18W/8FP8A/kS/g5/2UbSv5S19pV8W/wDBT/8A5Ev4Of8AZRtK/lLQB9pUUUUAFFFFABRRRQAUUUUAeV/GPw/pfinxp8LtM1nTrXVtOl1m6aSzvYVmicrpt2VJRgQcHkZHBra/4UP8Nf8Aon3hf/wT2/8A8RVX4i/8lI+FP/YYvP8A02XdYH7UnjL4s+B/h7a3/wAHfB9l4y8SPfxxXFpfPgRWxVi0ir5ke47ggxu4DE4OKAOp/wCFD/DX/on3hf8A8E9v/wDEUf8ACh/hr/0T7wv/AOCe3/8AiK+LP+GiP27P+iGaF/36/wDu2j/hoj9uz/ohmhf9+v8A7toA+0/+FD/DX/on3hf/AME9v/8AEUf8KH+Gv/RPvC//AIJ7f/4isr9nDxV8SPGXwrsdT+K3he08IeMHmmSXTrOQMnlK2I5CN77Cw/h3H14zgcV47vdC1X4ueMrP4geKrvw1pGj6LZ3eixw6zLpyhW883F6mx18yVHVU53bAq8DzPmAPSv8AhQ/w1/6J94X/APBPb/8AxFH/AAof4a/9E+8L/wDgnt//AIitLwjr1pqng2z+zapPqN1DpsEk0l6qx3vzwhkeeIBTHIw+YqVXkngdK+L/AIe/FrXfBfgzRPE1lqtvf6kPh5qGrzw/8JXda4l5eRW8EqS31vJj7Jg7+Yzy0hjJHFAH19/wof4a/wDRPvC//gnt/wD4ij/hQ/w1/wCifeF//BPb/wDxFeU6h8bPGPhvxfNp1/q+gXs+natZ6JLocVk0N5qInto5nvoAZmKRRmRsKQwKW0xLBvu8VJ8cPiTqUnw1jvfEui6d/wAJAnhvX55bHTWjRIb2V45rP55m3ISEIc4bJI7jAB9F/wDCh/hr/wBE+8L/APgnt/8A4ij/AIUP8Nf+ifeF/wDwT2//AMRXhPwL+NHinxRr2q3l9fWOl2+r2MupGPWr5JY9GdLxY1g8oXrPhhM6EukBWSNV2kYVfR/2kviTZ6L4V1Dw1p+tyab4vmOmXNrbwSNDPNFLqMUJETcbycMpVSSAwyMMMgHX/wDCh/hr/wBE+8L/APgnt/8A4ij/AIUP8Nf+ifeF/wDwT2//AMRXzvqn7WviqHVtai0q70O9hubWa50lru1EaxFNWtLFQ0aXLTOpS5dm8xIW3R5UbSQL/i79ovx94X1bUvDP2jSZr7Sb3Uo5NektYIIJ1t7axuI4mSe8iRCRetvKyM2yEsqckqAe8/8ACh/hr/0T7wv/AOCe3/8AiKP+FD/DX/on3hf/AME9v/8AEV5T8dPFl/qNj8F7i7kg0pNbu5JdQsJfEk2k2rE6ZNL5b3cALEK4BUAEMVFSx/FbV/BN54V8LaRBpdyPE6QRaHLDqdxrMYuVvD/aKtdSMGlWO1bzlztwY5F6AYAPUf8AhQ/w1/6J94X/APBPb/8AxFcf43+GfhDwb4u+Gd/oHhbRtEvm8SrCbnTrCK3kKGxvMqWRQdpwMjpwK8v1T9pb4gxeHdGvlfRbdtWXW7+G4NrFHbwQ2NysEds7XN5ErM4JkkdW3AKQsfBYew+MdVuNdtfg1qV3bLZ3V5rttcS26SCRYnfTbtmQOOGAJIyOuM0AbH7Q3/JAfiZ/2LGp/wDpJLRR+0N/yQH4mf8AYsan/wCkktFAHoNFFFAHm/xw/wCQb4Q/7GvSf/Sla9Irzf44f8g3wh/2Nek/+lK16RQAUUUUAFFFFABXxb+yh/yfZ+1d/wBfOk/+iXr7Sr4t/ZQ/5Ps/au/6+dJ/9EvQB9pUUUUAFFFFABRRRQAUUUUAFc/4Q+IHhn4gR6jJ4a17T9ej067exvG0+4WYW9wmN0T7SdrjIyDzzXQV8Wf8Ex/+QD8cP+yj6p/JKAPtOiiigAooooAKKKKACiiigAorA8NeONI8W6hrVlpk7zXGj3JtLxWiZAkgzwCR83Q8it+gArivjUM/CPxeCMj+zJ//AEA12tcV8av+SS+L/wDsGT/+gGgBnwPGPhB4QAGB/ZsP/oNdxXD/AAP/AOSQ+EP+wbD/AOg13FABXxl+wX/yW39q7/sfZP5zV9m18ZfsF/8AJbf2rv8AsfZP5zUAfZtfFv8AwU//AORL+Dn/AGUbSv5S19pV8W/8FP8A/kS/g5/2UbSv5S0AfaVFFFABRRRQAUUUUAFFFFAHnfxF/wCSkfCn/sMXn/psu67rUdUstHtjcX93BZW4IUy3Eqxpk9BknFcL8Rf+SkfCn/sMXn/psu62viJ8NdE+KGjQ6Zrscz20M4uIzBKY2VwCM5+jGgC3/wAJ/wCF/wDoZNI/8Dov/iqP+E/8L/8AQyaR/wCB0X/xVeYf8Mf/AA9/55al/wCBh/wo/wCGP/h7/wA8tS/8DD/hQB7NY6ha6papc2dzDd20n3JoHDo3OOCODXnXxA8faFb+Jv7HfwZqHjjVdGtk1a4XT7GC4OmxsWEb5ldf3jeU5WOPdIQhOOmer8B+A9J+G/h2PRdFjljskkeX99IXYsxySSa4zxB4F8Z6L488QeIvBFxoZPiKyt7e8j1szKbS4gDrHcR+Wp80FHAMTbOYwQ43GgD0LSdQ0/U9Jh1uzTFvf28d0JWhMckkZQMpZWAYHaejDI6cV5X4B+MvgnXDYY8KXng6x8Q6RJrNpfavZW1vbX1nGqO7s8cj7dqTI2JdvDH0OPSdB07W7TT5LDVb+HUhFbQwxahs2T3DiMCWWVAAilnyQE4ANfMeg/sa65Z+C5tCZvC+iTf8IheeGZbzSVuJG1V5oUjEl0JAAqKyeZtXcSx4IAIYA+iLfxl4A1jxJpzQa14cvdfubN3smjuYJLmW2yxYxkHcY/lYnHHyt6GsXVvjB8KUt7CO48R+G9QgudQs9IhSCeG5UXEh3W0ZCk7Rldyk8DbntXK+IvgHrOo+LdQFjPo1r4b1DWrLX3ufLddQtZbW2jhS2hAGwRN5K/NuBVZZlCndkYUf7Lmr6Z/wr6WwvNGMnhfSdA054GheKOdrC4aSVlKqdoZXbbwfm64yTQB6b4Z8eeA9b1zxlY2kWm2d1ptyiazNMLdFlk3sitIQxLHKcF8H5lHXgSfETxxo/h/xRoWmv4Wu/F3iZre51GytdPgt3uLeCIxrNMrzyRheZY1wrbmLAAYyR5n8Kf2a9d+Gt1vluNL1v+zdOl0vTX1C9u51uI5bqOZ3lhb93CcRKSqB8yfMGUfKex+N3wn1P4lahprrpfhrxLpNvBIh0zxAJLeS1uCQVure7hRpY225VkGMjaQykcgEnhb4pfDHxD4o/s6KHT9I126S1voodUtYrO5unu4vMXaj4kaXamHBG4EYPSrOu/FP4fzaHpc2rx2F1PqF1ZTQ6NL9mubsST3EdvDOYldhgPImZATgdD2ri9H/AGa9cs9L1GPUvEdvrOq3jeGGfVbqJ2nlOl3Ec0pdiSxL7WCkkkE5Ykkk0/CP7LOp+G9HNvJqumy3e3wyguI4GU7dMvTcyrnrhwcKOx5NAHsk3izwN4s1C40WXV/D+sXtnci3m0+S4gmkhnIbCGMkkP8AK/GM/K3oajsfA/hnUPEmleI7Axy/2PHc2dlb2cq/Y7aRnKzusafKJsq0ZbqBuXjLZ+bNW/Zn8R/D/wAH3l3bStrmt6DbtH4Unt5ru9ne+a9iuIJJYGIit498UYl27hhpG3IMqfp74b+C4Ph34E0Tw7A3m/YLZUlm7zTH5pZT7vIzufdjQBq33h7StTtYba80yzu7aGUTxQz26OiSAkh1BGAwJJyOea4r4t/8h74Y/wDY0p/6Q3lei1518W/+Q98Mf+xpT/0hvKAJP2hv+SA/Ez/sWNT/APSSWij9ob/kgPxM/wCxY1P/ANJJaKANmH4peDLi4igi8XaDJPKypHGmpwlnYnAAG7kkkYrp2YKpJOAOSTXI6J8IPBHh0yHTvCmj27SXcl8XFlGWE0khkdwSMg7yTx07YrrZI0mjaORFeNgVZWGQQeoIoA8r+Muu6bf2fg+G21G0uJT4q0oiOKdWY/6SvQA16tXifxU+Gfg/wyvgy+0fwnoelX0finSlS6sdNhhlUG4UEBlUEZHHHY17ZQAUUUUAFFFFABXxb+yh/wAn2ftXf9fOk/8Aol6+0q+Lf2UP+T7P2rv+vnSf/RL0AfaVFFFABRRRQAUUVn69r2n+F9HudU1W6Sy0+2XfNcSZ2oMgZOPcigDQoqCxvoNUsbe8tZVmtbiNZopF6OjAFSPqCKnoAK+LP+CY/wDyAfjh/wBlH1T+SV9p18U/8Eypo49D+NqPIqM/xH1QKrEAtwnT1oA+1qKKKACiiigAooooAKKKq6lqlno9m93f3cFjax43z3MixouTgZYkAcmgDx79n/8A5Hb4tf8AYwN/N69rrxP9nyRZPGnxYdGDo2vsyspyCDvIIPpXtlABXFfGr/kkvi//ALBk/wD6Aa7WuK+NX/JJfF//AGDJ/wD0A0AM+B//ACSHwh/2DYf/AEGu4rh/gf8A8kh8If8AYNh/9BruKACvjL9gv/ktv7V3/Y+yfzmr7Nr4y/YL/wCS2/tXf9j7J/OagD7Nr4t/4Kf/APIl/Bz/ALKNpX8pa+0q+Lf+Cn//ACJfwc/7KNpX8paAPtKiiigAor5H/wCCevjjxF42s/jU3iHXtS106f4+1CyszqN08/2aBdu2KPcTtQdlHAr64oAKKKKACiiigDzv4rafrv8AbngbW9D0OXxCdG1Oae5s7e5hgk8uSzuIQymVlU4aRcjOcGm/8LE8Z/8ARKda/wDBrpv/AMkV6NRQB5z/AMLE8Z/9Ep1r/wAGum//ACRR/wALE8Z/9Ep1r/wa6b/8kV6NXmnwn8c6v4s8WfEGw1KWKS20bVjaWaxxBCsfzcMf4jwOaAJf+FieM/8AolOtf+DXTf8A5Io/4WJ4z/6JTrX/AINdN/8AkivRqKAPOf8AhYnjP/olOtf+DXTf/kij/hYnjP8A6JTrX/g103/5Ir0aigDzn/hYnjP/AKJTrX/g103/AOSKP+FieM/+iU61/wCDXTf/AJIr0aigDzn/AIWJ4z/6JTrX/g103/5IqvqHxW8UaTZy3d98M9UsrSIZkuLjWdMjjQZxksbjA5NenV89ftQ/GbwnY2Gs/C6e+kXxlqWif2vbWX2aQo9skwDMZMbAco3BOePegDvIPiZ4uuoY5ofhbrE0Mih0kj1bTWVlIyCCLjkEU/8A4WJ4z/6JTrX/AINdN/8Akiun+H//ACIfhv8A7Btt/wCilrfoA85/4WJ4z/6JTrX/AINdN/8Akij/AIWJ4z/6JTrX/g103/5Ir0auL8YfElPCfjTwl4ebT3um8QSyxLcLKFEGwA5K4+bOfagDN/4WJ4z/AOiU61/4NdN/+SKxtXuPGHjzxT4IWfwHfaBY6VrP9o3V9e6jZyKsa2txHgLFK7Fi0q9sdea9fooA8+/aG/5ID8TP+xY1P/0kloo/aG/5ID8TP+xY1P8A9JJaKAPQaKKKAPN/jh/yDfCH/Y16T/6UrXpFeb/HD/kG+EP+xr0n/wBKVr0igAooooAKKKgvryPTrG4u5s+VBG0r7Rk7VBJwPoKAJ6+Lf2UP+T7P2rv+vnSf/RL19KfA742+Gv2hPh3ZeNfCTXbaJdyywxG+g8mXdG5Rsrk45Br5r/ZQ/wCT7P2rv+vnSf8A0S9AH2lRRRQAUUUUAFebftHf8kR8Wf8AXqv/AKMSvSa82/aO/wCSI+LP+vVf/RiUAdP8Of8Aknvhj/sF2v8A6KWuirnfhz/yT3wx/wBgu1/9FLXRUAFfmN+xioPjvUiR0+LGtf8AoEVfpzX5jfsYf8j1qX/ZWNa/9AioA/TmiiigAooooAKbJIkS5dlQdMscU6vFP2tf+SZWP/YZtP5tQB7XXyj/AMFRlDfsR+PgQCN9ieR/0+Q19XV8pf8ABUT/AJMk8f8A+9Y/+lkNAHSfse8WXiwDp51n/wCk4r6Jr52/Y+/48/Fv/Xaz/wDScV9E0AFcV8av+SS+L/8AsGT/APoBrta+Vf2ov2hNU8KfFvRfhHBpNnPpXirwxqd/PqMkjieBoYpSFRR8pB2Dr6mgD3L4H/8AJIfCH/YNh/8AQa7iuH+B/wDySHwh/wBg2H/0Gu4oAK+Mv2C/+S2/tXf9j7J/Oavs2vjL9gv/AJLb+1d/2Psn85qAPs2vi3/gp/8A8iX8HP8Aso2lfylr6q+Jvi+XwD4D1nxBBbJeS2EPmrBI5RX+YDBIBx1r5C/4KLaw/iH4S/AXVJIlhe+8daLctGpyELxuxAPfGaAPuWiiigD4E/4J8fECw8I6l8VdIuoLiW4174n6pbW7wqpRGUISXyQQOe2a++6/Mf8AY6/5KJrn/ZXNY/8AQY6/TigAooooAKKKKACiiigArxX4B/8AI/fFz/sPn/2evaq8V+Af/I/fFz/sPn/2egD2qiiigAooooAKKKKACvzs/bA/5Pu0f/sml1/6UzV+idfnZ+2B/wAn3aP/ANk0uv8A0pmoA+9PAH/Ih+G/+wbbf+ilrfrA8Af8iH4b/wCwbbf+ilrfoAK+Avgb8bPFnxp+NBbxXeW92fDnj/VNF07yLZYfLtURdqtt+8f9o819+1+Y/wCxx/yWbxP/ANlU1n/0BaAP04ooooA8+/aG/wCSA/Ez/sWNT/8ASSWij9ob/kgPxM/7FjU//SSWigD0GiiigDzf44f8g3wh/wBjXpP/AKUrXpFeb/HD/kG+EP8Asa9J/wDSla9IoA4jQ/jN4R8RfFPxF8OrDVGn8X+H7aG81Gw+zyqIYpQpRvMK7GyHXhSSM8129fGHwX/5Sd/tAf8AYt6T/wCioK+ttY8aeH/D+saTpOqa5p2m6pqztHp1ld3SRTXjKAWWJGILkZGQoOMigDZrK8Wf8itrP/XlN/6Aa1ayvFn/ACK2s/8AXlN/6AaAPlf/AIJTf8mX+GP+v/Uf/SqSsr9lD/k+z9q7/r50n/0S9W/+CVOqWafsgeFbBruBb57zUZFtTIvmlftUnzBc5x715z8KviJdfDv9uD9o+a1s4bw6lruiWDiZiuxXifLDHegD9DaKK8L/AGyv2hNT/Zl+DZ8Z6TpFprV3/adrYfZb2Ro49srFS2V5yMUAe6UUyGQywxuRgsoP6U+gArzb9o7/AJIj4s/69V/9GJXpNebftHf8kR8Wf9eq/wDoxKAOn+HP/JPfDH/YLtf/AEUtZfxs+I5+EHwj8XeNl0/+1ToOmzagLHzfK8/y1LbN+Dtzjrg1qfDn/knvhj/sF2v/AKKWvOP21P8Ak0v4t/8AYt3n/oo0Adn8E/iQfjB8I/CPjZtP/so69psOoGx83zfI8xQ2zfgbsZ64Ffn5+xh/yPWpf9lY1r/0CKvs/wDYr/5NL+Ev/YuWf/osV8YfsYf8j1qX/ZWNa/8AQIqAP05oorjPH3xi8I/C/VvC2meJtXGmX3ijUF0vSIjBLJ9puWIAjyikL94ctgc9aAOzooooAK8U/a1/5JnY/wDYZtP5tXtdeKfta/8AJM7H/sM2n82oA9rr5S/4Kif8mSeP/wDesf8A0shr6tr5S/4Kif8AJknj/wD3rH/0shoA6T9j7/jz8W/9drP/ANJxX0TXzt+x9/x5+Lf+u1n/AOk4r6JoAp6lrFho6wtf31vYrNIIo2uZVjDueirk8k+gr4L/AGzP+T4fhd/2JOuf+iZ6+k/2pADo/grIz/xUlr/7NXzZ+2Z/yfD8Lv8AsSdc/wDRM9AH2R8D/wDkkPhD/sGw/wDoNdVrmtWPhvRdQ1fU7hbPTdPt5Lu6uHztiijUs7nHOAoJ/CuV+B//ACSHwh/2DYf/AEGof2gf+SC/En/sWtS/9JZKAN/wJ480H4m+EtO8T+F9Si1jQdRQyWt9CGCSqGKkgMAfvKRyO1fKP7Bf/Jbf2rv+x9k/nNXff8E6f+TKfhX/ANg+X/0pmrgf2C/+S2/tXf8AY+yfzmoA+hv2i/8Akifi3/r0H/oa18o/t6/8kG/Zz/7HHQP/AES1Zv7Vd9cr+3TBaC5mFo3wwu5GtxI3llhcS4YrnGffFaX7ev8AyQb9nP8A7HHQP/RLUAfetFFFAH5j/sdf8lE1z/srmsf+gx1+nFfmP+x1/wAlE1z/ALK5rH/oMdfpxQAUUUUAFFFFAHmvh/4++G/Enx28UfCa1g1BfE/h3T4NTvJpYVFq0UoQqEfeWLfvFyCo7816VXxl8J/+UpHxw/7FHTP/AEG2r7NoAK8V+Af/ACP3xc/7D5/9nrjv+Cj3jvxF8N/2TfE+veFdavfD+tW91ZLFf6fKY5kDXMasAw6ZBIP1roP2X5pLnWPiFNK7STS39vJJI3JZmiJJPuSSaAPe6KKKACiiigAooryy38Yaw/7R114aa9J0RNDF2tpsXAl8wDduxu6ds4oA9Tr87P2wP+T7tH/7Jpdf+lM1fonX52ftgf8AJ92j/wDZNLr/ANKZqAPvTwB/yIfhv/sG23/opa36wPAH/Ih+G/8AsG23/opas+GfFekeMdOa/wBFv4tRs1kaEzQklQ6/eX6igDWr8x/2OP8Aks3if/sqms/+gLX6cV+Y/wCxx/yWbxP/ANlU1n/0BaAP04pGYIpZiFUDJJ4Ar4h8UfHjxH8PP29PiNbT6hqWreFtM8FWd1D4da+ZLVZ5J4EMqocqr4Y84ycmu1/a6+N3i34f+MPgJp3hzUV03TfGOvGw1i3a3jmM9uyRnYGdSV++3K4PNAHsPx41G01T9nf4lXNldQ3lu3hnVAs1vIHQ4tZQcEHFFeUeFlCfsJ+NQowP+Ef1zgf9cp6KAJrDw78SFlslNt44Tx0tzE13rE+t27eHW/eDzWW3Ep/cFd22MQiUAqNwYF6+l5d/lP5RUSYO0sMjPbPtT6KAPnr4wWvxSGneFvtup+D3H/CS6Z5fk6bdriT7Qu0nM5yueo9O4ry/9nz9r74ofHyPRHg0zwfov9p6hqGngSw3c3lm1AJbiRc7s8DjFfR3xv8A+Qb4Q/7GvSf/AEpWvhX/AIJ0/wDHv4G/7GPxF/6CtAHsniv4Z/ED4A/Fjxp8dk13wzq+q+KobHR7nSG025iggWMIiuj+eWJPlgkEdzXU/F79nP4kfFD4ifDr4gXHiTwvHq3gGa5vtP0+10q48u+eVFHlyM1xlR8gwR6813f7W/8AySVf+wna/wDoRr2aL/Vp9BQB8q/Hb4+fGP4B/s+6j8TNc0nwjJcWBhE2grDcrIDJOsQHnCZl4DBuntXQ/D/x98VPi9b+JNPE3g3TktEjgd/sN3IXE0RbI/fDGAcVzP8AwVM/5Ml8c/8AXWw/9LIa679lH/kIeOP+utj/AOk9AHC/s8/sbeOv2c7DQ7XR/GXhvVxpNvc28Ul9o1wjOJpWlYttuOoLEDHaq1r+xT44tfi14y8fDxr4dfUPFGpWWp3Fm2jXHlQPbKVVUP2nJDZ5z+FfY9FAHyd8Uf2hPjB8O/jl4F+GdrpXhHXdQ8WWV5dQXiW91AkLQIz+WwMpB3bcA7hjNXPj5+zz8T/2pvhHbeE/FGv+F/Cyy3VtqMosNNuJ5YZYju8vcbjawycEj8K+pNoLA4GR3paAPmzRfi38VdS8B+NfESHwZHH4Xa8ja2+x3hNx9njL5Ded8u7GOhx71yn7Nv7T3xS/aK03Rby3s/B+hDUtJbVVSW3u5zGBO0Ow4lXJ+Xdn8K3vBf8AyQb46/8AXXWv/SZq8e/4Jkf8iz4H/wCxQl/9L3oA63wL+198UPHHjzxP4Zj03wfZvofjA+EWuWhu3EzDd+/C+YMD5fu5zz1q98TPih8S/Fnx5i/Z3vD4TiOv+G31ptehtLr9yqSsvl+UZuTmPO7djnpXivwD/wCS/fFT/sszf+1K+v8AVf2dbzUf2wNF+NI1yFLLT/DUmgnRzbkyOzSO/m+ZuwB84GNvbrQB518dfjV8UP2V/C3w7tnTwh4hh1jWrLwtEVtLqBod6FRM375t2NnKjHXrWrdWPxM/al+DHjHw7eap4S0Kw1YXehTzQaddSyouNpkXM4GfmyARXH/8FNv+Rf8Agj/2UfS/5SV7b+yx/wAiDrH/AGHbz/0JaAOH+Cmi/Ff4aWtl8JbG58Mz6X4R0i1trfXLzSrxReKEUdBMFDDPOGPTpXK/Cn9irxx8JdYuNRsPGvh2/lm8S3fiYpc6NcKFmuAoaIbbn7i7Rg9eea+xqKAPi/x1+1x8UPA/xw8TfDh9N8IXc+ieH4debURDdosqyTRxCIJ5hII8zO7J6dOa6n4v/s//ABE+O2ofDTxVqfijwvpsvgvVI/Ednb2uk3LrcyAKwikJuMhflHK814B8fv8Ak/D4of8AZPLL/wBLIK/RTwz/AMi3pX/XpF/6AKAPl7xh+0Z8VvB/7N+v/Fu4sfCUkOkRNK+jm0vI5JAswjx5hl4zuz92t34M/Gb4q/GDzvJ/4Q3S/L06x1D5rO7lyLmEShP9cv3c4z39qt/8FD/+TLfir/2DE/8AR8Vc/wDsS/evf+xb0H/0iSgDlf2d/wBr/wCKH7QE+nR2+meENE+2X+oWIMkN3NtNqAS3Ei53Z6dven6746+I/wAePjx4y+BN5J4V0t/CdtY662tQ2d04uS4RljERmG3Hm4J3Hp78eQf8E3/+Qh4b/wCw/wCIf5Cv0O0/4c+GNJ8b6p4xs9CsbbxTqkCW19q8cIFxcRIFCI79SAFXH+6KAPm/48/tH/FP4GeP/hv4XntvB+ryeM57uCO5jtruEWnkRo5LL5rb92/HBGMU/wCIXw1+I37Zn7OE2garr3hbw3pniSOKV5bPTLmaaDypw4A3ThTkxgcjoTXDf8FBP+Th/wBmf/r/ANY/9J4q+n/2b/8AkiPhP/r2b/0Y9AHB+AfhP8S/g7pWtzWPiHwlfrcKs8guNKulx5UW0AYuO4Fea/sz/tcfFD9pHTtAu7XTvB+hDVobuZVkhupzH5ErRkZEq53bc9sV9nSRrNG0ciq6MCrKwyCD1BFeAaf4T0TwT+094e0nw9o9hoOlR+H5nSx022S3gVmkcsQiAKCTyTjmgDy3RPHfxH/ae+KnxA+Hlw/hTQ5PhjrdlKb9LO6lF+7LIQNnnDy1G3nknniuj+Kf7J3j/wCLHxe8O/ELUPGHhqy1HRdIvNHis7fR7hoZI7hHVnYm4yGXeSMccDNb/wCzv8C/Ffw2/aM+PvjLW4bRND8ZahZ3OkvBcCSRkjSQPvXHyH5l/WvpGgD5D+OnxY+J37G/wV8P6jjwj4mtIb6z0KOEWl1bufM3ASFvOYcbeRjvXVabqXxR+Pngnx14elv/AAfpNtI154emmj0+7kfa0ZRpVzOADhyQDnpXD/8ABVj/AJNt0T/sb9L/APQpK9f/AGY/+Pbx7/2Mlz/JaAMj4GfBf4mfAb4T+HPAOleJfCeqafocDQQ3d5pN0ssgMjPlgtxgHLkceleaeGfhr8QP2WviD4g1Ow17wxrlz8VfFX2u6S5025iSwlctxHtnJdRvPXB4r7NrnPFngHSfGl9od3qSzNNo92L218qUoBIMY3AdRx0oA+bfiN+yN49+JXxmj+I974x8N2mpJ4cl8N/YoNHuDCYXkZzLk3Od4LkY6cVa+Mv7KvxA+NXg3wL4c1Pxd4Z0628I6rZatbTWmj3LPO9shVUcNc4CsDzjnjivquigDwP4qeMvi/8ACH4VeLfGd7qHgrWl0HT7jUjaxaXd25lWNC3lhvtD4Jxjdj8K5L4DftAfFT452umzwQ+DtIF7odrrYWS1u5iizAERn96uSM9e/pXov7ZX/JqPxa/7Fq+/9EtXiP8AwT7/AOQX4Y/7EPS//QUoAufC39irxx8KdcvdTsPGvh2+luvE914oZLnRrhVWacKGiG25+4NowevPNUviF+158UPAPx01z4bSaZ4QvZ9L0GHXW1FYbtFkWSZYhEE8wkEbs7s9ulfadfmn+0d/yft48/7J/Zf+lkdAHvPx7/aP+KfwKvPhrbz23g/WT411dNJjaO2u4RaFlDeYcytvAz04p/i39or4p+FP2bdc+Lr2/g65ttLgknbSVtrtXk2zCPAkMuBnr92uG/4KDf8AIZ/Zg/7HCD/0WlT/ABf/AOUY3j7/ALB9x/6WCgD0r4H/ABo+Kvxqs5p4R4N0nyrKyvdr2d3KSLiHzAv+uX7vTPf2rgf2e/2wPih8fruxgg0zwhoputS1DTgZIbubabUAl+JFyGzwO3vXT/sI/wDIJvv+wFof/pGK+e/+Cc//ACGNB/7GbxF/6CtAHs3jD4afEH4E/GLxV8d117wzq2r+KLay0GfSG025it4UTYFkR/PLE/uhkEdzW18bP2j/AIp/Bj4pfDnwXNbeD9Vk8ZfbvLvEtruJbT7NEJDlfNbfuzjgjGO9ek/tbf8AJLbb/sLWv82rwD9uj/k679mr/uOf+kq0Adn8SPhd8RP21P2cv7C1bX/C/hrTNe8q4aSy0y5mmhMM4YAFpwDkx88dDXYeFvhr8TPg/pvijVLPXvCN/wDaU+2SxzaXdLjyoiAqkXB6gV3X7Nf/ACQ/wn/17v8A+jXr0LVNPi1fTbuxn3eRdQvBJsODtZSpwfXBoA+V/wBmf9oD40ftJ/D/AMP+MrLRPB+i6Jqi3O+WVbiZreSKZ4whXzVLbtmcgYGcU/4X/tBfFv4p/GL4peALK18FWNx4Du7W2mvp4LxlvBMrtuVBJ8m3Z0JOc9a9w+BfwT8O/s8/DbTvA/hVr1tFsXlkhOoTCabMkjSNlgBn5mOOOlfNn7IP/J6/7Wn/AGE9M/8ARUtAGr8Yf2nfil8I/jR4V+Hs1n4P1KbXtIvtWXUFt7uJYRbRu5Qp5pLFtmM5GM9K9H0u6+NnxI8BaRq2j+J/Bfhie/jjuvM/sO5vCqnkx4a5UHP96vnf9tD/AJPd+Ev/AGJ2vf8ApPNX2H8Cv+SO+EP+wdF/KgDyax+MXxWvvBPj/wARD/hDVTwkb0Pb/Y7sm5+zxGQ4bzvk3Yx0OPeud/Z11L4k/HrRfD3x1trvwno1x4g0l7UaPLYXUywok7LnzBOuWPl+gHP41f8AD3/JC/2hv97Wv/SV61P+CcX/ACZP8LP+vGf/ANKpqAPPfBP7X3xQ8afFDxT4MTTPCFpLoPiv/hFmvGhu2EzfN++C+YMD5fu5PXrW98Tv2QvHnxT+MVp8Rb/xj4bstSt/D8nh4WVvo9wYWieRnMhJuc7wXIx04rwb4G/8nWfFj/srg/8AalfphQB8l/H742fFD9lXwP4HeSPwh4hg1LWbHwzEq2l3btF5iMBMT5zZx5fK8deta2oaf8TP2XPgf4t1q11Pwlrtpolrea29vLp11C8xVC5jDCchc7cA4PWuN/4Kif8AJO/hN/2UTSv5S17j+2B/yav8Wf8AsWb/AP8ARD0AeZ/s+/tCfFP4+afZXdvB4O0YXWj22rhJLW7mKiYZEfEq8j17+lYnws/Yr8cfCjxVqOu2HjXw7f3F94ju/ErRXOjXCqk04AaIbbnOxccE8+tbP/BP34e3Ok/BnwR4ue8hktdU8KWFulsqEPGUXkk9CDivq2gD4/8AGH7Gfjrxl8YfE/xEufGnhyDUtf0aDRZrKPRrgwxRxSxyCRSbnJYmMAg8YJrb+MH7L/xC+MuufDbU9S8W+GNPk8C6kNSs47XSLlluXCquyTdc5C/IOnPNfUtFAHyz4x+HPxH+Gf7MfjnQf7c8K32lW/h/VHmcaZcpO6NBKzhT9oKg4JAOCOnFFey/tDf8kB+Jn/Ysan/6SS0UAeg0UUUAecfG/wD5BvhD/sa9J/8ASla+Ff8AgnT/AMe/gb/sY/EX/oK191fG/wD5BvhD/sa9J/8ASla+Ff8AgnT/AMe/gb/sY/EX/oK0Afo14n8J6R400z+ztbsY9RsvMWXyZc43KcqeD2rWACgAdBS0UAfJv/BUz/kyXxz/ANdbD/0shrrv2Uf+Qh44/wCutj/6T1yP/BUz/kyXx1/11sP/AEshr234K+AdO8J+HU1azluHuddtbS6ulmcFFcQgAIABgc980Aei0UUUAFFFFAHy/wCC/wDkg3x1/wCuutf+kzV49/wTI/5FnwP/ANihL/6XvXumj+GdW8M/An41pq2nzWDXS6xcwCYD95E1s21xg9DXhf8AwTI/5FnwP/2KEv8A6XvQByHwD/5L98VP+yzN/wC1K/TCvzP+Af8AyX74qf8AZZm/9qV+mFAHxd/wU2/5F/4I/wDZR9L/AJSV7b+yx/yIOsf9h28/9CWvEv8AgpuceHvgif8Aqo+l/wApK+l/g/8AD26+G3hu+027vIb2S41Ge9EkKFQFkIIU57jFAHdUUUUAfBn7RHwd8XWP7THxE+Jc2lbPBV54Ns9Jh1L7RGd10LuFjH5YbeOAeSuOOtfcPhn/AJFvSv8Ar0i/9AFeb/tUf8kO8QfWD/0clekeGf8AkW9K/wCvSL/0AUAeDf8ABQ//AJMt+Kv/AGDE/wDR8Vc/+xL969/7FvQf/SJK9Z/ag+E2o/HT4B+MvAek3trp2o65aLbw3V4G8qMiRHy20E4wp6DvXn/7LPhe48D+NPFfhu7mjuLvR9L0nT5poc7JHithGzLnnBKkjNAHgX7DPw78T/DHxT4W0jxZod54f1OXVtdvEtb1ArtDIo2OBnocH8q/Q+vFPGn/ACdJ8Pv+wZef+gyV7XQB8Lf8FBP+Th/2Z/8Ar/1j/wBJ4q+n/wBm/wD5Ij4T/wCvZv8A0Y9fMH/BQT/k4f8AZn/6/wDWP/SeKvp/9m//AJIj4T/69m/9GPQB6VXier/8nbaF/wBi7J/6MevbK5m4+H+l3XxAtfGLtcf2vbWbWKKJP3XlkknK465J5zQB01FFFAHxr/wVY/5Nt0T/ALG/S/8A0KSvX/2Y/wDj28e/9jJc/wAlrx3/AIKukr+zRo5HB/4S3S/5yV9daH4Z0rw0t2NKsILAXc7XM4gTb5kjdXPqTQBp0UUUAFFFFAHjf7ZX/JqPxa/7Fq+/9EtXiP8AwT7/AOQX4Y/7EPS//QUr279sr/k1H4tf9i1ff+iWrxH/AIJ9/wDIL8Mf9iHpf/oKUAfaVfnt+0p8OfFFv+11428byaFeJ4Rm8F2enx6yUH2drgXcZ8oNn72M/lX6E1zfxB8B6f8AEnwvc6DqklxFZzsjs1q4V8qwYYJBHUelAHzv+118EfFfxcb4Ian4btra4tPCeuxavqjXFwsRS3WNclQfvHg8CuI+LzBv+CYvj0jodPuD/wCTYr7P1a3W08M3kCElIrN0Xd1wEIr4v+LX/KMHx3/2Dp//AErFAHa/sI/8gm+/7AWh/wDpGK2rH4W+FPhH+0J4C0bwfotvoOmXEWoX0ttblirTyI29zuJOTtH5Vi/sI/8AIJvv+wFof/pGK9D8df8AJ0Hw6/7B95/6A9AHbfFz4b/8LS8LRaP/AGh/Zuy7iuvO8nzc7Cflxkdc9c18wftseFda1f8AaY/Z81Ww0fUL7S9MXWnv762tXkgtFa2UKZXAKoCQcbiM4r7VrA+IH/Ih+JP+wbc/+imoA5L9mv8A5If4T/693/8ARr16ZXmf7Nf/ACQ/wn/17v8A+jXr0ygAr4t/ZB/5PX/a0/7Cemf+ipa+0q+Lf2Qf+T1/2tP+wnpn/oqWgDk/20P+T3fhL/2J2vf+k81fYfwK/wCSO+EP+wdF/Kvj/wDbMikn/bi+EccUbSyP4P10KkalmY/Z5uAB1NfYfwQhltvhH4TimieGVNPjDRyKVZTjoQeRQB4h4e/5IX+0N/va1/6SvWp/wTi/5Mn+Fn/XjP8A+lU1Zfh//khf7Q3+9rX/AKSvWp/wTi/5Mn+Fn/XjP/6VTUAfMXwN/wCTrPix/wBlcH/tSv0wr8z/AIG/8nWfFj/srg/9qV+mFAHyT/wUa8E+IfHHgX4Y2/hzQtR16ez8d6beXMem2rztDAgl3SuFB2oMjLHgZr2f9qDw/qfiz9nP4laNo1jNqerX/h+9trWztxmSaVoWCoo9SSBXp9FAHj/7IPhfVvBP7MPw10HXtPn0rWNP0WC3urK5XbJDIByrDsa9goooAKKKKAPPv2hv+SA/Ez/sWNT/APSSWij9ob/kgPxM/wCxY1P/ANJJaKAPQaK8g8Ot8bJr9E13V/ANgv22VUtYNKu3muLRJcCRG+2YVmj2tgqdhYA7sc+uTSpBE8kjbURSzN6AdTQB538b/wDkG+EP+xr0n/0pWvhX/gnT/wAe/gb/ALGPxF/6CtfWvxI+NHgrxpJ4L0vRfENtf6hL4p0to4I1cMwW4UnGVA4AJ/CuJ8E/Avw1+zr8Yvhz4T8LS30mmTSapqZOozrLL5syHfghV+X5RgY9eaAPrKiiigDC8beBfD3xI8N3Ph/xTo1nr+iXJRprDUIRLDIVYMpKng4YAj3Fa9paw2FrDbW0Sw28KLHHGgwqKBgAD0AFTUUAFFFFABRRRQBxXxt/5Iz4+/7AF/8A+k0lfGf/AATI/wCRZ8D/APYoS/8Ape9fZnxt/wCSM+Pv+wBf/wDpNJXyD/wTK0PUV8A+BNWawuRpT+FZYFvTEfJaQX0mUDdM8Hj2oA5T9mvw3qniH48fGSXTbKS9j0/4vPdXbRkfuYgZMucnpx2r9HqxdA8F+H/Cl5qt3ouh6dpF1q1wbvUJrG1SF7uY5zJKVALtyfmbJ5raoA+Lf+CnH/Iu/BL/ALKPpf8AKSvtKvi3/gpx/wAi78Ev+yj6X/KSvtKgAooooA8l/ao/5Id4g+sH/o5K9I8M/wDIt6V/16Rf+gCvN/2qP+SHeIPrB/6OSvSPDP8AyLelf9ekX/oAoA0q8S+E/wDyX74sf71n/wCgGvba5bw/8O9N8N+MPEPiO1luXvtcMZuUlcGNdgwNgABH4k0Aal14W0m+8QWWuT2EMur2cbRW94y/vIlbIYA+hyfzrVoooA+Gf2/LeW6/aO/ZjghjaWaXUdWRI0GWZjBEAAPUmvqf4CaTe6H8IfDNhqNpNY3sNuyy29whV0PmMcEHpwRXzd+2f/yd1+yR/wBh+/8A/QIK+0KACiiigAooooA+Mv8Agq9/ybPpH/Y26Z/OSvs2vk3/AIKX+B/EfxA/Z70vTPDGhaj4h1FPE+nXDWmmWzzyrEhk3OVUE7RkZPQZr6yoAKKKKACiiigDxv8AbK/5NR+LX/YtX3/olq8R/wCCff8AyC/DH/Yh6X/6Cle7ftdafd6t+y/8U7KxtZ768uPDt7HDbW0TSSyMYmAVVUEsT6AV4j+wbpt3o8WgWN/aT2N9b+BtLjmtbqJo5YmCplWVgCp9iKAPsqiiigCtqdq19pt3boQrzRPGC3QEqRzXz148/Zw8R+Iv2OfE3wns7/TT4h1K0kghupXkW1DNOJBuOwsBgf3TzX0dRQB80/sieFrvwNrXivw3fvDLfaPY6Vp9xJbkmNpIrfYxUkAlcqcZArtPGml3tx+0l4AvorK4ksoLC7WW5SJjFGSr4DNjAJ969E0PwPo/h3Xta1mwtmi1DWHSS8kMrMJGUELgE4Xqelb1ABVbUtPg1bTbqxuVL211E8EqgkEqwKkZHTgmrNFAGT4U8L6f4L8P2WiaVE0On2alIY3cuQCSfvE5PJNa1FFABXyr+zL8L/Ffg79q79pHxLrWh3OnaD4jv9Pl0m+lK+XeKkcgcpgk8EjqB1r6qooA+V/i58L/ABXrv7e3wR8aafodzdeFdF0jUrfUdUjK+VbSSRShFbJzySBwD1r6ooooA8L/AGddPtdW074l2N9bxXdldeILyCe3mQPHLGwCsrKeCCCQQfWvYPDHhbR/BWg2mieH9Ls9E0ezUpb2GnwLDBCpJYhUUAAZJPA6k1wnwP8AA+seCh4v/te3SD+0dbnvbbZKr7omxgnHQ+xr0+gD4gsfgDqnwW+P93r+parZX8Hjz4hDWrOG1V1e3jyfkk3cFv3g+7xwa+36hmtILh4nlhjleJt0bOgJQ+oz0NTUAFFFFABRRRQAUUUUAefftDf8kB+Jn/Ysan/6SS0UftDf8kB+Jn/Ysan/AOkktFAGvrXhGfVPiL4X8RJNElvpNpf20kTA73M5g2lT0wPJOc+orqqKKAPOPjgSNN8I4PXxXpOf/Ala9Ca2ikmSZokaVOFkKgsv0PavPPjh/wAg3wh/2Nek/wDpStekUAFFFFABRRRQAUUUUAFFFFAHFfG3/kjPj7/sAX//AKTSV41/wTX/AOTI/hf/ANet1/6WT179468ON4w8E+IdAScWr6rp1xYidk3CMyxMm7GRnG7OMjpXFfsx/BmX9nv4F+Ffh7Pqya5LokUsbahHAYFl3zyS5CFmxjfjqelAHqNFFFAHzL+3J8FfF/xp0f4X2/hDTY9Sl0PxpY6xfiS5jg8q1iD73G8jcRkfKOfavpqiigAooooAx/FvhLS/HGg3Ojazbm60642+ZEJGTO1gw5Ug9QO9adrbR2drDbwrtiiQRouc4UDAH5VLRQAUUUUAFFFFAHxf+2f/AMndfskf9h+//wDQIK+0K+RP2uvCeua7+1P+y3qOm6NqGo6dpeuX0l/d2lrJLDaIUgw0rqCEBwcFiOhr67oAKKKKACiiigAooooAKKKKACiiigArxXwj/wAnU+O/+wRafyjr2qvLfDfhHV7H9oPxd4hnsmj0a9023gt7repEjqE3DGcjGD1HagD1KiiigAooooAKKKKACiiigAooooAKKKKACiiigAooooAKKKKACiiigAooooAKKKKAPPv2hv8AkgPxM/7FjU//AEkloo/aG/5ID8TP+xY1P/0klooA9BooooA83+OH/IN8If8AY16T/wClK16RXm/xw/5BvhD/ALGvSf8A0pWvSKACiiigAooooAKKKKACiiigAooooAKKKKACiiigAooooAKKKKACiiigAooooAKKKKACiiigAooooAKKKKACiiigAooooAKKKKACiiigAooooAKKKKACiiigAooooAKKKKACiiigAooooAKKKKACiiigAooooAKKKKAPPv2hv+SA/Ez/ALFjU/8A0kloo/aG/wCSA/Ez/sWNT/8ASSWigDG0n9pnwlq2n3l79l1myt47eK/tGvbExf2lZSSpEl3bZPzxbpI85wyh0JUBlz61Xhvif4U+EovFXgbwMujD+wZP7R1WBftlwJbOSJ7ZljgfzMpAS53Qf6sgKAoCivb5laSJ1VzEzKQHUAlT6jPH50AedfHD/kG+EP8Asa9J/wDSla9IryjXvgrr3iaGyi1H4oeIZls7yG/h22GmpiaJg8bHFryAQOOhrU/4V34u/wCiqa//AOC3TP8A5FoA9Dorzz/hXfi7/oqmv/8Agt0z/wCRaP8AhXfi7/oqmv8A/gt0z/5FoA9Dorzz/hXfi7/oqmv/APgt0z/5Fo/4V34u/wCiqa//AOC3TP8A5FoA9Dorzz/hXfi7/oqmv/8Agt0z/wCRaP8AhXfi7/oqmv8A/gt0z/5FoA9Dorzz/hXfi7/oqmv/APgt0z/5Fo/4V34u/wCiqa//AOC3TP8A5FoA9Dorzz/hXfi7/oqmv/8Agt0z/wCRaP8AhXfi7/oqmv8A/gt0z/5FoA9Dorzz/hXfi7/oqmv/APgt0z/5Fo/4V34u/wCiqa//AOC3TP8A5FoA9Dorzz/hXfi7/oqmv/8Agt0z/wCRaP8AhXfi7/oqmv8A/gt0z/5FoA9Dorzz/hXfi7/oqmv/APgt0z/5Fo/4V34u/wCiqa//AOC3TP8A5FoA9Dorzz/hXfi7/oqmv/8Agt0z/wCRaP8AhXfi7/oqmv8A/gt0z/5FoA9Dorzz/hXfi7/oqmv/APgt0z/5Fo/4V34u/wCiqa//AOC3TP8A5FoA9Dorzz/hXfi7/oqmv/8Agt0z/wCRaP8AhXfi7/oqmv8A/gt0z/5FoA9Dorzz/hXfi7/oqmv/APgt0z/5Fo/4V34u/wCiqa//AOC3TP8A5FoA9Dorzz/hXfi7/oqmv/8Agt0z/wCRaP8AhXfi7/oqmv8A/gt0z/5FoA9Dorzz/hXfi7/oqmv/APgt0z/5Fo/4V34u/wCiqa//AOC3TP8A5FoA9Dorzz/hXfi7/oqmv/8Agt0z/wCRaP8AhXfi7/oqmv8A/gt0z/5FoA9Dorzz/hXfi7/oqmv/APgt0z/5Fo/4V34u/wCiqa//AOC3TP8A5FoA9Dorzz/hXfi7/oqmv/8Agt0z/wCRaP8AhXfi7/oqmv8A/gt0z/5FoA9Dorzz/hXfi7/oqmv/APgt0z/5Fo/4V34u/wCiqa//AOC3TP8A5FoA9Dorzz/hXfi7/oqmv/8Agt0z/wCRaP8AhXfi7/oqmv8A/gt0z/5FoA9Dorzz/hXfi7/oqmv/APgt0z/5Fo/4V34u/wCiqa//AOC3TP8A5FoA9Dorzz/hXfi7/oqmv/8Agt0z/wCRaP8AhXfi7/oqmv8A/gt0z/5FoA9Dorzz/hXfi7/oqmv/APgt0z/5Fo/4V34u/wCiqa//AOC3TP8A5FoA9Dorzz/hXfi7/oqmv/8Agt0z/wCRaP8AhXfi7/oqmv8A/gt0z/5FoA9Dorzz/hXfi7/oqmv/APgt0z/5Fo/4V34u/wCiqa//AOC3TP8A5FoA9Dorzz/hXfi7/oqmv/8Agt0z/wCRaP8AhXfi7/oqmv8A/gt0z/5FoA9Dorzz/hXfi7/oqmv/APgt0z/5Fo/4V34u/wCiqa//AOC3TP8A5FoA9Dorzz/hXfi7/oqmv/8Agt0z/wCRaP8AhXfi7/oqmv8A/gt0z/5FoA9Dorzz/hXfi7/oqmv/APgt0z/5Fo/4V34u/wCiqa//AOC3TP8A5FoA9Dorzz/hXfi7/oqmv/8Agt0z/wCRaP8AhXfi7/oqmv8A/gt0z/5FoA9Dorzz/hXfi7/oqmv/APgt0z/5Fo/4V34u/wCiqa//AOC3TP8A5FoAd+0N/wAkB+Jn/Ysan/6SS0VmeJPgzr3i7w7qmhar8T/ENxpep2stldwpY6ajPDIhR1DC1ypKsRkciigD/9k=)\n"
      ]
    },
    {
      "cell_type": "code",
      "metadata": {
        "id": "Am-Ccdc1IbFg"
      },
      "source": [
        "import math\n",
        "# mean of the mean frequency of each feature\n",
        "# exclude testcase from means\n",
        "authors_no_T = [\"H\",\"M\", \"J\", \"S\", \"D\"]\n",
        "\n",
        "# calculate the means of columns. This will be column 8 below\n",
        "# pandas does this for us\n",
        "dfFeatures[\"means\"] = dfFeatures[authors_no_T].mean(axis=1)\n",
        "\n",
        "# calculate stdev of columns compared to sample\n",
        "# formula stdev = sum(sqrt((x[i] - x[sample])^2/(n - 1)))\n",
        "# There is a more efficient way of doing this in Pandas but\n",
        "# (a) I am a newbie\n",
        "# (b) this makes the process explicit\n",
        "\n",
        "n = len(authors_no_T)\n",
        "stdev = list([0]*len(features))\n",
        "\n",
        "for i in range(len(features)):\n",
        "  # since we are looping we want to reset some values to 0 each time we restart\n",
        "  squ_diff_fr_mean = 0\n",
        "  sum_squ_diff = 0\n",
        "\n",
        "  author_feature_values = dfFeatures.iloc[[i],[2,3,4,5,6]].values[0]\n",
        "  feature_mean = dfFeatures.iloc[[i],[8]].values[0]\n",
        "\n",
        "  for j in range(len(authors_no_T)):\n",
        "    squ_diff_fr_mean = (author_feature_values[j] - feature_mean[0])**2\n",
        "    sum_squ_diff = sum_squ_diff + squ_diff_fr_mean\n",
        "    stdev[i] = math.sqrt(sum_squ_diff/(n - 1))\n",
        "\n",
        "dfFeatures[\"stdev\"] = stdev\n",
        "\n",
        "\n",
        "# create a new dataframe to hold z scores\n",
        "z_cols = list(authors)\n",
        "z_cols.extend([\"means\", \"stdev\"])\n",
        "dfZ = dfFeatures[z_cols].copy()\n",
        "\n",
        "#calcuate z-scores\n",
        "for author in authors:\n",
        "  dfZ[author] = (dfZ[author] - dfZ[\"means\"])/dfZ[\"stdev\"]\n",
        "dfZ.head(7)\n"
      ],
      "execution_count": null,
      "outputs": []
    },
    {
      "cell_type": "markdown",
      "metadata": {
        "id": "FmVv74MRxC4Z"
      },
      "source": [
        "Sample values in PH for T (Federalist 64) are:\n",
        "```\n",
        "Test case z-score for feature the is -0.7692828380408238\n",
        "Test case z-score for feature of is -1.8167784558461264\n",
        "Test case z-score for feature to is 1.032705844508835\n",
        "Test case z-score for feature and is 1.0268752924746058\n",
        "Test case z-score for feature in is 0.6085448501260903\n",
        "Test case z-score for feature a is -0.9341289591084886\n",
        "Test case z-score for feature be is 1.0279650702511498\n",
        "```\n",
        "Our values are close to those calculated there."
      ]
    },
    {
      "cell_type": "markdown",
      "metadata": {
        "id": "bHvhW9mBIaOY"
      },
      "source": [
        "## Calculate Burrows's Delta  \n",
        "> (from PH):  \n",
        "Finally, calculate a delta score comparing the anonymous paper with each candidate’s subcorpus. To do this, take the average of the ***absolute values of the differences between the z-scores for each feature between the anonymous paper and the candidate’s subcorpus.*** (Read that twice!) This [using the z-score (HL)] gives equal weight to each feature, no matter how often the words occur in the texts; otherwise, the top 3 or 4 features would overwhelm everything else.\n",
        "  \n",
        "Taking the ***average*** of these values gives us a single statistic to compare for each author.   \n",
        "\n",
        "Referring back to the plot of relative frequencies and standardized z-scores we saw earlier, for each of the two novels illustrated, the Burrow's delta of each novel relative to all of Brontë's novels would be the the sum of all the values above and below the line. We take the absolute values (we add all the values as if they were positive), so that highs and lows do not cancel each other out.    \n",
        "\n",
        "In our case, we are comparing a single document to the average of several corpora to see which our candidate is nearest to."
      ]
    },
    {
      "cell_type": "code",
      "metadata": {
        "id": "NPc-Srze0bxh"
      },
      "source": [
        "# create a new data frame to hold delta\n",
        "dfDelta = dfZ.copy()\n",
        "col_keys = list(authors_no_T)\n",
        "col_vals = list(authors_no_T)\n",
        "for idx, v in enumerate(col_vals):\n",
        "  col_vals[idx] = \"T_to_\" + col_vals[idx]\n",
        "col_labels = dict(zip(col_keys, col_vals))\n",
        "dfDelta = dfDelta.rename(index=str, columns=col_labels)\n",
        "\n",
        "for v in col_vals:\n",
        "  dfDelta[v] = abs(dfDelta[v] - dfDelta[\"T\"])\n",
        "\n",
        "# add a row for sums and and delta and calculate\n",
        "\n",
        "dfDelta.loc[\"sum\"] = dfDelta.sum(axis=0)\n",
        "dfDelta.loc[\"delta\"] = dfDelta.loc[\"sum\"]/len(features)\n",
        "\n",
        "# clean up stupid error\n",
        "all_col_labels = list(dfDelta.columns)\n",
        "for col in all_col_labels:\n",
        "  if col not in col_vals:\n",
        "    dfDelta.loc[\"sum\",col] = \"\"\n",
        "    dfDelta.loc[\"delta\", col] = \"\"\n",
        "\n",
        "# show the last two lines of our table, with the sum and delta values\n",
        "dfDelta.tail(2)"
      ],
      "execution_count": null,
      "outputs": []
    },
    {
      "cell_type": "code",
      "metadata": {
        "id": "4lRGN-pryV6m"
      },
      "source": [
        "# report out\n",
        "\n",
        "for col in col_vals:\n",
        "  print(\"Delta for \" + col + \" is: \",dfDelta.loc[\"delta\",col])"
      ],
      "execution_count": null,
      "outputs": []
    },
    {
      "cell_type": "markdown",
      "metadata": {
        "id": "vY9YyB2tvoVp"
      },
      "source": [
        "This was the conclusion/outpt in PH\n",
        "```\n",
        "Delta score for candidate Hamilton is 1.768470453004334\n",
        "Delta score for candidate Madison is 1.6089724119682816\n",
        "**Delta score for candidate Jay is 1.5345768956569326**\n",
        "Delta score for candidate Disputed is 1.5371768107570636\n",
        "Delta score for candidate Shared is 1.846113566619675\n",
        "```\n",
        "\n",
        "This was Laramée's concluding paragraph:\n",
        "\n",
        "> As expected, Delta identifies John Jay as Federalist 64’s most likely author. It is interesting to note that, according to Delta, Federalist 64 is more similar to the disputed papers than to those known to have been written by Hamilton or by Madison; why that might be, however, is a question for another day.\n",
        "\n",
        "Has our work confirmed this?"
      ]
    },
    {
      "cell_type": "markdown",
      "metadata": {
        "id": "Gt8sCDu3IEms"
      },
      "source": [
        "# Stylometry II: Visualizing Similarity and Difference\n",
        "Here what we are doing, is essentially repeating what we did when applying Burrow's Delta, with two important changes: (1) we are applying it to each publication separately; and (2) we are comparing every work to every other work to gauge \"closeness\" or \"distance.\"   \n",
        "As with topic models or word vector embeddings (see below), we can think of each sample as a vector and use a distance measurement to position them in multidimensional space.\n",
        "Here there's a problem: how do we examine or visualize these relationships, and how do we find the important ones? (With 30 features, we need to allow up to 29 dimensions to describe the variation. Humans have difficulty imagining more than three.)   \n",
        "We are going to demo two techniques for visualizing multi-dimensional data: **Principal Component Analysis** (PCA) and **t-distributed stochastic neighbor embedding**.\n",
        "\n",
        "We will be using the Python library `sklearn` (sci-kit learn, developed for machine learning) to do the hard work for us, and matplotlib to do draw the graphs."
      ]
    },
    {
      "cell_type": "markdown",
      "source": [
        "   \n",
        "## PCA\n",
        "**Principal Component Analysis** attempts to calculate the directions of the dimensions and their weights. When we are looking at a two dimensional plot of principal components, we are looking at two specific dimensions calculated by the model. The analysis also can tell us how much of the variation among our test cases is explained by the specific components.   \n",
        "In our case, using the same number of features as before, the first two components account for a little under a quarter of the variation among the documents, but it looks like the first component (the horizontal or x axis) is where a good deal of the author differentiation is happening."
      ],
      "metadata": {
        "id": "FVUBMGG4xl9v"
      }
    },
    {
      "cell_type": "markdown",
      "metadata": {
        "id": "n6dSr9dg8t1M"
      },
      "source": [
        "## Prepare the data as for Burrows' Delta\n",
        "Here we go over the steps that we followed for Burrow's delta to get a frequency table for each individual publication in the Federalist Papers.    \n",
        "We then reformat the data in a transposed table for PCA. (Without transposing, PCA would calculate how much features differ from one another over the 85D space of the authors. A very different question.)"
      ]
    },
    {
      "cell_type": "code",
      "metadata": {
        "id": "QLloEreA8wno"
      },
      "source": [
        "# Repeat earlier steps, but now asigning each paper not author to a column\n",
        "# copy features and corpus data\n",
        "\n",
        "# repeating here allows us to experiment with feature values\n",
        "# see the explanations above\n",
        "\n",
        "corpus_tokens = corpus.split()\n",
        "\n",
        "# create frequency list using built in nltk function\n",
        "whole_corpus_freq_dist = list(nltk.FreqDist(corpus_tokens).most_common(30))\n",
        "\n",
        "# # uncomment and run again to see the check the first 10\n",
        "# print(whole_corpus_freq_dist[ :10 ])\n",
        "\n",
        "# data structure to contain our statistical information\n",
        "dfFeatures_pca = pd.DataFrame( columns=[\"feats\",\"corpus\"])\n",
        "dfFeatures_pca[\"feats\"] = [w for w, freq in whole_corpus_freq_dist]\n",
        "dfFeatures_pca[\"corpus\"] = [freq for w, freq in whole_corpus_freq_dist]\n",
        "\n",
        "# the last time we did this we bundled the docs together by attribution\n",
        "# This time, we create frequency table by publication rather than author\n",
        "\n",
        "for p in range(1,len(dfPapers)+1):  # iterate over all the files\n",
        "  paper_corpus = ' '.join(dfPapers[\"text\"][dfPapers[\"num\"] == p].values)\n",
        "\n",
        "  #separate into a list of tokens (features)\n",
        "  paper_tokens = paper_corpus.split()\n",
        "\n",
        "  paper_length = len(paper_tokens)\n",
        "\n",
        "  # copy the features to a list\n",
        "  # for each feature count the proportion of features to total author words\n",
        "  # append to df\n",
        "\n",
        "  # create frequency list using built in nltk function\n",
        "  features = dfFeatures_pca.feats.to_list()\n",
        "\n",
        "  # calculate proportions\n",
        "  paper_features = [paper_tokens.count(x)/paper_length for x in features]\n",
        "  # and add this to the dataframe\n",
        "  dfFeatures_pca[p] = paper_features\n",
        "\n",
        "\n",
        "# transpose\n",
        "dfFeats_transp = dfFeatures_pca.transpose()\n",
        "dfFeats_transp.drop([\"feats\", \"corpus\"],inplace=True)\n",
        "\n",
        "for f in features:\n",
        "  dfFeats_transp.rename(columns={features.index(f):f},inplace=True)\n",
        "\n",
        "\n",
        "# # uncomment to show check data\n",
        "dfFeats_transp.head()\n",
        "\n"
      ],
      "execution_count": null,
      "outputs": []
    },
    {
      "cell_type": "markdown",
      "metadata": {
        "id": "PaVnZPyEcm3p"
      },
      "source": [
        "##Calcuate PCA\n"
      ]
    },
    {
      "cell_type": "code",
      "metadata": {
        "id": "ZsjFcX8Ocnf4"
      },
      "source": [
        "from sklearn.preprocessing import StandardScaler\n",
        "from sklearn.decomposition import PCA\n",
        "\n",
        "pca = PCA(n_components=2)\n",
        "# # # to scale (mean = 0 total stdev = 1)\n",
        "# # # balances the weights of more or less frequent words\n",
        "# scaled = StandardScaler().fit_transform(dfFeats_transp)\n",
        "# principalComponents = pca.fit_transform(scaled)\n",
        "\n",
        "# to apply scaling uncomment above and comment next line\n",
        "principalComponents = pca.fit_transform(dfFeats_transp)\n",
        "principalDf = pd.DataFrame(data = principalComponents,\n",
        "                           columns = ['principal component 1',\n",
        "                           'principal component 2'])\n",
        "\n",
        "# add attrib labels\n",
        "principalDf[\"attrib\"] = dfPapers[\"attrib\"]\n",
        "\n",
        "principalDf.head()"
      ],
      "execution_count": null,
      "outputs": []
    },
    {
      "cell_type": "markdown",
      "metadata": {
        "id": "xXJybJG4g5NG"
      },
      "source": [
        "## Plot a 2-Dimensional Grid for two Components.\n",
        "Plot a 2D scatter chart for the two first principal components.  \n",
        "Federalist 64 is marked in red on the plot. Does this confirm our earlier obsevation using Burrows's Delta?  \n",
        "This was Laramée's concluding paragraph:\n",
        ">As expected, Delta identifies John Jay as Federalist 64’s most likely author. It is interesting to note that, according to Delta, Federalist 64 is more similar to the disputed papers than to those known to have been written by Hamilton or by Madison; why that might be, however, is a question for another day.   \n",
        "\n",
        "Is this still true?  \n",
        "What happens when we increase the number of features?\n",
        "Decrease?\n"
      ]
    },
    {
      "cell_type": "code",
      "metadata": {
        "id": "ZmuHWbJdg8Dp"
      },
      "source": [
        "import matplotlib.pyplot as plt\n",
        "## plotting code from:\n",
        "## https://towardsdatascience.com/pca-using-python-scikit-learn-e653f8989e60\n",
        "\n",
        "# print out the amount explained by the first two components\n",
        "print(pca.explained_variance_ratio_)\n",
        "\n",
        "\n",
        "fig = plt.figure(figsize = (8,8))\n",
        "ax = fig.add_subplot(1,1,1)\n",
        "ax.set_xlabel('Principal Component 1', fontsize = 15)\n",
        "ax.set_ylabel('Principal Component 2', fontsize = 15)\n",
        "ax.set_title('2 component PCA', fontsize = 20)\n",
        "targets = [\"H\",\"M\",\"J\",\"S\",\"D\",\"T\"]\n",
        "colors = ['purple', 'green', 'black','yellow', 'blue', 'red']\n",
        "for target, color in zip(targets,colors):\n",
        "  indicesToKeep = principalDf['attrib'] == target\n",
        "  ax.scatter(principalDf.loc[indicesToKeep, 'principal component 1'],\n",
        "               principalDf.loc[indicesToKeep, 'principal component 2'],\n",
        "               c = color,\n",
        "               s = 50)\n",
        "ax.legend(targets)\n",
        "ax.grid()\n"
      ],
      "execution_count": null,
      "outputs": []
    },
    {
      "cell_type": "markdown",
      "source": [
        "## t-SNE\n",
        "**t-distributed stochastic neighbor embedding** is another widely used method for visualizing high-dimensional data in 2- to 3-dimensional space.\n",
        "It assigns a probability that each datapoint is similar to every other datapoint, and then attempts to map those relationships in a lower dimensional space.\n",
        "\n",
        "A frequent description is that PCA attempts to preserve the overall structure of the data as a whole, while t-SNE preserves the relationship with neighbors."
      ],
      "metadata": {
        "id": "GEQSsaPt0nbA"
      }
    },
    {
      "cell_type": "markdown",
      "source": [
        "## Calculating t-SNE\n",
        "Although the math of the two approaches is different, in scikitlearn, the procedure is more or less the same.\n",
        "\n",
        "Our data is the same `dFeats_transp` we created for PCA: a table that presents each of the words (features) as columns and each of the documents as rows.\n",
        "\n",
        "* set the parameters for the t-SNE model we are using\n",
        "\n",
        "* fit and transform our data to the model to generate an array of points\n",
        "\n",
        "* plot those points in 2-dimensional space\n"
      ],
      "metadata": {
        "id": "HPyidrrJmW2D"
      }
    },
    {
      "cell_type": "code",
      "source": [
        "# For the code here I have made use of the tutorial at:\n",
        "# https://github.com/olekscode/Examples-PCA-tSNE/blob/master/Python/Visualizing%20Iris%20Dataset%20using%20PCA%20and%20t-SNE.ipynb\n",
        "\n",
        "# We set the parameters for t-SNE\n",
        "from sklearn.manifold import TSNE\n",
        "tsne = TSNE(n_components=2,\n",
        "            n_iter=1000,\n",
        "            random_state=0,\n",
        "            perplexity=15,\n",
        "            learning_rate='auto',\n",
        "            init='random')\n",
        "points = tsne.fit_transform(dfFeats_transp[features])"
      ],
      "metadata": {
        "id": "Pk63ZvYKCkAn"
      },
      "execution_count": null,
      "outputs": []
    },
    {
      "cell_type": "code",
      "source": [
        "tsneDF = pd.DataFrame(data = points,\n",
        "                           columns = ['eigenvector 1',\n",
        "                           'eigenvector 2'])\n",
        "tsneDF[\"attrib\"] = dfPapers[\"attrib\"]\n",
        "tsneDF"
      ],
      "metadata": {
        "id": "XImziqmrFn9F"
      },
      "execution_count": null,
      "outputs": []
    },
    {
      "cell_type": "code",
      "source": [
        "fig_tsne = plt.figure(figsize = (8,8))\n",
        "ax = fig_tsne.add_subplot(1,1,1)\n",
        "ax.set_xlabel('Eigenvector 1', fontsize = 15)\n",
        "ax.set_ylabel('Eigenvector 2', fontsize = 15)\n",
        "ax.set_title('2 component t-SNE', fontsize = 20)\n",
        "targets = [\"H\",\"M\",\"J\",\"S\",\"D\",\"T\"]\n",
        "colors = ['purple', 'green', 'black','yellow', 'blue', 'red']\n",
        "for target, color in zip(targets,colors):\n",
        "  indicesToKeep = tsneDF['attrib'] == target\n",
        "  ax.scatter(tsneDF.loc[indicesToKeep, 'eigenvector 1'],\n",
        "             tsneDF.loc[indicesToKeep, 'eigenvector 2'],\n",
        "             c = color,\n",
        "             s = 50)\n",
        "ax.legend(targets)\n",
        "ax.grid()"
      ],
      "metadata": {
        "id": "lsE21ejWDZM6"
      },
      "execution_count": null,
      "outputs": []
    },
    {
      "cell_type": "markdown",
      "source": [
        "# Semantic extraction: TF-IDF and LDA Topic Modelling"
      ],
      "metadata": {
        "id": "JMSQy3Hlroa6"
      }
    },
    {
      "cell_type": "markdown",
      "source": [
        "## TF-IDF\n",
        "In our WordCloud experiment, we have already seen that term-frequency (how often a word appears) may not be the most helpful if we are trying to extract meaning. In that experiment we actively excluded stopwords, really frequent words, in order to get at words that are more indicative of what a text is about. **text frequency-inverse document freqency** (TF-IDF) is a method for weighting the \"important\" words in a given document."
      ],
      "metadata": {
        "id": "_Eo1all5jBLQ"
      }
    },
    {
      "cell_type": "markdown",
      "source": [
        "## Calculting TF-IDF\n",
        "The intuition behind TF-IDF is pretty straightforward. In the sample of five titles from the Federalist Papers below, the word \"the\" is very common in general and it appears in every title at least once. This means that it is not likely to be a good indicator of what's in an individual document. However each title also has at least one word (e.g., `'foreign,' 'territory,' 'considered,' 'department,' 'senate'`) that appears in one document only. Most of these (maybe not 'considered', or 'method' in Federalist 49) may point to content.\n",
        "\n",
        "|index|file name|title|\n",
        "|---|---|---|\n",
        "|2|federalist\\_3|The Same Subject Continued \\(Concerning Dangers From Foreign Force and|\n",
        "|13|federalist\\_14|Objections to the Proposed Constitution From Extent of Territory|\n",
        "|41|federalist\\_42|The Powers Conferred by the Constitution Further Considered|\n",
        "|48|federalist\\_49|Method of Guarding Against the Encroachments of Any One Department of|\n",
        "|63|federalist\\_64|The Powers of the Senate|\n",
        "\n",
        "In the title to Federalist 2 the **term frequency** of 'the' and 'foreign' are the same: 1 out of 10 or 0.1\n",
        "\n",
        "**document frequency** refers to the proportion of documents in which the word appears. For 'the' that is 5/5 or 1. For 'foreign' in the title of Federalist 2 the document frequency is 1/5 or 0.2\n",
        "\n",
        "**In principle**, for any given term in  any given document we get the TF-IDF score by dividing  the term frequency by the document frequency (multiplying it by the inverse of the document frequency). For 'territory' in the title of Federalist 2, TF-IDF is  0, since the term frequency of 'territory' in that text is 0:\n",
        "\n",
        ">TF-IDF = 0/0.2 = 0\n",
        "\n",
        "The word  'the' has a TF-IDF of:\n",
        "\n",
        ">TF-IDF = 0.1/1 = 0.1\n",
        "\n",
        "For 'foreign':\n",
        ">TF-IDF = 0.1/0.2 = 0.5\n",
        "\n",
        "By taking into account the document frequency of 'the' and 'foreign' we count 'foreign' as five times as \"important\" for this text as 'the.'\n",
        "\n",
        "**In practice**, TF-IDF uses a formula based on the natural logarithm of the document frequency to calculate the IDF.    \n",
        "    \n",
        "The next code block uses Python's `sklearn` library to calculate TF-IDF"
      ],
      "metadata": {
        "id": "Wn3l-b4RVQ2h"
      }
    },
    {
      "cell_type": "code",
      "source": [
        "from sklearn.feature_extraction.text import TfidfVectorizer\n",
        "\n",
        "# the n most frequent features (words) across the corpus\n",
        "# experiment with different values and see the results in the next cell\n",
        "\n",
        "n = 1000\n",
        "\n",
        "# set up the constraints for the structure that will\n",
        "# represent our text as mathematical vectors\n",
        "tfidf = TfidfVectorizer(\n",
        "    min_df = 5,             # ONLY select words appearing in more than 5 docs\n",
        "    max_df = 0.95,          # DO NOT words appearing in >= 95% of docs\n",
        "    max_features = n,       # the n most frequent words across the corpus\n",
        "    stop_words = 'english'  # remove very common english words\n",
        ")\n",
        "\n",
        "# calculate the tf-idf values for each word in all the documents\n",
        "# As before, we `fit` and `transform` the data to calculate the TF-IDF values.\n",
        "# For convenience, here we do this in two separate operations.\n",
        "\n",
        "# `fit` calculates the df and idf values\n",
        "# and sets the parameters to create a standardized array\n",
        "tfidf.fit(dfPapers.text)"
      ],
      "metadata": {
        "id": "0yPV4Lr0N7Ma"
      },
      "execution_count": null,
      "outputs": []
    },
    {
      "cell_type": "code",
      "source": [
        "# run this cell to get the first 100 feature names (words)\n",
        "# based on different values of n in the preceding cell\n",
        "tfidf.get_feature_names_out()[:100]"
      ],
      "metadata": {
        "id": "erT_xUgtFQYW"
      },
      "execution_count": null,
      "outputs": []
    },
    {
      "cell_type": "markdown",
      "source": [
        "Create a DataFrame in which every row is a document, and the columns give us the TF-IDF score for each word."
      ],
      "metadata": {
        "id": "mFLbLBSikjx1"
      }
    },
    {
      "cell_type": "code",
      "source": [
        "# transform creates the array of values for each feature for each document\n",
        "text = tfidf.transform(dfPapers.text)\n",
        "\n",
        "# sklearn produces a \"sparse array,\" that skips over zero values to save memory\n",
        "# For Pandas to work with the array we need to convert it to a dense array\n",
        "# that allows us to address every value by row and column.\n",
        "dfTFIDF = pd.DataFrame(text.todense())\n",
        "\n",
        "# get the names of the columns (= words) from our `fitting` operation\n",
        "dfTFIDF.columns = tfidf.get_feature_names_out()\n",
        "\n",
        "# view a snapshot of the new dataframe\n",
        "dfTFIDF"
      ],
      "metadata": {
        "id": "AZ7gP6AaBXM6"
      },
      "execution_count": null,
      "outputs": []
    },
    {
      "cell_type": "markdown",
      "source": [
        "## Examining Results\n",
        "What are the ten words with the highest TF-IDF score for each document? (Again, you can experiment with larger or smaller numbers.)    \n",
        "Impressionistically, how good is the fit between the document titles (an author's or editor's idea of what the work is about) and the TF-IDF keywords?"
      ],
      "metadata": {
        "id": "mkQFe2XWIA1M"
      }
    },
    {
      "cell_type": "code",
      "source": [
        "n = 10    # the number of key words we want to return\n",
        "\n",
        "# The Pandas function `nlargest()` applied to each row (`axis=1`)\n",
        "# gives us the top n words\n",
        "dfPapers['tfidf_keywords'] = dfTFIDF.apply(lambda x:\n",
        "                                      ', '.join(x.nlargest(n).index.tolist()),\n",
        "                                      axis=1)\n",
        "dfPapers[['num','title','tfidf_keywords']]"
      ],
      "metadata": {
        "id": "Bi9D_LeFykCN"
      },
      "execution_count": null,
      "outputs": []
    },
    {
      "cell_type": "markdown",
      "source": [
        "## LDA topic modeling\n",
        "**Topic modeling** means creating a model that describes what topics are in a corpus, how the topics are related to individual texts and to the corpus as a whole.  \n",
        "**LDA** or Latent Dirichlet Allocation is a very widely used form of topic modeling. Where with TF-IDF we calculated a score for each feature (word) across the documents algebraically, LDA is a probabilistic model. Given a set of documents and a specified number of topics, over many iterations it calculates the probability that a given word belongs with any specific topic and that a given topic belongs with any specific document.\n",
        "\n",
        "We are using LDA to determine the topics that are operative in our corpus. In practice, we could use the results to cluster our documents by likely topic or assign topics to a previously unseen document.\n",
        "         \n",
        "This part of the tutorial has adapted code from: Karsdorp, Folgert, Mike Kestemont, and Allen Riddell. _Data Analysis: Case Studies with Python_. Princeton: Princeton University Press, 2021.\n",
        "See also: https://www.humanitiesdataanalysis.org/topic-models/notebook.html"
      ],
      "metadata": {
        "id": "wThaZ07yp0Mo"
      }
    },
    {
      "cell_type": "markdown",
      "source": [
        "## Calculating LDA\n",
        "We use `sklearn` to do the actual calculating and modeling.   \n",
        "First, represent the text as a matrix where each row corresponds to a document and each column gives the count of a term in the corpus. (This is analogous to calculating the term frequency for TF-IDF.)    \n",
        "As with TF-IDF, we can filter out very frequent or infrequent words."
      ],
      "metadata": {
        "id": "KVEGhZ2UJEPA"
      }
    },
    {
      "cell_type": "code",
      "source": [
        "import sklearn.feature_extraction.text as text\n",
        "\n",
        "# Use sklearn's feature_extraction module to represent our texts with numerals\n",
        "# and create a document-term matrix (`dtm`).\n",
        "\n",
        "# set min_df and max_df; compare above for TF-IDF\n",
        "# when set as an integer, a count; as a decimal, a proportion\n",
        "vec = text.CountVectorizer(min_df=5,\n",
        "                           max_df=0.5,\n",
        "                           stop_words='english')\n",
        "dtm = vec.fit_transform(dfPapers['text'])\n",
        "\n",
        "print(f'Shape of document-term matrix: {dtm.shape}. '\n",
        "      f'Number of tokens {dtm.sum()}')"
      ],
      "metadata": {
        "id": "pmhmJTlDp8pn"
      },
      "execution_count": null,
      "outputs": []
    },
    {
      "cell_type": "markdown",
      "source": [
        "Define a model (with 10 components or \"topics\") and use `sklearn`'s `LatentDirichletAllocation` class to do the model fitting."
      ],
      "metadata": {
        "id": "s_YqnI1M-ZNd"
      }
    },
    {
      "cell_type": "code",
      "source": [
        "import sklearn.decomposition as decomposition\n",
        "\n",
        "# parameter estimation: using sklearn's default estimation method\n",
        "# in the class LatentDirichletAllocation: variational inference\n",
        "\n",
        "# DEPENDING ON THE CORPUS SIZE THIS CAN TAKE A WHILE\n",
        "\n",
        "# define model\n",
        "model = decomposition.LatentDirichletAllocation(\n",
        "    n_components=10, learning_method='online', random_state=1)\n",
        "\n",
        "document_topic_distributions = model.fit_transform(dtm)"
      ],
      "metadata": {
        "id": "HmiI463ACYPe"
      },
      "execution_count": null,
      "outputs": []
    },
    {
      "cell_type": "code",
      "source": [
        "# Get array of \"columns\" (unique words) in our model\n",
        "# These should be identical with the terms we extracted above\n",
        "vocabulary = vec.get_feature_names_out()"
      ],
      "metadata": {
        "id": "LugbmltjCq7o"
      },
      "execution_count": null,
      "outputs": []
    },
    {
      "cell_type": "code",
      "source": [
        "# run this cell to see these column headings\n",
        "vocabulary"
      ],
      "metadata": {
        "id": "T2YIrMSeOmaZ"
      },
      "execution_count": null,
      "outputs": []
    },
    {
      "cell_type": "markdown",
      "source": [
        "From the model created by `sklearn` extract the topic-word-distributions and the document-topic distributions and store them in two tables (DataFrames). _Topic-word-distributions_ refers to the probabilities that specific words are associated with a given topic; _Document-topic-distributions_ to the probabilities that a certain topic is associated with a given document."
      ],
      "metadata": {
        "id": "afUgdfBvf8B_"
      }
    },
    {
      "cell_type": "code",
      "source": [
        "# For convenience label the topics Topic 1, Topic 2, etc.\n",
        "# We need to add one to each current topic number for 1 indexing rather than 0.\n",
        "\n",
        "topic_names = [f'Topic {str(k + 1)}' for k in range(10)]\n",
        "\n",
        "# save topic word distributions and document topic distributions in separate dfs\n",
        "\n",
        "# topic word distributions shows how much words are associated with each topic\n",
        "topic_word_distributions = pd.DataFrame(\n",
        "    model.components_, columns=vocabulary, index=topic_names)\n",
        "\n",
        "# document topic distributions shows how much topics\n",
        "# are associated with each document\n",
        "document_topic_distributions = pd.DataFrame(\n",
        "    document_topic_distributions, columns=topic_names, index=dfPapers.index)\n",
        "\n",
        "# The next cells show what these two dataframes look like"
      ],
      "metadata": {
        "id": "IB5o0ue_DAp-"
      },
      "execution_count": null,
      "outputs": []
    },
    {
      "cell_type": "markdown",
      "source": [
        "***Topic word distributions:***   \n",
        "For each topic (row), give the probability of each word (column) being associated with that topic"
      ],
      "metadata": {
        "id": "LZ8Ep1p2xN4r"
      }
    },
    {
      "cell_type": "code",
      "source": [
        "topic_word_distributions"
      ],
      "metadata": {
        "id": "uGxdkwMExZAL"
      },
      "execution_count": null,
      "outputs": []
    },
    {
      "cell_type": "markdown",
      "source": [
        "***Document topic distributions:***    \n",
        "For each document (row), give the probability that any given topic (column) is associated with that document:"
      ],
      "metadata": {
        "id": "TtuERj8jxR5n"
      }
    },
    {
      "cell_type": "code",
      "source": [
        "document_topic_distributions"
      ],
      "metadata": {
        "id": "Eds1u43oxyFU"
      },
      "execution_count": null,
      "outputs": []
    },
    {
      "cell_type": "markdown",
      "source": [
        "## Evaluating the results of our LDA model"
      ],
      "metadata": {
        "id": "YxNunJEbJbSa"
      }
    },
    {
      "cell_type": "markdown",
      "source": [
        "We can use the document topic distribution table to find the top topics associated with any given document. This example uses  Federalist 12 (row 11; Python starts lists at 0). You can change the number to test other documents."
      ],
      "metadata": {
        "id": "oZ_fWEs_zizV"
      }
    },
    {
      "cell_type": "code",
      "source": [
        "doc_num = 11\n",
        "\n",
        "# unsorted:\n",
        "print(f'Topics in Federalist {doc_num + 1}')\n",
        "print(document_topic_distributions.loc[doc_num])\n",
        "\n",
        "# sorted:\n",
        "print(f\"\\nTopics in Federalist {doc_num + 1}, Sorted\")\n",
        "topic_dist_test = document_topic_distributions.loc[doc_num]\n",
        "topic_dist_test.sort_values(ascending=False)"
      ],
      "metadata": {
        "id": "4BT-vWPOPfVZ"
      },
      "execution_count": null,
      "outputs": []
    },
    {
      "cell_type": "markdown",
      "source": [
        "We can also transpose (`.T`) the table to show how documents are associated with individual topics. This cell extracts the document (by column no.) with the highest probability."
      ],
      "metadata": {
        "id": "RmBgurXz1dRS"
      }
    },
    {
      "cell_type": "code",
      "source": [
        "# documents most strongly associated with each topic\n",
        "d = document_topic_distributions.T.eq(document_topic_distributions.T.max(\n",
        "                                      axis=1),axis=0)\n",
        "d.dot(d.columns)"
      ],
      "metadata": {
        "id": "kAkUjhItdV_v"
      },
      "execution_count": null,
      "outputs": []
    },
    {
      "cell_type": "markdown",
      "source": [
        "With the topic word distributions dataframe we created earlier, we can make a table that presents the top `n` words (we are using ten; again, you can experiment) associated with each topic.   \n",
        "This is usually a more informative way of thinking about our topics than just the numerical label."
      ],
      "metadata": {
        "id": "pGF7DRqV9YlM"
      }
    },
    {
      "cell_type": "code",
      "source": [
        "# create df with topic names as index and joined top n words as content\n",
        "# function to get the top n words sorted\n",
        "def word_dist_for_topic(topic,n):\n",
        "    \"\"\"\n",
        "    returns the top n words for specified topic\n",
        "    \"\"\"\n",
        "    twd = topic_word_distributions.loc[topic].sort_values(ascending=False).head(n)\n",
        "    return twd\n",
        "\n",
        "n = 10 # number of words to return\n",
        "\n",
        "\n",
        "topics_dict = dict()\n",
        "for t in topic_names:\n",
        "    topic_words = word_dist_for_topic(t,n)\n",
        "    topic_top_words_joined = \", \".join(topic_words.index)\n",
        "    topics_dict[t]=topic_top_words_joined\n",
        "\n",
        "topics_df = pd.DataFrame(topics_dict.items(),columns=['topic','topic words'])\n",
        "topics_df.set_index('topic')\n",
        "\n",
        "# display topics and most strongly associated topic words\n",
        "print (\"Topics and Topic Words\")\n",
        "topics_df"
      ],
      "metadata": {
        "id": "yEDCEpfULc1o"
      },
      "execution_count": null,
      "outputs": []
    },
    {
      "cell_type": "markdown",
      "source": [
        "With these pieces in place, we can create a table that shows, for each document (row), the most strongly associated topic (by label) and the corresponding topic words.\n"
      ],
      "metadata": {
        "id": "mdbiXH6QtDps"
      }
    },
    {
      "cell_type": "code",
      "source": [
        "# idxmax will give us the column with the highest value in each row\n",
        "df = pd.DataFrame(document_topic_distributions.idxmax(axis=1))\n",
        "\n",
        "# provide a name for the topic column\n",
        "df.rename(columns={0: 'topic'},inplace=True)\n",
        "\n",
        "\n",
        "df['lda_keywords'] = df['topic'].apply(lambda x :\n",
        "                                 topics_df.loc[topics_df['topic'] == x,\n",
        "                                'topic words'].item())\n",
        "\n",
        "# view a snapshot of the table.\n",
        "df"
      ],
      "metadata": {
        "id": "lNC-ViJ8f7j2"
      },
      "execution_count": null,
      "outputs": []
    },
    {
      "cell_type": "markdown",
      "source": [
        "## Comparing the results of TF-IDF and LDA\n",
        "If you've done this tutorial straight through, you can now compare the results of TF-IDF and LDA on each of the Federalist Papers."
      ],
      "metadata": {
        "id": "p1n_C0XZnCBx"
      }
    },
    {
      "cell_type": "code",
      "source": [
        "# Comparing TFIDF results and LDA.\n",
        "dfPapers = dfPapers.join(df)[['num','title','tfidf_keywords','topic','lda_keywords']]\n",
        "dfPapers"
      ],
      "metadata": {
        "id": "56MTBptvPbmF"
      },
      "execution_count": null,
      "outputs": []
    },
    {
      "cell_type": "markdown",
      "source": [
        "## Visualizing our tf-idf and lda models using PCA\n",
        "\n",
        "We are plotting the documents in two dimensional space, as we did for author identification, but this time using the results of our tf-idf model and our LDA model\n"
      ],
      "metadata": {
        "id": "kcs_pxL8PTDC"
      }
    },
    {
      "cell_type": "code",
      "source": [
        "# use the tf-idf data we calculated earler\n",
        "pca = PCA(n_components=2).fit_transform(dfTFIDF)\n",
        "\n",
        "import matplotlib.pyplot as plt\n",
        "x = [i[0] for i in pca]\n",
        "y = [i[1] for i in pca]\n",
        "n = dfPapers['num']\n",
        "\n",
        "\n",
        "fig = plt.figure(figsize = (8,8))\n",
        "ax = fig.add_subplot(1,1,1)\n",
        "ax.set_xlabel('Principal Component 1', fontsize = 15)\n",
        "ax.set_ylabel('Principal Component 2', fontsize = 15)\n",
        "ax.set_title('2 component PCA', fontsize = 20)\n",
        "ax.scatter(x,y)\n",
        "\n",
        "\n",
        "for i, txt in enumerate(n):\n",
        "    ax.annotate(txt, (x[i], y[i]))\n",
        "\n",
        "plt.show()"
      ],
      "metadata": {
        "id": "kgRt6paXU0kr"
      },
      "execution_count": null,
      "outputs": []
    },
    {
      "cell_type": "markdown",
      "source": [
        "Use the table (`dfPapers`) we have been using to collect information about out texts to evaluate our results.\n",
        "     \n",
        "Do nos. 4, 5, 8, 11, 12 belong together?   \n",
        "\n",
        "Did LDA assign these to the same topic?"
      ],
      "metadata": {
        "id": "dSzVYBVld3P_"
      }
    },
    {
      "cell_type": "code",
      "source": [
        "dfPapers[['num','title','topic','tfidf_keywords']]"
      ],
      "metadata": {
        "id": "YRCkiD7Cduse"
      },
      "execution_count": null,
      "outputs": []
    },
    {
      "cell_type": "markdown",
      "source": [
        "### plotting the topic distribution of the documents using PCA\n",
        "\n"
      ],
      "metadata": {
        "id": "XMrTLIj7djx0"
      }
    },
    {
      "cell_type": "code",
      "source": [
        "# use the lda data we calculated earler\n",
        "pca = PCA(n_components=2).fit_transform(document_topic_distributions)\n",
        "\n",
        "import matplotlib.pyplot as plt\n",
        "x = [i[0] for i in pca]\n",
        "y = [i[1] for i in pca]\n",
        "n = dfPapers['num']\n",
        "\n",
        "\n",
        "fig = plt.figure(figsize = (8,8))\n",
        "ax = fig.add_subplot(1,1,1)\n",
        "ax.set_xlabel('Principal Component 1', fontsize = 15)\n",
        "ax.set_ylabel('Principal Component 2', fontsize = 15)\n",
        "ax.set_title('2 component PCA', fontsize = 20)\n",
        "ax.scatter(x,y)\n",
        "\n",
        "\n",
        "for i, txt in enumerate(n):\n",
        "    ax.annotate(txt, (x[i], y[i]))\n",
        "\n",
        "plt.show()"
      ],
      "metadata": {
        "id": "7eVm33bcWmk2"
      },
      "execution_count": null,
      "outputs": []
    },
    {
      "cell_type": "markdown",
      "source": [
        "Use the table (`dfPapers`) we have been using to collect information about out texts to evaluate our results.\n",
        "   \n",
        "Do nos. 3, 23, and 24 belong together?   "
      ],
      "metadata": {
        "id": "hZmZb8mPfpIw"
      }
    },
    {
      "cell_type": "code",
      "source": [
        "dfPapers[['num','title','topic','lda_keywords']]"
      ],
      "metadata": {
        "id": "Hkg_0sOQfpI1"
      },
      "execution_count": null,
      "outputs": []
    },
    {
      "cell_type": "markdown",
      "source": [
        "## Visualizing our LDA **topics** using pyLDAvis\n",
        "\n",
        "\n",
        "* `relevance` is a mesaure of how important the term is within the topic\n",
        "* `saliency` measures how important the word is for distinguishing topics"
      ],
      "metadata": {
        "id": "7hUZ1DhXbGEc"
      }
    },
    {
      "cell_type": "code",
      "execution_count": null,
      "metadata": {
        "id": "3u_qDVM7uxUf"
      },
      "outputs": [],
      "source": [
        "!pip install pyLDAvis\n",
        "# required because of dependencies\n",
        "#!pip install pandas==1.5.3"
      ]
    },
    {
      "cell_type": "code",
      "execution_count": null,
      "metadata": {
        "id": "wl9romo-sOPp"
      },
      "outputs": [],
      "source": [
        "import pyLDAvis\n",
        "import pyLDAvis.lda_model\n",
        "\n",
        "pyLDAvis.enable_notebook()\n",
        "# sort_topics = False retains the original order of the topics\n",
        "vis = pyLDAvis.lda_model.prepare(model, dtm, vec, sort_topics=False) #, mds='tsne')\n",
        "pyLDAvis.display(vis)"
      ]
    },
    {
      "cell_type": "markdown",
      "source": [
        "# A Word About Vector Space\n",
        "For \"Burrow's Delta\" we calculated a single statistic for each author that combined our measurements for each feature.    \n",
        "In our experiments with PCA and t-SNE, we did something else: we represented each document as a ***vector***, a numerical expression with values for each feature.        \n",
        "TF-IDF is a method for calculating and weighting the values individual features will have.  \n",
        "In LDA, a \"topic\" is a vector with values (probabilities) that any of the words in our model is associated with that topic. A \"document\" is represented as a vector with values across all the topics.   \n",
        "The number of features that we use dictates the number of dimensions that we need to express our vector in a multi-dimensional space. The mathematics of vectors in multi-dimensional space is central to machine learning and AI methods. A standard task in interpeting results in complex vector space  is to reduce (and reconfigure) the number of dimensions to a number (typically two or three, which humans can imagine in visually) along which the most important differences or similarities can be measured. t-SNE and PCA are methods for doing precisely this. LDA is also effectively a type of dimension reduction, limiting them to the number of topics.  \n",
        "The Python library [pyLDAvis]('https://pyldavis.readthedocs.io/en/latest/readme.html') provides tools to visualize the results of LDA in two dimensional space."
      ],
      "metadata": {
        "id": "57a6TTlzta6K"
      }
    }
  ]
}